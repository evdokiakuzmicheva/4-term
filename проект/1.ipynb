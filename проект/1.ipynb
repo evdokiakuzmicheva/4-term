{
 "cells": [
  {
   "cell_type": "code",
   "execution_count": 2,
   "metadata": {},
   "outputs": [],
   "source": [
    "from sympy import Matrix, symbols, init_printing, diag, together, simplify, sqrt\n",
    "import numpy as np\n",
    "import matplotlib.pyplot as plt\n",
    "init_printing()"
   ]
  },
  {
   "cell_type": "markdown",
   "metadata": {},
   "source": [
    "#### Акустика:\n",
    "$$\\rho_a \\frac{\\partial v_x}{\\partial t} + \\frac{\\partial p}{\\partial x} = 0$$\n",
    "$$\\rho_a \\frac{\\partial v_y}{\\partial t} + \\frac{\\partial p}{\\partial y} = 0$$\n",
    "$$ \\frac{\\partial p}{\\partial t} + \\rho_a c^2 \\frac{\\partial v_x}{\\partial x} + \\rho_a c^2 \\frac{\\partial v_y}{\\partial y} = 0$$\n",
    "\n",
    "$$\\frac{\\partial \\overrightarrow q}{\\partial t} + A_a^x \\frac{\\partial \\overrightarrow q}{\\partial x} + A_a^y \\frac{\\partial \\overrightarrow q}{\\partial y} = 0, \\overrightarrow q_a = \\left(v_x, v_y, p \\right)$$"
   ]
  },
  {
   "cell_type": "code",
   "execution_count": 3,
   "metadata": {},
   "outputs": [
    {
     "name": "stdout",
     "output_type": "stream",
     "text": [
      "A_x_a:\n"
     ]
    },
    {
     "data": {
      "text/latex": [
       "$\\displaystyle \\left[\\begin{matrix}0 & 0 & \\frac{1}{\\rho_{a}}\\\\0 & 0 & 0\\\\c^{2} \\rho_{a} & 0 & 0\\end{matrix}\\right]$"
      ],
      "text/plain": [
       "⎡          1 ⎤\n",
       "⎢  0    0  ──⎥\n",
       "⎢          ρₐ⎥\n",
       "⎢            ⎥\n",
       "⎢  0    0  0 ⎥\n",
       "⎢            ⎥\n",
       "⎢ 2          ⎥\n",
       "⎣c ⋅ρₐ  0  0 ⎦"
      ]
     },
     "metadata": {},
     "output_type": "display_data"
    },
    {
     "name": "stdout",
     "output_type": "stream",
     "text": [
      "Eigenvectors:\n"
     ]
    },
    {
     "data": {
      "text/latex": [
       "$\\displaystyle \\left[ \\left( 0, \\  1, \\  \\left[ \\left[\\begin{matrix}0\\\\1\\\\0\\end{matrix}\\right]\\right]\\right), \\  \\left( - c, \\  1, \\  \\left[ \\left[\\begin{matrix}- \\frac{1}{c \\rho_{a}}\\\\0\\\\1\\end{matrix}\\right]\\right]\\right), \\  \\left( c, \\  1, \\  \\left[ \\left[\\begin{matrix}\\frac{1}{c \\rho_{a}}\\\\0\\\\1\\end{matrix}\\right]\\right]\\right)\\right]$"
      ],
      "text/plain": [
       "⎡               ⎛       ⎡⎡-1  ⎤⎤⎞  ⎛      ⎡⎡ 1  ⎤⎤⎞⎤\n",
       "⎢⎛      ⎡⎡0⎤⎤⎞  ⎜       ⎢⎢────⎥⎥⎟  ⎜      ⎢⎢────⎥⎥⎟⎥\n",
       "⎢⎜      ⎢⎢ ⎥⎥⎟  ⎜       ⎢⎢c⋅ρₐ⎥⎥⎟  ⎜      ⎢⎢c⋅ρₐ⎥⎥⎟⎥\n",
       "⎢⎜0, 1, ⎢⎢1⎥⎥⎟, ⎜-c, 1, ⎢⎢    ⎥⎥⎟, ⎜c, 1, ⎢⎢    ⎥⎥⎟⎥\n",
       "⎢⎜      ⎢⎢ ⎥⎥⎟  ⎜       ⎢⎢ 0  ⎥⎥⎟  ⎜      ⎢⎢ 0  ⎥⎥⎟⎥\n",
       "⎢⎝      ⎣⎣0⎦⎦⎠  ⎜       ⎢⎢    ⎥⎥⎟  ⎜      ⎢⎢    ⎥⎥⎟⎥\n",
       "⎣               ⎝       ⎣⎣ 1  ⎦⎦⎠  ⎝      ⎣⎣ 1  ⎦⎦⎠⎦"
      ]
     },
     "metadata": {},
     "output_type": "display_data"
    },
    {
     "name": "stdout",
     "output_type": "stream",
     "text": [
      "A_y_a:\n"
     ]
    },
    {
     "data": {
      "text/latex": [
       "$\\displaystyle \\left[\\begin{matrix}0 & 0 & 0\\\\0 & 0 & \\frac{1}{\\rho_{a}}\\\\0 & c^{2} \\rho_{a} & 0\\end{matrix}\\right]$"
      ],
      "text/plain": [
       "⎡0    0    0 ⎤\n",
       "⎢            ⎥\n",
       "⎢          1 ⎥\n",
       "⎢0    0    ──⎥\n",
       "⎢          ρₐ⎥\n",
       "⎢            ⎥\n",
       "⎢    2       ⎥\n",
       "⎣0  c ⋅ρₐ  0 ⎦"
      ]
     },
     "metadata": {},
     "output_type": "display_data"
    },
    {
     "name": "stdout",
     "output_type": "stream",
     "text": [
      "Eigenvectors:\n"
     ]
    },
    {
     "data": {
      "text/latex": [
       "$\\displaystyle \\left[ \\left( 0, \\  1, \\  \\left[ \\left[\\begin{matrix}1\\\\0\\\\0\\end{matrix}\\right]\\right]\\right), \\  \\left( - c, \\  1, \\  \\left[ \\left[\\begin{matrix}0\\\\- \\frac{1}{c \\rho_{a}}\\\\1\\end{matrix}\\right]\\right]\\right), \\  \\left( c, \\  1, \\  \\left[ \\left[\\begin{matrix}0\\\\\\frac{1}{c \\rho_{a}}\\\\1\\end{matrix}\\right]\\right]\\right)\\right]$"
      ],
      "text/plain": [
       "⎡               ⎛       ⎡⎡ 0  ⎤⎤⎞  ⎛      ⎡⎡ 0  ⎤⎤⎞⎤\n",
       "⎢⎛      ⎡⎡1⎤⎤⎞  ⎜       ⎢⎢    ⎥⎥⎟  ⎜      ⎢⎢    ⎥⎥⎟⎥\n",
       "⎢⎜      ⎢⎢ ⎥⎥⎟  ⎜       ⎢⎢-1  ⎥⎥⎟  ⎜      ⎢⎢ 1  ⎥⎥⎟⎥\n",
       "⎢⎜0, 1, ⎢⎢0⎥⎥⎟, ⎜-c, 1, ⎢⎢────⎥⎥⎟, ⎜c, 1, ⎢⎢────⎥⎥⎟⎥\n",
       "⎢⎜      ⎢⎢ ⎥⎥⎟  ⎜       ⎢⎢c⋅ρₐ⎥⎥⎟  ⎜      ⎢⎢c⋅ρₐ⎥⎥⎟⎥\n",
       "⎢⎝      ⎣⎣0⎦⎦⎠  ⎜       ⎢⎢    ⎥⎥⎟  ⎜      ⎢⎢    ⎥⎥⎟⎥\n",
       "⎣               ⎝       ⎣⎣ 1  ⎦⎦⎠  ⎝      ⎣⎣ 1  ⎦⎦⎠⎦"
      ]
     },
     "metadata": {},
     "output_type": "display_data"
    },
    {
     "name": "stdout",
     "output_type": "stream",
     "text": [
      "[Matrix of eigenvalues] Lambda_x_a = Lambda_y_a\n"
     ]
    },
    {
     "data": {
      "text/latex": [
       "$\\displaystyle \\left[\\begin{matrix}0 & 0 & 0\\\\0 & - c & 0\\\\0 & 0 & c\\end{matrix}\\right]$"
      ],
      "text/plain": [
       "⎡0  0   0⎤\n",
       "⎢        ⎥\n",
       "⎢0  -c  0⎥\n",
       "⎢        ⎥\n",
       "⎣0  0   c⎦"
      ]
     },
     "metadata": {},
     "output_type": "display_data"
    },
    {
     "name": "stdout",
     "output_type": "stream",
     "text": [
      "Omega_x_a:\n"
     ]
    },
    {
     "data": {
      "text/latex": [
       "$\\displaystyle \\left[\\begin{matrix}0 & 1 & 0\\\\- \\frac{c \\rho_{a}}{2} & 0 & \\frac{1}{2}\\\\\\frac{c \\rho_{a}}{2} & 0 & \\frac{1}{2}\\end{matrix}\\right]$"
      ],
      "text/plain": [
       "⎡  0     1   0 ⎤\n",
       "⎢              ⎥\n",
       "⎢-c⋅ρₐ         ⎥\n",
       "⎢──────  0  1/2⎥\n",
       "⎢  2           ⎥\n",
       "⎢              ⎥\n",
       "⎢ c⋅ρₐ         ⎥\n",
       "⎢ ────   0  1/2⎥\n",
       "⎣  2           ⎦"
      ]
     },
     "metadata": {},
     "output_type": "display_data"
    },
    {
     "name": "stdout",
     "output_type": "stream",
     "text": [
      "Omega_x_a_inv:\n"
     ]
    },
    {
     "data": {
      "text/latex": [
       "$\\displaystyle \\left[\\begin{matrix}0 & - \\frac{1}{c \\rho_{a}} & \\frac{1}{c \\rho_{a}}\\\\1 & 0 & 0\\\\0 & 1 & 1\\end{matrix}\\right]$"
      ],
      "text/plain": [
       "⎡   -1     1  ⎤\n",
       "⎢0  ────  ────⎥\n",
       "⎢   c⋅ρₐ  c⋅ρₐ⎥\n",
       "⎢             ⎥\n",
       "⎢1   0     0  ⎥\n",
       "⎢             ⎥\n",
       "⎣0   1     1  ⎦"
      ]
     },
     "metadata": {},
     "output_type": "display_data"
    },
    {
     "name": "stdout",
     "output_type": "stream",
     "text": [
      "Omega_y_a:\n"
     ]
    },
    {
     "data": {
      "text/latex": [
       "$\\displaystyle \\left[\\begin{matrix}1 & 0 & 0\\\\0 & - \\frac{c \\rho_{a}}{2} & \\frac{1}{2}\\\\0 & \\frac{c \\rho_{a}}{2} & \\frac{1}{2}\\end{matrix}\\right]$"
      ],
      "text/plain": [
       "⎡1    0      0 ⎤\n",
       "⎢              ⎥\n",
       "⎢   -c⋅ρₐ      ⎥\n",
       "⎢0  ──────  1/2⎥\n",
       "⎢     2        ⎥\n",
       "⎢              ⎥\n",
       "⎢    c⋅ρₐ      ⎥\n",
       "⎢0   ────   1/2⎥\n",
       "⎣     2        ⎦"
      ]
     },
     "metadata": {},
     "output_type": "display_data"
    },
    {
     "name": "stdout",
     "output_type": "stream",
     "text": [
      "Omega_y_a_inv:\n"
     ]
    },
    {
     "data": {
      "text/latex": [
       "$\\displaystyle \\left[\\begin{matrix}1 & 0 & 0\\\\0 & - \\frac{1}{c \\rho_{a}} & \\frac{1}{c \\rho_{a}}\\\\0 & 1 & 1\\end{matrix}\\right]$"
      ],
      "text/plain": [
       "⎡1   0     0  ⎤\n",
       "⎢             ⎥\n",
       "⎢   -1     1  ⎥\n",
       "⎢0  ────  ────⎥\n",
       "⎢   c⋅ρₐ  c⋅ρₐ⎥\n",
       "⎢             ⎥\n",
       "⎣0   1     1  ⎦"
      ]
     },
     "metadata": {},
     "output_type": "display_data"
    },
    {
     "name": "stdout",
     "output_type": "stream",
     "text": [
      "Omega_x_a * q\n"
     ]
    },
    {
     "data": {
      "text/latex": [
       "$\\displaystyle \\left[\\begin{matrix}v_{y}\\\\- \\frac{c \\rho_{a} v_{x}}{2} + \\frac{p}{2}\\\\\\frac{c \\rho_{a} v_{x}}{2} + \\frac{p}{2}\\end{matrix}\\right]$"
      ],
      "text/plain": [
       "⎡     v_y     ⎤\n",
       "⎢             ⎥\n",
       "⎢  c⋅ρₐ⋅vₓ   p⎥\n",
       "⎢- ─────── + ─⎥\n",
       "⎢     2      2⎥\n",
       "⎢             ⎥\n",
       "⎢ c⋅ρₐ⋅vₓ   p ⎥\n",
       "⎢ ─────── + ─ ⎥\n",
       "⎣    2      2 ⎦"
      ]
     },
     "metadata": {},
     "output_type": "display_data"
    },
    {
     "name": "stdout",
     "output_type": "stream",
     "text": [
      "Omega_y_a * q\n"
     ]
    },
    {
     "data": {
      "text/latex": [
       "$\\displaystyle \\left[\\begin{matrix}v_{x}\\\\- \\frac{c \\rho_{a} v_{y}}{2} + \\frac{p}{2}\\\\\\frac{c \\rho_{a} v_{y}}{2} + \\frac{p}{2}\\end{matrix}\\right]$"
      ],
      "text/plain": [
       "⎡      vₓ      ⎤\n",
       "⎢              ⎥\n",
       "⎢  c⋅ρₐ⋅v_y   p⎥\n",
       "⎢- ──────── + ─⎥\n",
       "⎢     2       2⎥\n",
       "⎢              ⎥\n",
       "⎢ c⋅ρₐ⋅v_y   p ⎥\n",
       "⎢ ──────── + ─ ⎥\n",
       "⎣    2       2 ⎦"
      ]
     },
     "metadata": {},
     "output_type": "display_data"
    },
    {
     "name": "stdout",
     "output_type": "stream",
     "text": [
      "Omega_x_a_inv * w\n"
     ]
    },
    {
     "data": {
      "text/latex": [
       "$\\displaystyle \\left[\\begin{matrix}\\frac{- w_{2} + w_{3}}{c \\rho_{a}}\\\\w_{1}\\\\w_{2} + w_{3}\\end{matrix}\\right]$"
      ],
      "text/plain": [
       "⎡-w₂ + w₃⎤\n",
       "⎢────────⎥\n",
       "⎢  c⋅ρₐ  ⎥\n",
       "⎢        ⎥\n",
       "⎢   w₁   ⎥\n",
       "⎢        ⎥\n",
       "⎣w₂ + w₃ ⎦"
      ]
     },
     "metadata": {},
     "output_type": "display_data"
    },
    {
     "name": "stdout",
     "output_type": "stream",
     "text": [
      "Omega_y_a_inv * w\n"
     ]
    },
    {
     "data": {
      "text/latex": [
       "$\\displaystyle \\left[\\begin{matrix}w_{1}\\\\\\frac{- w_{2} + w_{3}}{c \\rho_{a}}\\\\w_{2} + w_{3}\\end{matrix}\\right]$"
      ],
      "text/plain": [
       "⎡   w₁   ⎤\n",
       "⎢        ⎥\n",
       "⎢-w₂ + w₃⎥\n",
       "⎢────────⎥\n",
       "⎢  c⋅ρₐ  ⎥\n",
       "⎢        ⎥\n",
       "⎣w₂ + w₃ ⎦"
      ]
     },
     "metadata": {},
     "output_type": "display_data"
    }
   ],
   "source": [
    "rho_a, c, v_x, v_y, p, w1, w2, w3 = symbols('rho_a c v_x v_y p w_1 w_2 w_3')\n",
    "A_x_a = Matrix([[0, 0, 1 / rho_a], [0, 0, 0], [(rho_a * c ** 2), 0, 0]])\n",
    "print('A_x_a:')\n",
    "display(A_x_a)\n",
    "print('Eigenvectors:')\n",
    "display(A_x_a.eigenvects())\n",
    "\n",
    "A_y_a = Matrix([[0, 0, 0], [0, 0, 1 / rho_a], [0, (rho_a * c ** 2), 0]])\n",
    "print('A_y_a:')\n",
    "display(A_y_a)\n",
    "print('Eigenvectors:')\n",
    "display(A_y_a.eigenvects())\n",
    "\n",
    "print('[Matrix of eigenvalues] Lambda_x_a = Lambda_y_a')\n",
    "Lambda_x_a, Lambda_y_a = diag(0, -c, c), diag(0, -c, c)\n",
    "display(Lambda_x_a)\n",
    "\n",
    "Omega_x_a_inv = Matrix([[0, -1 / (c * rho_a), 1 / (c * rho_a)], [1, 0, 0], [0, 1, 1]])\n",
    "Omega_x_a = Omega_x_a_inv.inv()\n",
    "print('Omega_x_a:')\n",
    "display(Omega_x_a)\n",
    "print('Omega_x_a_inv:')\n",
    "display(Omega_x_a_inv)\n",
    "\n",
    "Omega_y_a_inv = Matrix([[1, 0, 0], [0, -1 / (c * rho_a), 1 / (c * rho_a)], [0, 1, 1]])\n",
    "Omega_y_a = Omega_y_a_inv.inv()\n",
    "print('Omega_y_a:')\n",
    "display(Omega_y_a)\n",
    "print('Omega_y_a_inv:')\n",
    "display(Omega_y_a_inv)\n",
    "\n",
    "q = Matrix([v_x, v_y, p])\n",
    "print('Omega_x_a * q')\n",
    "display(simplify(together(Omega_x_a * q)))\n",
    "print('Omega_y_a * q')\n",
    "display(simplify(together(Omega_y_a * q)))\n",
    "\n",
    "w = Matrix([w1, w2, w3])\n",
    "print('Omega_x_a_inv * w')\n",
    "display(simplify(together(Omega_x_a_inv * w)))\n",
    "print('Omega_y_a_inv * w')\n",
    "display(simplify(together(Omega_y_a_inv * w)))"
   ]
  },
  {
   "cell_type": "code",
   "execution_count": 7,
   "metadata": {},
   "outputs": [],
   "source": [
    "def Ac_Omega_x(q):\n",
    "    v_x, v_y, p = q\n",
    "    return (v_y, (p - c * rho_a * v_x) / 2, (p + c * rho_a * v_x) / 2)\n",
    "\n",
    "def Ac_Omega_y(q):\n",
    "    v_x, v_y, p = q\n",
    "    return (v_x, (p - c * rho_a * v_y) / 2, (p + c * rho_a * v_y) / 2)\n",
    "\n",
    "def Ac_Omega_x_inv(w):\n",
    "    w1, w2, w3 = w\n",
    "    return ((w3 - w2) / (c * rho_a), w1, w2 + w3)\n",
    "\n",
    "def Ac_Omega_y_inv(w):\n",
    "    w1, w2, w3 = w\n",
    "    return (w1, (w3 - w2) / (c * rho_a), w2 + w3)\n",
    "\n",
    "# Источник\n",
    "def source(k, N):\n",
    "    t = (k + 1) * dt\n",
    "    if k < N:\n",
    "        return np.sin(2.0 * np.pi / f * t)\n",
    "    return 0"
   ]
  },
  {
   "cell_type": "markdown",
   "metadata": {},
   "source": [
    "### Упругая среда:\n",
    "$$  \\frac{\\partial v_x}{\\partial t} - \\frac{1}{\\rho_e} \\frac{\\partial \\sigma_{xx}}{\\partial x} - \\frac{1}{\\rho_e} \\frac{\\partial \\sigma_{xy}}{\\partial y} = 0 $$\n",
    "$$ \\frac{\\partial v_y}{\\partial t} - \\frac{1}{\\rho_e} \\frac{\\partial \\sigma_{yx}}{\\partial x} - \\frac{1}{\\rho_e} \\frac{\\partial \\sigma_{yy}}{\\partial y} = 0 $$\n",
    "$$ \\frac{\\partial \\sigma_{xx}}{\\partial t} - \\left(\\lambda + 2 \\mu \\right) \\frac{\\partial v_x}{\\partial x} - \\lambda \\frac{\\partial v_y}{\\partial y} = 0 $$\n",
    "$$ \\frac{\\partial \\sigma_{yy}}{\\partial t} - \\lambda \\frac{\\partial v_x}{\\partial x} - \\left(\\lambda + 2 \\mu \\right) \\frac{\\partial v_y}{\\partial y} = 0 $$\n",
    "$$ \\frac{\\partial \\sigma_{xy}}{\\partial t} - \\mu \\frac{\\partial v_x}{\\partial y} - \\mu \\frac{\\partial v_y}{\\partial x} = 0 $$\n",
    "\n",
    "$$\\frac{\\partial \\overrightarrow q}{\\partial t} + A_e^x \\frac{\\partial \\overrightarrow q}{\\partial x} + A_e^y \\frac{\\partial \\overrightarrow q}{\\partial y} = 0, \\overrightarrow q_e = \\left(v_x, v_y, \\sigma_{xx}, \\sigma_{yy}, \\sigma_{xy} \\right)$$"
   ]
  },
  {
   "cell_type": "code",
   "execution_count": 8,
   "metadata": {},
   "outputs": [
    {
     "name": "stdout",
     "output_type": "stream",
     "text": [
      "A_x_e:\n"
     ]
    },
    {
     "data": {
      "text/latex": [
       "$\\displaystyle \\left[\\begin{matrix}0 & 0 & - \\frac{1}{\\rho_{e}} & 0 & 0\\\\0 & 0 & 0 & 0 & - \\frac{1}{\\rho_{e}}\\\\- \\lambda - 2 \\mu & 0 & 0 & 0 & 0\\\\- \\lambda & 0 & 0 & 0 & 0\\\\0 & - \\mu & 0 & 0 & 0\\end{matrix}\\right]$"
      ],
      "text/plain": [
       "⎡              -1         ⎤\n",
       "⎢   0      0   ───  0   0 ⎥\n",
       "⎢               ρₑ        ⎥\n",
       "⎢                         ⎥\n",
       "⎢                      -1 ⎥\n",
       "⎢   0      0    0   0  ───⎥\n",
       "⎢                       ρₑ⎥\n",
       "⎢                         ⎥\n",
       "⎢-λ - 2⋅μ  0    0   0   0 ⎥\n",
       "⎢                         ⎥\n",
       "⎢   -λ     0    0   0   0 ⎥\n",
       "⎢                         ⎥\n",
       "⎣   0      -μ   0   0   0 ⎦"
      ]
     },
     "metadata": {},
     "output_type": "display_data"
    },
    {
     "name": "stdout",
     "output_type": "stream",
     "text": [
      "Eigenvectors:\n"
     ]
    },
    {
     "data": {
      "text/latex": [
       "$\\displaystyle \\left[ \\left( 0, \\  1, \\  \\left[ \\left[\\begin{matrix}0\\\\0\\\\0\\\\1\\\\0\\end{matrix}\\right]\\right]\\right), \\  \\left( - \\sqrt{\\frac{\\mu}{\\rho_{e}}}, \\  1, \\  \\left[ \\left[\\begin{matrix}0\\\\\\frac{1}{\\rho_{e} \\sqrt{\\frac{\\mu}{\\rho_{e}}}}\\\\0\\\\0\\\\1\\end{matrix}\\right]\\right]\\right), \\  \\left( \\sqrt{\\frac{\\mu}{\\rho_{e}}}, \\  1, \\  \\left[ \\left[\\begin{matrix}0\\\\- \\frac{1}{\\rho_{e} \\sqrt{\\frac{\\mu}{\\rho_{e}}}}\\\\0\\\\0\\\\1\\end{matrix}\\right]\\right]\\right), \\  \\left( - \\sqrt{\\frac{\\lambda}{\\rho_{e}} + \\frac{2 \\mu}{\\rho_{e}}}, \\  1, \\  \\left[ \\left[\\begin{matrix}\\frac{\\lambda + 2 \\mu}{\\lambda \\rho_{e} \\sqrt{\\frac{\\lambda}{\\rho_{e}} + \\frac{2 \\mu}{\\rho_{e}}}}\\\\0\\\\1 + \\frac{2 \\mu}{\\lambda}\\\\1\\\\0\\end{matrix}\\right]\\right]\\right), \\  \\left( \\sqrt{\\frac{\\lambda}{\\rho_{e}} + \\frac{2 \\mu}{\\rho_{e}}}, \\  1, \\  \\left[ \\left[\\begin{matrix}- \\frac{\\lambda + 2 \\mu}{\\lambda \\rho_{e} \\sqrt{\\frac{\\lambda}{\\rho_{e}} + \\frac{2 \\mu}{\\rho_{e}}}}\\\\0\\\\1 + \\frac{2 \\mu}{\\lambda}\\\\1\\\\0\\end{matrix}\\right]\\right]\\right)\\right]$"
      ],
      "text/plain": [
       "⎡                                                                             \n",
       "⎢               ⎛              ⎡⎡     0     ⎤⎤⎞  ⎛             ⎡⎡     0     ⎤⎤\n",
       "⎢               ⎜              ⎢⎢           ⎥⎥⎟  ⎜             ⎢⎢           ⎥⎥\n",
       "⎢               ⎜              ⎢⎢     1     ⎥⎥⎟  ⎜             ⎢⎢    -1     ⎥⎥\n",
       "⎢⎛      ⎡⎡0⎤⎤⎞  ⎜              ⎢⎢───────────⎥⎥⎟  ⎜             ⎢⎢───────────⎥⎥\n",
       "⎢⎜      ⎢⎢ ⎥⎥⎟  ⎜              ⎢⎢       ____⎥⎥⎟  ⎜             ⎢⎢       ____⎥⎥\n",
       "⎢⎜      ⎢⎢0⎥⎥⎟  ⎜     ____     ⎢⎢      ╱ μ  ⎥⎥⎟  ⎜    ____     ⎢⎢      ╱ μ  ⎥⎥\n",
       "⎢⎜      ⎢⎢ ⎥⎥⎟  ⎜    ╱ μ       ⎢⎢ρₑ⋅  ╱  ── ⎥⎥⎟  ⎜   ╱ μ       ⎢⎢ρₑ⋅  ╱  ── ⎥⎥\n",
       "⎢⎜0, 1, ⎢⎢0⎥⎥⎟, ⎜-  ╱  ── , 1, ⎢⎢   ╲╱   ρₑ ⎥⎥⎟, ⎜  ╱  ── , 1, ⎢⎢   ╲╱   ρₑ ⎥⎥\n",
       "⎢⎜      ⎢⎢ ⎥⎥⎟  ⎜ ╲╱   ρₑ      ⎢⎢           ⎥⎥⎟  ⎜╲╱   ρₑ      ⎢⎢           ⎥⎥\n",
       "⎢⎜      ⎢⎢1⎥⎥⎟  ⎜              ⎢⎢     0     ⎥⎥⎟  ⎜             ⎢⎢     0     ⎥⎥\n",
       "⎢⎜      ⎢⎢ ⎥⎥⎟  ⎜              ⎢⎢           ⎥⎥⎟  ⎜             ⎢⎢           ⎥⎥\n",
       "⎢⎝      ⎣⎣0⎦⎦⎠  ⎜              ⎢⎢     0     ⎥⎥⎟  ⎜             ⎢⎢     0     ⎥⎥\n",
       "⎢               ⎜              ⎢⎢           ⎥⎥⎟  ⎜             ⎢⎢           ⎥⎥\n",
       "⎢               ⎝              ⎣⎣     1     ⎦⎦⎠  ⎝             ⎣⎣     1     ⎦⎦\n",
       "⎣                                                                             \n",
       "\n",
       "   ⎛                    ⎡⎡      λ + 2⋅μ      ⎤⎤⎞  ⎛                   ⎡⎡    -(\n",
       "⎞  ⎜                    ⎢⎢───────────────────⎥⎥⎟  ⎜                   ⎢⎢──────\n",
       "⎟  ⎜                    ⎢⎢         __________⎥⎥⎟  ⎜                   ⎢⎢      \n",
       "⎟  ⎜                    ⎢⎢        ╱ λ    2⋅μ ⎥⎥⎟  ⎜                   ⎢⎢      \n",
       "⎟  ⎜                    ⎢⎢λ⋅ρₑ⋅  ╱  ── + ─── ⎥⎥⎟  ⎜                   ⎢⎢λ⋅ρₑ⋅ \n",
       "⎟  ⎜                    ⎢⎢     ╲╱   ρₑ    ρₑ ⎥⎥⎟  ⎜                   ⎢⎢     ╲\n",
       "⎟  ⎜     __________     ⎢⎢                   ⎥⎥⎟  ⎜    __________     ⎢⎢      \n",
       "⎟  ⎜    ╱ λ    2⋅μ      ⎢⎢         0         ⎥⎥⎟  ⎜   ╱ λ    2⋅μ      ⎢⎢      \n",
       "⎟, ⎜-  ╱  ── + ─── , 1, ⎢⎢                   ⎥⎥⎟, ⎜  ╱  ── + ─── , 1, ⎢⎢      \n",
       "⎟  ⎜ ╲╱   ρₑ    ρₑ      ⎢⎢          2⋅μ      ⎥⎥⎟  ⎜╲╱   ρₑ    ρₑ      ⎢⎢      \n",
       "⎟  ⎜                    ⎢⎢      1 + ───      ⎥⎥⎟  ⎜                   ⎢⎢      \n",
       "⎟  ⎜                    ⎢⎢           λ       ⎥⎥⎟  ⎜                   ⎢⎢      \n",
       "⎟  ⎜                    ⎢⎢                   ⎥⎥⎟  ⎜                   ⎢⎢      \n",
       "⎟  ⎜                    ⎢⎢         1         ⎥⎥⎟  ⎜                   ⎢⎢      \n",
       "⎠  ⎜                    ⎢⎢                   ⎥⎥⎟  ⎜                   ⎢⎢      \n",
       "   ⎝                    ⎣⎣         0         ⎦⎦⎠  ⎝                   ⎣⎣      \n",
       "\n",
       "λ + 2⋅μ)     ⎤⎤⎞⎤\n",
       "─────────────⎥⎥⎟⎥\n",
       "   __________⎥⎥⎟⎥\n",
       "  ╱ λ    2⋅μ ⎥⎥⎟⎥\n",
       " ╱  ── + ─── ⎥⎥⎟⎥\n",
       "╱   ρₑ    ρₑ ⎥⎥⎟⎥\n",
       "             ⎥⎥⎟⎥\n",
       "   0         ⎥⎥⎟⎥\n",
       "             ⎥⎥⎟⎥\n",
       "    2⋅μ      ⎥⎥⎟⎥\n",
       "1 + ───      ⎥⎥⎟⎥\n",
       "     λ       ⎥⎥⎟⎥\n",
       "             ⎥⎥⎟⎥\n",
       "   1         ⎥⎥⎟⎥\n",
       "             ⎥⎥⎟⎥\n",
       "   0         ⎦⎦⎠⎦"
      ]
     },
     "metadata": {},
     "output_type": "display_data"
    },
    {
     "name": "stdout",
     "output_type": "stream",
     "text": [
      "A_y_e:\n"
     ]
    },
    {
     "data": {
      "text/latex": [
       "$\\displaystyle \\left[\\begin{matrix}0 & 0 & 0 & 0 & - \\frac{1}{\\rho_{e}}\\\\0 & 0 & 0 & - \\frac{1}{\\rho_{e}} & 0\\\\0 & - \\lambda & 0 & 0 & 0\\\\0 & - \\lambda - 2 \\mu & 0 & 0 & 0\\\\- \\mu & 0 & 0 & 0 & 0\\end{matrix}\\right]$"
      ],
      "text/plain": [
       "⎡                      -1 ⎤\n",
       "⎢0      0      0   0   ───⎥\n",
       "⎢                       ρₑ⎥\n",
       "⎢                         ⎥\n",
       "⎢                 -1      ⎥\n",
       "⎢0      0      0  ───   0 ⎥\n",
       "⎢                  ρₑ     ⎥\n",
       "⎢                         ⎥\n",
       "⎢0      -λ     0   0    0 ⎥\n",
       "⎢                         ⎥\n",
       "⎢0   -λ - 2⋅μ  0   0    0 ⎥\n",
       "⎢                         ⎥\n",
       "⎣-μ     0      0   0    0 ⎦"
      ]
     },
     "metadata": {},
     "output_type": "display_data"
    },
    {
     "name": "stdout",
     "output_type": "stream",
     "text": [
      "Eigenvectors:\n"
     ]
    },
    {
     "data": {
      "text/latex": [
       "$\\displaystyle \\left[ \\left( 0, \\  1, \\  \\left[ \\left[\\begin{matrix}0\\\\0\\\\1\\\\0\\\\0\\end{matrix}\\right]\\right]\\right), \\  \\left( - \\sqrt{\\frac{\\mu}{\\rho_{e}}}, \\  1, \\  \\left[ \\left[\\begin{matrix}\\frac{1}{\\rho_{e} \\sqrt{\\frac{\\mu}{\\rho_{e}}}}\\\\0\\\\0\\\\0\\\\1\\end{matrix}\\right]\\right]\\right), \\  \\left( \\sqrt{\\frac{\\mu}{\\rho_{e}}}, \\  1, \\  \\left[ \\left[\\begin{matrix}- \\frac{1}{\\rho_{e} \\sqrt{\\frac{\\mu}{\\rho_{e}}}}\\\\0\\\\0\\\\0\\\\1\\end{matrix}\\right]\\right]\\right), \\  \\left( - \\sqrt{\\frac{\\lambda}{\\rho_{e}} + \\frac{2 \\mu}{\\rho_{e}}}, \\  1, \\  \\left[ \\left[\\begin{matrix}0\\\\\\frac{1}{\\rho_{e} \\sqrt{\\frac{\\lambda}{\\rho_{e}} + \\frac{2 \\mu}{\\rho_{e}}}}\\\\\\frac{\\lambda}{\\lambda + 2 \\mu}\\\\1\\\\0\\end{matrix}\\right]\\right]\\right), \\  \\left( \\sqrt{\\frac{\\lambda}{\\rho_{e}} + \\frac{2 \\mu}{\\rho_{e}}}, \\  1, \\  \\left[ \\left[\\begin{matrix}0\\\\- \\frac{1}{\\rho_{e} \\sqrt{\\frac{\\lambda}{\\rho_{e}} + \\frac{2 \\mu}{\\rho_{e}}}}\\\\\\frac{\\lambda}{\\lambda + 2 \\mu}\\\\1\\\\0\\end{matrix}\\right]\\right]\\right)\\right]$"
      ],
      "text/plain": [
       "⎡                                                                             \n",
       "⎢               ⎛              ⎡⎡     1     ⎤⎤⎞  ⎛             ⎡⎡    -1     ⎤⎤\n",
       "⎢               ⎜              ⎢⎢───────────⎥⎥⎟  ⎜             ⎢⎢───────────⎥⎥\n",
       "⎢               ⎜              ⎢⎢       ____⎥⎥⎟  ⎜             ⎢⎢       ____⎥⎥\n",
       "⎢⎛      ⎡⎡0⎤⎤⎞  ⎜              ⎢⎢      ╱ μ  ⎥⎥⎟  ⎜             ⎢⎢      ╱ μ  ⎥⎥\n",
       "⎢⎜      ⎢⎢ ⎥⎥⎟  ⎜              ⎢⎢ρₑ⋅  ╱  ── ⎥⎥⎟  ⎜             ⎢⎢ρₑ⋅  ╱  ── ⎥⎥\n",
       "⎢⎜      ⎢⎢0⎥⎥⎟  ⎜     ____     ⎢⎢   ╲╱   ρₑ ⎥⎥⎟  ⎜    ____     ⎢⎢   ╲╱   ρₑ ⎥⎥\n",
       "⎢⎜      ⎢⎢ ⎥⎥⎟  ⎜    ╱ μ       ⎢⎢           ⎥⎥⎟  ⎜   ╱ μ       ⎢⎢           ⎥⎥\n",
       "⎢⎜0, 1, ⎢⎢1⎥⎥⎟, ⎜-  ╱  ── , 1, ⎢⎢     0     ⎥⎥⎟, ⎜  ╱  ── , 1, ⎢⎢     0     ⎥⎥\n",
       "⎢⎜      ⎢⎢ ⎥⎥⎟  ⎜ ╲╱   ρₑ      ⎢⎢           ⎥⎥⎟  ⎜╲╱   ρₑ      ⎢⎢           ⎥⎥\n",
       "⎢⎜      ⎢⎢0⎥⎥⎟  ⎜              ⎢⎢     0     ⎥⎥⎟  ⎜             ⎢⎢     0     ⎥⎥\n",
       "⎢⎜      ⎢⎢ ⎥⎥⎟  ⎜              ⎢⎢           ⎥⎥⎟  ⎜             ⎢⎢           ⎥⎥\n",
       "⎢⎝      ⎣⎣0⎦⎦⎠  ⎜              ⎢⎢     0     ⎥⎥⎟  ⎜             ⎢⎢     0     ⎥⎥\n",
       "⎢               ⎜              ⎢⎢           ⎥⎥⎟  ⎜             ⎢⎢           ⎥⎥\n",
       "⎢               ⎝              ⎣⎣     1     ⎦⎦⎠  ⎝             ⎣⎣     1     ⎦⎦\n",
       "⎣                                                                             \n",
       "\n",
       "   ⎛                    ⎡⎡        0        ⎤⎤⎞  ⎛                   ⎡⎡        \n",
       "⎞  ⎜                    ⎢⎢                 ⎥⎥⎟  ⎜                   ⎢⎢        \n",
       "⎟  ⎜                    ⎢⎢        1        ⎥⎥⎟  ⎜                   ⎢⎢       -\n",
       "⎟  ⎜                    ⎢⎢─────────────────⎥⎥⎟  ⎜                   ⎢⎢────────\n",
       "⎟  ⎜                    ⎢⎢       __________⎥⎥⎟  ⎜                   ⎢⎢       _\n",
       "⎟  ⎜                    ⎢⎢      ╱ λ    2⋅μ ⎥⎥⎟  ⎜                   ⎢⎢      ╱ \n",
       "⎟  ⎜     __________     ⎢⎢ρₑ⋅  ╱  ── + ─── ⎥⎥⎟  ⎜    __________     ⎢⎢ρₑ⋅  ╱  \n",
       "⎟  ⎜    ╱ λ    2⋅μ      ⎢⎢   ╲╱   ρₑ    ρₑ ⎥⎥⎟  ⎜   ╱ λ    2⋅μ      ⎢⎢   ╲╱   \n",
       "⎟, ⎜-  ╱  ── + ─── , 1, ⎢⎢                 ⎥⎥⎟, ⎜  ╱  ── + ─── , 1, ⎢⎢        \n",
       "⎟  ⎜ ╲╱   ρₑ    ρₑ      ⎢⎢        λ        ⎥⎥⎟  ⎜╲╱   ρₑ    ρₑ      ⎢⎢        \n",
       "⎟  ⎜                    ⎢⎢     ───────     ⎥⎥⎟  ⎜                   ⎢⎢     ───\n",
       "⎟  ⎜                    ⎢⎢     λ + 2⋅μ     ⎥⎥⎟  ⎜                   ⎢⎢     λ +\n",
       "⎟  ⎜                    ⎢⎢                 ⎥⎥⎟  ⎜                   ⎢⎢        \n",
       "⎟  ⎜                    ⎢⎢        1        ⎥⎥⎟  ⎜                   ⎢⎢        \n",
       "⎠  ⎜                    ⎢⎢                 ⎥⎥⎟  ⎜                   ⎢⎢        \n",
       "   ⎝                    ⎣⎣        0        ⎦⎦⎠  ⎝                   ⎣⎣        \n",
       "\n",
       "0        ⎤⎤⎞⎤\n",
       "         ⎥⎥⎟⎥\n",
       "1        ⎥⎥⎟⎥\n",
       "─────────⎥⎥⎟⎥\n",
       "_________⎥⎥⎟⎥\n",
       "λ    2⋅μ ⎥⎥⎟⎥\n",
       "── + ─── ⎥⎥⎟⎥\n",
       "ρₑ    ρₑ ⎥⎥⎟⎥\n",
       "         ⎥⎥⎟⎥\n",
       "λ        ⎥⎥⎟⎥\n",
       "────     ⎥⎥⎟⎥\n",
       " 2⋅μ     ⎥⎥⎟⎥\n",
       "         ⎥⎥⎟⎥\n",
       "1        ⎥⎥⎟⎥\n",
       "         ⎥⎥⎟⎥\n",
       "0        ⎦⎦⎠⎦"
      ]
     },
     "metadata": {},
     "output_type": "display_data"
    },
    {
     "name": "stdout",
     "output_type": "stream",
     "text": [
      "Lambda_x = Lambda_y:\n"
     ]
    },
    {
     "data": {
      "text/latex": [
       "$\\displaystyle \\left[\\begin{matrix}0 & 0 & 0 & 0 & 0\\\\0 & - \\sqrt{\\frac{\\mu}{\\rho_{e}}} & 0 & 0 & 0\\\\0 & 0 & \\sqrt{\\frac{\\mu}{\\rho_{e}}} & 0 & 0\\\\0 & 0 & 0 & - \\sqrt{\\frac{\\lambda + 2 \\mu}{\\rho_{e}}} & 0\\\\0 & 0 & 0 & 0 & \\sqrt{\\frac{\\lambda + 2 \\mu}{\\rho_{e}}}\\end{matrix}\\right]$"
      ],
      "text/plain": [
       "⎡0      0         0            0               0      ⎤\n",
       "⎢                                                     ⎥\n",
       "⎢        ____                                         ⎥\n",
       "⎢       ╱ μ                                           ⎥\n",
       "⎢0  -  ╱  ──      0            0               0      ⎥\n",
       "⎢    ╲╱   ρₑ                                          ⎥\n",
       "⎢                                                     ⎥\n",
       "⎢                  ____                               ⎥\n",
       "⎢                 ╱ μ                                 ⎥\n",
       "⎢0      0        ╱  ──         0               0      ⎥\n",
       "⎢              ╲╱   ρₑ                                ⎥\n",
       "⎢                                                     ⎥\n",
       "⎢                             _________               ⎥\n",
       "⎢                            ╱ λ + 2⋅μ                ⎥\n",
       "⎢0      0         0      -  ╱  ───────         0      ⎥\n",
       "⎢                         ╲╱      ρₑ                  ⎥\n",
       "⎢                                                     ⎥\n",
       "⎢                                            _________⎥\n",
       "⎢                                           ╱ λ + 2⋅μ ⎥\n",
       "⎢0      0         0            0           ╱  ─────── ⎥\n",
       "⎣                                        ╲╱      ρₑ   ⎦"
      ]
     },
     "metadata": {},
     "output_type": "display_data"
    },
    {
     "name": "stdout",
     "output_type": "stream",
     "text": [
      "Omega_x_e:\n"
     ]
    },
    {
     "data": {
      "text/latex": [
       "$\\displaystyle \\left[\\begin{matrix}0 & 0 & - \\frac{\\lambda}{\\lambda + 2 \\mu} & 1 & 0\\\\0 & \\frac{\\sqrt{\\mu \\rho_{e}}}{2} & 0 & 0 & \\frac{1}{2}\\\\0 & - \\frac{\\sqrt{\\mu \\rho_{e}}}{2} & 0 & 0 & \\frac{1}{2}\\\\\\frac{\\lambda \\rho_{e} \\sqrt{\\frac{\\lambda + 2 \\mu}{\\rho_{e}}}}{2 \\left(\\lambda + 2 \\mu\\right)} & 0 & \\frac{\\lambda}{2 \\left(\\lambda + 2 \\mu\\right)} & 0 & 0\\\\- \\frac{\\lambda}{2 \\sqrt{\\frac{\\lambda + 2 \\mu}{\\rho_{e}}}} & 0 & \\frac{\\lambda}{2 \\left(\\lambda + 2 \\mu\\right)} & 0 & 0\\end{matrix}\\right]$"
      ],
      "text/plain": [
       "⎡                                    -λ             ⎤\n",
       "⎢        0               0         ───────    1   0 ⎥\n",
       "⎢                                  λ + 2⋅μ          ⎥\n",
       "⎢                                                   ⎥\n",
       "⎢                       ______                      ⎥\n",
       "⎢                     ╲╱ μ⋅ρₑ                       ⎥\n",
       "⎢        0            ────────        0       0  1/2⎥\n",
       "⎢                        2                          ⎥\n",
       "⎢                                                   ⎥\n",
       "⎢                       ______                      ⎥\n",
       "⎢                    -╲╱ μ⋅ρₑ                       ⎥\n",
       "⎢        0           ──────────       0       0  1/2⎥\n",
       "⎢                        2                          ⎥\n",
       "⎢                                                   ⎥\n",
       "⎢         _________                                 ⎥\n",
       "⎢        ╱ λ + 2⋅μ                                  ⎥\n",
       "⎢λ⋅ρₑ⋅  ╱  ───────                                  ⎥\n",
       "⎢     ╲╱      ρₑ                      λ             ⎥\n",
       "⎢──────────────────      0       ───────────  0   0 ⎥\n",
       "⎢   2⋅(λ + 2⋅μ)                  2⋅(λ + 2⋅μ)        ⎥\n",
       "⎢                                                   ⎥\n",
       "⎢       -λ                            λ             ⎥\n",
       "⎢ ───────────────        0       ───────────  0   0 ⎥\n",
       "⎢       _________                2⋅(λ + 2⋅μ)        ⎥\n",
       "⎢      ╱ λ + 2⋅μ                                    ⎥\n",
       "⎢ 2⋅  ╱  ───────                                    ⎥\n",
       "⎣   ╲╱      ρₑ                                      ⎦"
      ]
     },
     "metadata": {},
     "output_type": "display_data"
    },
    {
     "name": "stdout",
     "output_type": "stream",
     "text": [
      "Omega_x_e ^ (-1):\n"
     ]
    },
    {
     "data": {
      "text/latex": [
       "$\\displaystyle \\left[\\begin{matrix}0 & 0 & 0 & \\frac{\\sqrt{\\frac{\\lambda + 2 \\mu}{\\rho_{e}}}}{\\lambda} & - \\frac{\\sqrt{\\frac{\\lambda + 2 \\mu}{\\rho_{e}}}}{\\lambda}\\\\0 & \\frac{1}{\\sqrt{\\mu \\rho_{e}}} & - \\frac{1}{\\sqrt{\\mu \\rho_{e}}} & 0 & 0\\\\0 & 0 & 0 & \\frac{\\lambda + 2 \\mu}{\\lambda} & \\frac{\\lambda + 2 \\mu}{\\lambda}\\\\1 & 0 & 0 & 1 & 1\\\\0 & 1 & 1 & 0 & 0\\end{matrix}\\right]$"
      ],
      "text/plain": [
       "⎡                           _________       _________ ⎤\n",
       "⎢                          ╱ λ + 2⋅μ       ╱ λ + 2⋅μ  ⎥\n",
       "⎢                         ╱  ───────   -  ╱  ───────  ⎥\n",
       "⎢                       ╲╱      ρₑ      ╲╱      ρₑ    ⎥\n",
       "⎢0     0         0      ─────────────  ───────────────⎥\n",
       "⎢                             λ               λ       ⎥\n",
       "⎢                                                     ⎥\n",
       "⎢      1        -1                                    ⎥\n",
       "⎢0  ────────  ────────        0               0       ⎥\n",
       "⎢     ______    ______                                ⎥\n",
       "⎢   ╲╱ μ⋅ρₑ   ╲╱ μ⋅ρₑ                                 ⎥\n",
       "⎢                                                     ⎥\n",
       "⎢                          λ + 2⋅μ         λ + 2⋅μ    ⎥\n",
       "⎢0     0         0         ───────         ───────    ⎥\n",
       "⎢                             λ               λ       ⎥\n",
       "⎢                                                     ⎥\n",
       "⎢1     0         0            1               1       ⎥\n",
       "⎢                                                     ⎥\n",
       "⎣0     1         1            0               0       ⎦"
      ]
     },
     "metadata": {},
     "output_type": "display_data"
    },
    {
     "name": "stdout",
     "output_type": "stream",
     "text": [
      "Omega_y_e:\n"
     ]
    },
    {
     "data": {
      "text/latex": [
       "$\\displaystyle \\left[\\begin{matrix}0 & 0 & 1 & - \\frac{\\lambda}{\\lambda + 2 \\mu} & 0\\\\\\frac{\\sqrt{\\mu \\rho_{e}}}{2} & 0 & 0 & 0 & \\frac{1}{2}\\\\- \\frac{\\sqrt{\\mu \\rho_{e}}}{2} & 0 & 0 & 0 & \\frac{1}{2}\\\\0 & \\frac{\\sqrt{\\rho_{e} \\left(\\lambda + 2 \\mu\\right)}}{2} & 0 & \\frac{1}{2} & 0\\\\0 & - \\frac{\\sqrt{\\rho_{e} \\left(\\lambda + 2 \\mu\\right)}}{2} & 0 & \\frac{1}{2} & 0\\end{matrix}\\right]$"
      ],
      "text/plain": [
       "⎡                                     -λ        ⎤\n",
       "⎢    0               0           1  ───────   0 ⎥\n",
       "⎢                                   λ + 2⋅μ     ⎥\n",
       "⎢                                               ⎥\n",
       "⎢   ______                                      ⎥\n",
       "⎢ ╲╱ μ⋅ρₑ                                       ⎥\n",
       "⎢ ────────           0           0     0     1/2⎥\n",
       "⎢    2                                          ⎥\n",
       "⎢                                               ⎥\n",
       "⎢   ______                                      ⎥\n",
       "⎢-╲╱ μ⋅ρₑ                                       ⎥\n",
       "⎢──────────          0           0     0     1/2⎥\n",
       "⎢    2                                          ⎥\n",
       "⎢                                               ⎥\n",
       "⎢               ______________                  ⎥\n",
       "⎢             ╲╱ ρₑ⋅(λ + 2⋅μ)                   ⎥\n",
       "⎢    0        ────────────────   0    1/2     0 ⎥\n",
       "⎢                    2                          ⎥\n",
       "⎢                                               ⎥\n",
       "⎢               ______________                  ⎥\n",
       "⎢            -╲╱ ρₑ⋅(λ + 2⋅μ)                   ⎥\n",
       "⎢    0       ──────────────────  0    1/2     0 ⎥\n",
       "⎣                    2                          ⎦"
      ]
     },
     "metadata": {},
     "output_type": "display_data"
    },
    {
     "name": "stdout",
     "output_type": "stream",
     "text": [
      "Omega_y_e^(-1):\n"
     ]
    },
    {
     "data": {
      "text/latex": [
       "$\\displaystyle \\left[\\begin{matrix}0 & \\frac{1}{\\sqrt{\\mu \\rho_{e}}} & - \\frac{1}{\\sqrt{\\mu \\rho_{e}}} & 0 & 0\\\\0 & 0 & 0 & \\frac{1}{\\sqrt{\\rho_{e} \\left(\\lambda + 2 \\mu\\right)}} & - \\frac{1}{\\sqrt{\\rho_{e} \\left(\\lambda + 2 \\mu\\right)}}\\\\1 & 0 & 0 & \\frac{\\lambda}{\\lambda + 2 \\mu} & \\frac{\\lambda}{\\lambda + 2 \\mu}\\\\0 & 0 & 0 & 1 & 1\\\\0 & 1 & 1 & 0 & 0\\end{matrix}\\right]$"
      ],
      "text/plain": [
       "⎡      1        -1                                        ⎤\n",
       "⎢0  ────────  ────────         0                 0        ⎥\n",
       "⎢     ______    ______                                    ⎥\n",
       "⎢   ╲╱ μ⋅ρₑ   ╲╱ μ⋅ρₑ                                     ⎥\n",
       "⎢                                                         ⎥\n",
       "⎢                              1                -1        ⎥\n",
       "⎢0     0         0      ────────────────  ────────────────⎥\n",
       "⎢                         ______________    ______________⎥\n",
       "⎢                       ╲╱ ρₑ⋅(λ + 2⋅μ)   ╲╱ ρₑ⋅(λ + 2⋅μ) ⎥\n",
       "⎢                                                         ⎥\n",
       "⎢                              λ                 λ        ⎥\n",
       "⎢1     0         0          ───────           ───────     ⎥\n",
       "⎢                           λ + 2⋅μ           λ + 2⋅μ     ⎥\n",
       "⎢                                                         ⎥\n",
       "⎢0     0         0             1                 1        ⎥\n",
       "⎢                                                         ⎥\n",
       "⎣0     1         1             0                 0        ⎦"
      ]
     },
     "metadata": {},
     "output_type": "display_data"
    },
    {
     "name": "stdout",
     "output_type": "stream",
     "text": [
      "Omega_x_e * q\n"
     ]
    },
    {
     "data": {
      "text/latex": [
       "$\\displaystyle \\left[\\begin{matrix}\\frac{- \\lambda \\sigma_{xx} + \\sigma_{yy} \\left(\\lambda + 2 \\mu\\right)}{\\lambda + 2 \\mu}\\\\\\frac{\\sigma_{xy}}{2} + \\frac{v_{y} \\sqrt{\\mu \\rho_{e}}}{2}\\\\\\frac{\\sigma_{xy}}{2} - \\frac{v_{y} \\sqrt{\\mu \\rho_{e}}}{2}\\\\\\frac{\\lambda \\left(\\rho_{e} v_{x} \\sqrt{\\frac{\\lambda + 2 \\mu}{\\rho_{e}}} + \\sigma_{xx}\\right)}{2 \\left(\\lambda + 2 \\mu\\right)}\\\\\\frac{\\lambda \\left(\\sigma_{xx} \\sqrt{\\frac{\\lambda + 2 \\mu}{\\rho_{e}}} - v_{x} \\left(\\lambda + 2 \\mu\\right)\\right)}{2 \\sqrt{\\frac{\\lambda + 2 \\mu}{\\rho_{e}}} \\left(\\lambda + 2 \\mu\\right)}\\end{matrix}\\right]$"
      ],
      "text/plain": [
       "⎡      -λ⋅σₓₓ + σ_yy⋅(λ + 2⋅μ)       ⎤\n",
       "⎢      ───────────────────────       ⎥\n",
       "⎢              λ + 2⋅μ               ⎥\n",
       "⎢                                    ⎥\n",
       "⎢                     ______         ⎥\n",
       "⎢        σ_xy   v_y⋅╲╱ μ⋅ρₑ          ⎥\n",
       "⎢        ──── + ────────────         ⎥\n",
       "⎢         2          2               ⎥\n",
       "⎢                                    ⎥\n",
       "⎢                     ______         ⎥\n",
       "⎢        σ_xy   v_y⋅╲╱ μ⋅ρₑ          ⎥\n",
       "⎢        ──── - ────────────         ⎥\n",
       "⎢         2          2               ⎥\n",
       "⎢                                    ⎥\n",
       "⎢     ⎛          _________      ⎞    ⎥\n",
       "⎢     ⎜         ╱ λ + 2⋅μ       ⎟    ⎥\n",
       "⎢   λ⋅⎜ρₑ⋅vₓ⋅  ╱  ───────  + σₓₓ⎟    ⎥\n",
       "⎢     ⎝      ╲╱      ρₑ         ⎠    ⎥\n",
       "⎢   ─────────────────────────────    ⎥\n",
       "⎢            2⋅(λ + 2⋅μ)             ⎥\n",
       "⎢                                    ⎥\n",
       "⎢  ⎛        _________               ⎞⎥\n",
       "⎢  ⎜       ╱ λ + 2⋅μ                ⎟⎥\n",
       "⎢λ⋅⎜σₓₓ⋅  ╱  ───────  - vₓ⋅(λ + 2⋅μ)⎟⎥\n",
       "⎢  ⎝    ╲╱      ρₑ                  ⎠⎥\n",
       "⎢────────────────────────────────────⎥\n",
       "⎢           _________                ⎥\n",
       "⎢          ╱ λ + 2⋅μ                 ⎥\n",
       "⎢     2⋅  ╱  ─────── ⋅(λ + 2⋅μ)      ⎥\n",
       "⎣       ╲╱      ρₑ                   ⎦"
      ]
     },
     "metadata": {},
     "output_type": "display_data"
    },
    {
     "name": "stdout",
     "output_type": "stream",
     "text": [
      "Omega_y_e * q\n"
     ]
    },
    {
     "data": {
      "text/latex": [
       "$\\displaystyle \\left[\\begin{matrix}\\frac{- \\lambda \\sigma_{yy} + \\sigma_{xx} \\left(\\lambda + 2 \\mu\\right)}{\\lambda + 2 \\mu}\\\\\\frac{\\sigma_{xy}}{2} + \\frac{v_{x} \\sqrt{\\mu \\rho_{e}}}{2}\\\\\\frac{\\sigma_{xy}}{2} - \\frac{v_{x} \\sqrt{\\mu \\rho_{e}}}{2}\\\\\\frac{\\sigma_{yy}}{2} + \\frac{v_{y} \\sqrt{\\rho_{e} \\left(\\lambda + 2 \\mu\\right)}}{2}\\\\\\frac{\\sigma_{yy}}{2} - \\frac{v_{y} \\sqrt{\\rho_{e} \\left(\\lambda + 2 \\mu\\right)}}{2}\\end{matrix}\\right]$"
      ],
      "text/plain": [
       "⎡  -λ⋅σ_yy + σₓₓ⋅(λ + 2⋅μ)  ⎤\n",
       "⎢  ───────────────────────  ⎥\n",
       "⎢          λ + 2⋅μ          ⎥\n",
       "⎢                           ⎥\n",
       "⎢                ______     ⎥\n",
       "⎢    σ_xy   vₓ⋅╲╱ μ⋅ρₑ      ⎥\n",
       "⎢    ──── + ───────────     ⎥\n",
       "⎢     2          2          ⎥\n",
       "⎢                           ⎥\n",
       "⎢                ______     ⎥\n",
       "⎢    σ_xy   vₓ⋅╲╱ μ⋅ρₑ      ⎥\n",
       "⎢    ──── - ───────────     ⎥\n",
       "⎢     2          2          ⎥\n",
       "⎢                           ⎥\n",
       "⎢             ______________⎥\n",
       "⎢σ_yy   v_y⋅╲╱ ρₑ⋅(λ + 2⋅μ) ⎥\n",
       "⎢──── + ────────────────────⎥\n",
       "⎢ 2              2          ⎥\n",
       "⎢                           ⎥\n",
       "⎢             ______________⎥\n",
       "⎢σ_yy   v_y⋅╲╱ ρₑ⋅(λ + 2⋅μ) ⎥\n",
       "⎢──── - ────────────────────⎥\n",
       "⎣ 2              2          ⎦"
      ]
     },
     "metadata": {},
     "output_type": "display_data"
    },
    {
     "name": "stdout",
     "output_type": "stream",
     "text": [
      "Omega_x_e_inv * w\n"
     ]
    },
    {
     "data": {
      "text/latex": [
       "$\\displaystyle \\left[\\begin{matrix}\\frac{\\sqrt{\\frac{\\lambda + 2 \\mu}{\\rho_{e}}} \\left(w_{4} - w_{5}\\right)}{\\lambda}\\\\\\frac{w_{2} - w_{3}}{\\sqrt{\\mu \\rho_{e}}}\\\\\\frac{\\left(\\lambda + 2 \\mu\\right) \\left(w_{4} + w_{5}\\right)}{\\lambda}\\\\w_{1} + w_{4} + w_{5}\\\\w_{2} + w_{3}\\end{matrix}\\right]$"
      ],
      "text/plain": [
       "⎡    _________          ⎤\n",
       "⎢   ╱ λ + 2⋅μ           ⎥\n",
       "⎢  ╱  ─────── ⋅(w₄ - w₅)⎥\n",
       "⎢╲╱      ρₑ             ⎥\n",
       "⎢───────────────────────⎥\n",
       "⎢           λ           ⎥\n",
       "⎢                       ⎥\n",
       "⎢       w₂ - w₃         ⎥\n",
       "⎢       ────────        ⎥\n",
       "⎢         ______        ⎥\n",
       "⎢       ╲╱ μ⋅ρₑ         ⎥\n",
       "⎢                       ⎥\n",
       "⎢  (λ + 2⋅μ)⋅(w₄ + w₅)  ⎥\n",
       "⎢  ───────────────────  ⎥\n",
       "⎢           λ           ⎥\n",
       "⎢                       ⎥\n",
       "⎢     w₁ + w₄ + w₅      ⎥\n",
       "⎢                       ⎥\n",
       "⎣        w₂ + w₃        ⎦"
      ]
     },
     "metadata": {},
     "output_type": "display_data"
    },
    {
     "name": "stdout",
     "output_type": "stream",
     "text": [
      "Omega_y_e_inv * w\n"
     ]
    },
    {
     "data": {
      "text/latex": [
       "$\\displaystyle \\left[\\begin{matrix}\\frac{w_{2} - w_{3}}{\\sqrt{\\mu \\rho_{e}}}\\\\\\frac{w_{4} - w_{5}}{\\sqrt{\\rho_{e} \\left(\\lambda + 2 \\mu\\right)}}\\\\\\frac{\\lambda w_{4} + \\lambda w_{5} + w_{1} \\left(\\lambda + 2 \\mu\\right)}{\\lambda + 2 \\mu}\\\\w_{4} + w_{5}\\\\w_{2} + w_{3}\\end{matrix}\\right]$"
      ],
      "text/plain": [
       "⎡         w₂ - w₃          ⎤\n",
       "⎢         ────────         ⎥\n",
       "⎢           ______         ⎥\n",
       "⎢         ╲╱ μ⋅ρₑ          ⎥\n",
       "⎢                          ⎥\n",
       "⎢         w₄ - w₅          ⎥\n",
       "⎢     ────────────────     ⎥\n",
       "⎢       ______________     ⎥\n",
       "⎢     ╲╱ ρₑ⋅(λ + 2⋅μ)      ⎥\n",
       "⎢                          ⎥\n",
       "⎢λ⋅w₄ + λ⋅w₅ + w₁⋅(λ + 2⋅μ)⎥\n",
       "⎢──────────────────────────⎥\n",
       "⎢         λ + 2⋅μ          ⎥\n",
       "⎢                          ⎥\n",
       "⎢         w₄ + w₅          ⎥\n",
       "⎢                          ⎥\n",
       "⎣         w₂ + w₃          ⎦"
      ]
     },
     "metadata": {},
     "output_type": "display_data"
    }
   ],
   "source": [
    "rho_e, lam, mu, v_x, v_y, sigma_xx, sigma_yy, sigma_xy = symbols('rho_e lambda mu v_x v_y sigma_xx sigma_yy sigma_xy')\n",
    "A_x_e = Matrix([[0, 0, -1 / rho_e, 0, 0],\n",
    "              [0, 0, 0, 0, -1 / rho_e],\n",
    "              [-lam - 2 * mu, 0, 0, 0, 0],\n",
    "              [-lam, 0, 0, 0, 0],\n",
    "              [0, -mu, 0, 0, 0]])\n",
    "print('A_x_e:')\n",
    "display(A_x_e)\n",
    "print('Eigenvectors:')\n",
    "display(A_x_e.eigenvects())\n",
    "A_y_e = Matrix([[0, 0, 0, 0, -1 / rho_e],\n",
    "              [0, 0, 0, -1 / rho_e, 0],\n",
    "              [0, - lam, 0, 0, 0],\n",
    "              [0, - lam - 2 * mu, 0, 0, 0],\n",
    "              [- mu, 0, 0, 0, 0]])\n",
    "print('A_y_e:')\n",
    "display(A_y_e)\n",
    "print('Eigenvectors:')\n",
    "display(A_y_e.eigenvects())\n",
    "\n",
    "print('Lambda_x = Lambda_y:')\n",
    "Lambda = diag(0, - sqrt(mu / rho_e), sqrt(mu / rho_e), -sqrt((lam + 2 * mu) / rho_e), sqrt((lam + 2 * mu) / rho_e))\n",
    "display(Lambda)\n",
    "\n",
    "Omega_x_e_inv = Matrix([[0, 0, 0, 1 / lam * sqrt((lam + 2 * mu) / rho_e), - 1 / lam * sqrt((lam + 2 * mu) / rho_e)],\n",
    "                      [0, 1 / sqrt(mu * rho_e), - 1 / sqrt(mu * rho_e), 0, 0],\n",
    "                      [0, 0, 0, 1 + 2 * mu / lam, 1 + 2 * mu / lam],\n",
    "                      [1, 0, 0, 1, 1],\n",
    "                      [0, 1, 1, 0, 0]])\n",
    "Omega_x_e = Omega_x_e_inv.inv()\n",
    "print('Omega_x_e:')\n",
    "display(simplify(Omega_x_e))\n",
    "print('Omega_x_e ^ (-1):')\n",
    "display(simplify(Omega_x_e_inv))\n",
    "\n",
    "Omega_y_e_inv = Matrix([[0, 1 / sqrt(mu * rho_e), - 1 / sqrt(mu * rho_e), 0, 0],\n",
    "                  [0, 0, 0, 1 / sqrt((lam + 2 * mu) * rho_e), - 1 / sqrt((lam + 2 * mu) * rho_e)],\n",
    "                  [1, 0, 0, lam / (lam + 2 * mu), lam / (lam + 2 * mu)],\n",
    "                  [0, 0, 0, 1, 1],\n",
    "                  [0, 1, 1, 0, 0]])\n",
    "Omega_y_e = Omega_y_e_inv.inv()\n",
    "print('Omega_y_e:')\n",
    "display(simplify(Omega_y_e))\n",
    "print('Omega_y_e^(-1):')\n",
    "display(simplify(Omega_y_e_inv))\n",
    "\n",
    "q = Matrix([v_x, v_y, sigma_xx, sigma_yy, sigma_xy])\n",
    "print('Omega_x_e * q')\n",
    "display(simplify(Omega_x_e * q))\n",
    "print('Omega_y_e * q')\n",
    "display(simplify(Omega_y_e * q))\n",
    "\n",
    "w1, w2, w3, w4, w5 = symbols('w_1 w_2 w_3 w_4 w_5')\n",
    "w = Matrix([w1, w2, w3, w4, w5])\n",
    "print('Omega_x_e_inv * w')\n",
    "display(simplify(Omega_x_e_inv * w))\n",
    "print('Omega_y_e_inv * w')\n",
    "display(simplify(Omega_y_e_inv * w))"
   ]
  },
  {
   "cell_type": "code",
   "execution_count": 9,
   "metadata": {},
   "outputs": [],
   "source": [
    "def El_Omega_x(q):\n",
    "    v_x, v_y, sigma_xx, sigma_yy, sigma_xy = q\n",
    "    return ((-lam * sigma_xx + sigma_yy * (lam + 2*mu)) / (lam + 2 * mu),\n",
    "            sigma_xy / 2 + v_y * np.sqrt(mu * rho_e) / 2,\n",
    "            sigma_xy / 2 - v_y * np.sqrt(mu * rho_e)/2,\n",
    "            lam * (rho_e * v_x * np.sqrt((lam + 2 * mu) / rho_e) + sigma_xx) / (2 * (lam + 2 * mu)),\n",
    "            lam * (sigma_xx * np.sqrt((lam + 2 * mu)/rho_e) - v_x * (lam + 2 * mu))/(2 * np.sqrt((lam + 2 * mu) / rho_e) * (lam + 2 * mu)))\n",
    "\n",
    "def El_Omega_y(q):\n",
    "    v_x, v_y, sigma_xx, sigma_yy, sigma_xy = q\n",
    "    return ((-lam * sigma_yy + sigma_xx * (lam + 2 * mu)) / (lam + 2*mu),\n",
    "            sigma_xy / 2 + v_x * np.sqrt(mu * rho_e) / 2,\n",
    "            sigma_xy / 2 - v_x * np.sqrt(mu * rho_e) / 2,\n",
    "            sigma_yy / 2 + v_y * np.sqrt(rho_e * (lam + 2 * mu)) / 2,\n",
    "            sigma_yy / 2 - v_y * np.sqrt(rho_e * (lam + 2 * mu)) / 2)\n",
    "\n",
    "def El_Omega_x_inv(w):\n",
    "    w_1, w_2, w_3, w_4, w_5 = w\n",
    "    return (np.sqrt((lam + 2 * mu) / rho_e) * (w_4 - w_5)/lam,\n",
    "            (w_2 - w_3) / np.sqrt(mu * rho_e),\n",
    "            (lam + 2 * mu) * (w_4 + w_5) / lam,\n",
    "            w_1 + w_4 + w_5,\n",
    "            w_2 + w_3)\n",
    "\n",
    "def El_Omega_y_inv(w):\n",
    "    w_1, w_2, w_3, w_4, w_5 = w\n",
    "    return ((w_2 - w_3) / np.sqrt(mu * rho_e),\n",
    "            (w_4 - w_5) / np.sqrt(rho_e * (lam + 2 * mu)),\n",
    "            (lam * w_4 + lam * w_5 + w_1 * (lam + 2 * mu)) / (lam + 2 * mu),\n",
    "            w_4 + w_5,\n",
    "            w_2 + w_3)"
   ]
  },
  {
   "cell_type": "code",
   "execution_count": 10,
   "metadata": {},
   "outputs": [
    {
     "name": "stdout",
     "output_type": "stream",
     "text": [
      "Скорость продольной волны 0.7071067811865476 м/с\n",
      "Скорость поперечной волны 0.408248290463863 м/с\n"
     ]
    },
    {
     "data": {
      "image/png": "[encoded data removed]",
      "text/plain": [
       "<Figure size 432x288 with 2 Axes>"
      ]
     },
     "metadata": {
      "needs_background": "light"
     },
     "output_type": "display_data"
    },
    {
     "data": {
      "image/png": "[encoded data removed]",
      "text/plain": [
       "<Figure size 432x288 with 2 Axes>"
      ]
     },
     "metadata": {
      "needs_background": "light"
     },
     "output_type": "display_data"
    }
   ],
   "source": [
    "# Определим параметры 1D акустической задачи\n",
    "L = 2.0 # x = [-1,1]\n",
    "rho_a = 3.0 # плотность в кг/м^3\n",
    "c = 1.0 # скорость волны в м/с\n",
    "rho_e = 6.0 # плотность в кг/м^3\n",
    "lam = 1.0\n",
    "mu = 1.0\n",
    "Cp = np.sqrt((lam + 2.0 * mu) / rho_e)\n",
    "Cs = np.sqrt(mu / rho_e)\n",
    "print(\"Скорость продольной волны\", Cp, \"м/с\")\n",
    "print(\"Скорость поперечной волны\", Cs, \"м/с\")\n",
    "T = 0.4 * L / c # 1 полный оборот начального возмущения\n",
    "M = 41 # количество узлов вдоль оси\n",
    "nx, ny = M, M\n",
    "h = L / M # шаг по координате, h\n",
    "dt = 0.4 * h / c # коэффициент должен быть меньше единицы\n",
    "f = 1.0 # Частота\n",
    "x0, y0 = nx / 4, ny / 4 # точка нахождения источника\n",
    "# В каждом узле мы храним значение давления и скорости среды для акустики\n",
    "data_current_a = np.zeros((M, M), dtype=[('vx', np.float64), ('vy', np.float64), ('p', np.float64)])\n",
    "data_next_a = np.zeros((M, M), dtype=[('vx', np.float64), ('vy', np.float64), ('p', np.float64)])\n",
    "# В каждом узле мы храним значения для упругости\n",
    "data_current_e = np.zeros((M, M), dtype=[('vx', np.float64),\n",
    "                                         ('vy', np.float64),\n",
    "                                         ('sxx', np.float64),\n",
    "                                         ('syy', np.float64),\n",
    "                                         ('sxy', np.float64)])\n",
    "data_next_e = np.zeros((M, M), dtype=[('vx', np.float64),\n",
    "                                      ('vy', np.float64),\n",
    "                                      ('sxx', np.float64),\n",
    "                                      ('syy', np.float64),\n",
    "                                      ('sxy', np.float64)])\n",
    "\n",
    "# Начальные значения\n",
    "for j in range(int(1.0 / 3.0 * ny), int(2.0 / 3.0 * ny)):\n",
    "    for i in range(int(1.0 / 3.0 * nx), int(2.0 / 3.0 * nx)):\n",
    "        x = -1.0 + i * h\n",
    "        y = -1.0 + j * h\n",
    "        if (x ** 2 + y ** 2 < 0.1):\n",
    "            data_current_a[j, i]['p'] = 1.0\n",
    "            \n",
    "for j in range(int(1.0 / 3.0 * ny), int(2.0 / 3.0 * ny)):\n",
    "    for i in range(int(1.0 / 3.0 * nx), int(2.0 / 3.0 * nx)):\n",
    "        x = -1.0 + i * h\n",
    "        y = -1.0 + j * h\n",
    "        if (x ** 2 + y ** 2 < 0.1):\n",
    "            data_current_e[j, i]['sxx'] = 1.0\n",
    "            data_current_e[j, i]['sxy'] = 1.0\n",
    "\n",
    "for j in range(int(1.0 / 3.0 * ny), int(2.0 / 3.0 * ny)):\n",
    "    for i in range(int(1.0 / 3.0 * nx), int(2.0 / 3.0 * nx)):\n",
    "        # В виде продольной волны (P)\n",
    "        data_current_e[j, i]['vx']  = data_current_e[j, i]['sxx'] / np.sqrt(rho_e * (lam + 2.0 * mu))\n",
    "        # В виде поперечной волны (S)\n",
    "        data_current_e[j, i]['vy']  = data_current_e[j, i]['sxy'] / np.sqrt(rho_e * mu)\n",
    "\n",
    "fig, ax = plt.subplots()\n",
    "ax.set_title('sxy в начальный момент времени')\n",
    "_ = ax.set_xlabel('x')\n",
    "_ = ax.set_ylabel('y')\n",
    "img = ax.imshow(data_current_e['sxy'], vmin = 0, vmax = 1.0, origin = 'lower')\n",
    "_ = fig.colorbar(img)\n",
    "            \n",
    "fig, ax = plt.subplots()\n",
    "ax.set_title('p в начальный момент времени')\n",
    "_ = ax.set_xlabel('x')\n",
    "_ = ax.set_ylabel('y')\n",
    "img = ax.imshow(data_current_a['p'], vmin = 0, vmax = 1.0, origin = 'lower')\n",
    "_ = fig.colorbar(img)\n",
    "\n",
    "# Расчёт\n",
    "for k in range(int(T / dt)):\n",
    "    # Шаг по X\n",
    "    for j in range(nx):\n",
    "        for i in range(ny):\n",
    "            w1, w2, w3   = Ac_Omega_x(data_current_a[j, i])\n",
    "            if i == 0: # Левая граница\n",
    "                w1p, w2p, w3p = Ac_Omega_x(data_current_a[j, M - 1])\n",
    "                w1n, w2n, w3n = Ac_Omega_x(data_current_a[j, i + 1])\n",
    "            elif i == nx - 1: # Правая граница\n",
    "                w1n, w2n, w3n = Ac_Omega_x(data_current_a[j, 0])\n",
    "                w1p, w2p, w3p = Ac_Omega_x(data_current_a[j, i - 1])\n",
    "            else: # Внутри области\n",
    "                w1p, w2p, w3p = Ac_Omega_x(data_current_a[j, i - 1])\n",
    "                w1n, w2n, w3n = Ac_Omega_x(data_current_a[j, i + 1])\n",
    "            # Решаем уравнения переноса на инварианты\n",
    "            w1_new = w1\n",
    "            w2_new = w2 + c * dt / h * (w2n - w2)\n",
    "            w3_new = w3 - c * dt / h * (w3 - w3p)\n",
    "            data_next_a[j, i]['vx'], data_next_a[j, i]['vy'], data_next_a[j, i]['p'] = Ac_Omega_x_inv([w1_new, w2_new, w3_new])\n",
    "        \n",
    "        for i in range(ny):\n",
    "            w1, w2, w3, w4, w5 = El_Omega_x(data_current_e[j, i])\n",
    "            if i == 0: # Левая граница\n",
    "                w1p, w2p, w3p, w4p, w5p = El_Omega_x(data_current_e[j, M - 1])\n",
    "                w1n, w2n, w3n, w4n, w5n = El_Omega_x(data_current_e[j, i + 1])\n",
    "            elif i == nx - 1: # Правая граница\n",
    "                w1n, w2n, w3n, w4n, w5n = El_Omega_x(data_current_e[j, 0])\n",
    "                w1p, w2p, w3p, w4p, w5p = El_Omega_x(data_current_e[j, i - 1])\n",
    "            else: # Внутри области\n",
    "                w1p, w2p, w3p, w4p, w5p = El_Omega_x(data_current_e[j, i - 1])\n",
    "                w1n, w2n, w3n, w4n, w5n = El_Omega_x(data_current_e[j, i + 1])\n",
    "            # Решаем уравнения переноса на инварианты\n",
    "            w1_new = w1\n",
    "            w2_new = w2 + Cs * dt / h * (w2n - w2)\n",
    "            w3_new = w3 - Cs * dt / h * (w3 - w3p)\n",
    "            w4_new = w4 + Cp * dt / h * (w4n - w4)\n",
    "            w5_new = w5 - Cp * dt / h * (w5 - w5p)\n",
    "            data_next_e[j, i]['vx'], data_next_e[j, i]['vy'], data_next_e[j, i]['sxx'], data_next_e[j, i]['syy'], data_next_e[j, i]['sxy'] = El_Omega_x_inv([w1_new, w2_new, w3_new, w4_new, w5_new])\n",
    "\n",
    "    # Шаг по Y\n",
    "    for i in range(ny):\n",
    "        for j in range(nx):\n",
    "            w1, w2, w3   = Ac_Omega_y(data_next_a[j, i])\n",
    "            if j == 0: # Левая граница\n",
    "                w1p, w2p, w3p = Ac_Omega_y(data_next_a[M - 1, i])\n",
    "                w1n, w2n, w3n = Ac_Omega_y(data_next_a[j + 1, i])\n",
    "            elif j == ny - 1: # Правая граница\n",
    "                w1n, w2n, w3n = Ac_Omega_y(data_next_a[0, i])\n",
    "                w1p, w2p, w3p = Ac_Omega_y(data_next_a[j - 1, i])\n",
    "            else: # Внутри области\n",
    "                w1p, w2p, w3p = Ac_Omega_y(data_next_a[j - 1, i])\n",
    "                w1n, w2n, w3n = Ac_Omega_y(data_next_a[j + 1, i])\n",
    "            # Решаем уравнения переноса на инварианты\n",
    "            w1_new = w1\n",
    "            w2_new = w2 + c * dt / h * (w2n - w2)\n",
    "            w3_new = w3 - c * dt / h * (w3 - w3p)\n",
    "            data_current_a[j, i]['vx'], data_current_a[j, i]['vy'], data_current_a[j, i]['p'] = Ac_Omega_y_inv([w1_new, w2_new, w3_new])\n",
    "            if abs(i - x0) < 1 and abs(j - y0) < 1:\n",
    "                data_current_a[j, i]['p'] += source(k, 15)\n",
    "                \n",
    "        for j in range(nx):\n",
    "            w1, w2, w3, w4, w5 = El_Omega_y(data_next_e[j, i])\n",
    "            if j == 0: # Левая граница\n",
    "                w1p, w2p, w3p, w4p, w5p = El_Omega_y(data_next_e[M - 1, i])\n",
    "                w1n, w2n, w3n, w4n, w5n = El_Omega_y(data_next_e[j + 1, i])\n",
    "            elif j == nx - 1: # Правая граница\n",
    "                w1n, w2n, w3n, w4n, w5n = El_Omega_y(data_next_e[0, i])\n",
    "                w1p, w2p, w3p, w4p, w5p = El_Omega_y(data_next_e[j - 1, i])\n",
    "            else: # Внутри области\n",
    "                w1p, w2p, w3p, w4p, w5p = El_Omega_y(data_next_e[j - 1, i])\n",
    "                w1n, w2n, w3n, w4n, w5n = El_Omega_y(data_next_e[j + 1, i])\n",
    "            # Решаем уравнения переноса на инварианты\n",
    "            w1_new = w1\n",
    "            w2_new = w2 + Cs * dt / h * (w2n - w2)\n",
    "            w3_new = w3 - Cs * dt / h * (w3 - w3p)\n",
    "            w4_new = w4 + Cp * dt / h * (w4n - w4)\n",
    "            w5_new = w5 - Cp * dt / h * (w5 - w5p)\n",
    "            data_current_e[j, i]['vx'], data_current_e[j, i]['vy'], data_current_e[j, i]['sxx'], data_current_e[j, i]['syy'], data_current_e[j, i]['sxy'] =El_Omega_y_inv([w1_new, w2_new, w3_new, w4_new, w5_new])"
   ]
  },
  {
   "cell_type": "code",
   "execution_count": 11,
   "metadata": {},
   "outputs": [
    {
     "data": {
      "image/png": "[encoded data removed]",
      "text/plain": [
       "<Figure size 432x288 with 2 Axes>"
      ]
     },
     "metadata": {
      "needs_background": "light"
     },
     "output_type": "display_data"
    },
    {
     "data": {
      "image/png": "[encoded data removed]",
      "text/plain": [
       "<Figure size 432x288 with 2 Axes>"
      ]
     },
     "metadata": {
      "needs_background": "light"
     },
     "output_type": "display_data"
    },
    {
     "data": {
      "image/png": "[encoded data removed]",
      "text/plain": [
       "<Figure size 432x288 with 2 Axes>"
      ]
     },
     "metadata": {
      "needs_background": "light"
     },
     "output_type": "display_data"
    }
   ],
   "source": [
    "fig, ax = plt.subplots()\n",
    "ax.set_title('p в конечный момент времени')\n",
    "_ = ax.set_xlabel('x')\n",
    "_ = ax.set_ylabel('y')\n",
    "img = ax.imshow(data_current_a['p'], vmin = 0, vmax = data_current_a['p'].max(), origin = 'lower')\n",
    "_ = fig.colorbar(img)\n",
    "\n",
    "fig, ax = plt.subplots()\n",
    "ax.set_title('sxx в конечный момент времени')\n",
    "_ = ax.set_xlabel('x')\n",
    "_ = ax.set_ylabel('y')\n",
    "img = ax.imshow(data_current_e['sxx'], vmin = 0, vmax = data_current_e['sxx'].max(), origin = 'lower')\n",
    "_ = fig.colorbar(img)\n",
    "\n",
    "fig, ax = plt.subplots()\n",
    "ax.set_title('sxy в конечный момент времени')\n",
    "_ = ax.set_xlabel('x')\n",
    "_ = ax.set_ylabel('y')\n",
    "img = ax.imshow(data_current_e['sxy'], vmin = 0, vmax = data_current_e['sxy'].max(), origin = 'lower')\n",
    "_ = fig.colorbar(img)"
   ]
  },
  {
   "cell_type": "markdown",
   "metadata": {},
   "source": [
    "Как задавать условия на границе?\n",
    "Почему при изменении числа узлов на расчётной области меняется распределения давления?"
   ]
  }
 ],
 "metadata": {
  "kernelspec": {
   "display_name": "Python 3",
   "language": "python",
   "name": "python3"
  },
  "language_info": {
   "codemirror_mode": {
    "name": "ipython",
    "version": 3
   },
   "file_extension": ".py",
   "mimetype": "text/x-python",
   "name": "python",
   "nbconvert_exporter": "python",
   "pygments_lexer": "ipython3",
   "version": "3.8.3"
  }
 },
 "nbformat": 4,
 "nbformat_minor": 4
}

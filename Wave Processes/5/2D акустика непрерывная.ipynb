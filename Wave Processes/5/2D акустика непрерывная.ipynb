{
 "cells": [
  {
   "cell_type": "code",
   "execution_count": 131,
   "metadata": {},
   "outputs": [],
   "source": [
    "# Импортируем numpy для хранения результатов расчётов\n",
    "import numpy as np\n",
    "\n",
    "# Импортируем модуль matplolib для визуализации результатов\n",
    "import matplotlib.pyplot as plt\n",
    "\n",
    "# Импорт используемых модулей\n",
    "from sympy import Matrix, symbols, init_printing, diag\n",
    "init_printing()"
   ]
  },
  {
   "cell_type": "code",
   "execution_count": 132,
   "metadata": {},
   "outputs": [
    {
     "name": "stdout",
     "output_type": "stream",
     "text": [
      "Let's deal with 2D problem.\n",
      "The matrix Ax = \n"
     ]
    },
    {
     "data": {
      "text/latex": [
       "$\\displaystyle \\left[\\begin{matrix}0 & 0 & \\frac{1}{\\rho}\\\\0 & 0 & 0\\\\c^{2} \\rho & 0 & 0\\end{matrix}\\right]$"
      ],
      "text/plain": [
       "⎡         1⎤\n",
       "⎢ 0    0  ─⎥\n",
       "⎢         ρ⎥\n",
       "⎢          ⎥\n",
       "⎢ 0    0  0⎥\n",
       "⎢          ⎥\n",
       "⎢ 2        ⎥\n",
       "⎣c ⋅ρ  0  0⎦"
      ]
     },
     "metadata": {},
     "output_type": "display_data"
    },
    {
     "name": "stdout",
     "output_type": "stream",
     "text": [
      "The matrix Ay = \n"
     ]
    },
    {
     "data": {
      "text/latex": [
       "$\\displaystyle \\left[\\begin{matrix}0 & 0 & 0\\\\0 & 0 & \\frac{1}{\\rho}\\\\0 & c^{2} \\rho & 0\\end{matrix}\\right]$"
      ],
      "text/plain": [
       "⎡0   0    0⎤\n",
       "⎢          ⎥\n",
       "⎢         1⎥\n",
       "⎢0   0    ─⎥\n",
       "⎢         ρ⎥\n",
       "⎢          ⎥\n",
       "⎢    2     ⎥\n",
       "⎣0  c ⋅ρ  0⎦"
      ]
     },
     "metadata": {},
     "output_type": "display_data"
    },
    {
     "name": "stdout",
     "output_type": "stream",
     "text": [
      "Matrix of eigenvalues Lambda_X: \n"
     ]
    },
    {
     "data": {
      "text/latex": [
       "$\\displaystyle \\left[\\begin{matrix}0 & 0 & 0\\\\0 & - c & 0\\\\0 & 0 & c\\end{matrix}\\right]$"
      ],
      "text/plain": [
       "⎡0  0   0⎤\n",
       "⎢        ⎥\n",
       "⎢0  -c  0⎥\n",
       "⎢        ⎥\n",
       "⎣0  0   c⎦"
      ]
     },
     "metadata": {},
     "output_type": "display_data"
    },
    {
     "name": "stdout",
     "output_type": "stream",
     "text": [
      "Matrix of eigenvalues Lambda_Y: \n"
     ]
    },
    {
     "data": {
      "text/latex": [
       "$\\displaystyle \\left[\\begin{matrix}0 & 0 & 0\\\\0 & - c & 0\\\\0 & 0 & c\\end{matrix}\\right]$"
      ],
      "text/plain": [
       "⎡0  0   0⎤\n",
       "⎢        ⎥\n",
       "⎢0  -c  0⎥\n",
       "⎢        ⎥\n",
       "⎣0  0   c⎦"
      ]
     },
     "metadata": {},
     "output_type": "display_data"
    },
    {
     "name": "stdout",
     "output_type": "stream",
     "text": [
      "Omega_X matrix: \n"
     ]
    },
    {
     "data": {
      "text/latex": [
       "$\\displaystyle \\left[\\begin{matrix}0 & 1 & 0\\\\- c \\rho & 0 & 1\\\\c \\rho & 0 & 1\\end{matrix}\\right]$"
      ],
      "text/plain": [
       "⎡ 0    1  0⎤\n",
       "⎢          ⎥\n",
       "⎢-c⋅ρ  0  1⎥\n",
       "⎢          ⎥\n",
       "⎣c⋅ρ   0  1⎦"
      ]
     },
     "metadata": {},
     "output_type": "display_data"
    },
    {
     "name": "stdout",
     "output_type": "stream",
     "text": [
      "Omega_X^(-1) matrix: \n"
     ]
    },
    {
     "data": {
      "text/latex": [
       "$\\displaystyle \\left[\\begin{matrix}0 & - \\frac{1}{2 c \\rho} & \\frac{1}{2 c \\rho}\\\\1 & 0 & 0\\\\0 & \\frac{1}{2} & \\frac{1}{2}\\end{matrix}\\right]$"
      ],
      "text/plain": [
       "⎡    -1      1  ⎤\n",
       "⎢0  ─────  ─────⎥\n",
       "⎢   2⋅c⋅ρ  2⋅c⋅ρ⎥\n",
       "⎢               ⎥\n",
       "⎢1    0      0  ⎥\n",
       "⎢               ⎥\n",
       "⎣0   1/2    1/2 ⎦"
      ]
     },
     "metadata": {},
     "output_type": "display_data"
    },
    {
     "name": "stdout",
     "output_type": "stream",
     "text": [
      "Omega_Y matrix: \n"
     ]
    },
    {
     "data": {
      "text/latex": [
       "$\\displaystyle \\left[\\begin{matrix}1 & 0 & 0\\\\0 & - c \\rho & 1\\\\0 & c \\rho & 1\\end{matrix}\\right]$"
      ],
      "text/plain": [
       "⎡1   0    0⎤\n",
       "⎢          ⎥\n",
       "⎢0  -c⋅ρ  1⎥\n",
       "⎢          ⎥\n",
       "⎣0  c⋅ρ   1⎦"
      ]
     },
     "metadata": {},
     "output_type": "display_data"
    },
    {
     "name": "stdout",
     "output_type": "stream",
     "text": [
      "Omega_Y^(-1) matrix: \n"
     ]
    },
    {
     "data": {
      "text/latex": [
       "$\\displaystyle \\left[\\begin{matrix}1 & 0 & 0\\\\0 & - \\frac{1}{2 c \\rho} & \\frac{1}{2 c \\rho}\\\\0 & \\frac{1}{2} & \\frac{1}{2}\\end{matrix}\\right]$"
      ],
      "text/plain": [
       "⎡1    0      0  ⎤\n",
       "⎢               ⎥\n",
       "⎢    -1      1  ⎥\n",
       "⎢0  ─────  ─────⎥\n",
       "⎢   2⋅c⋅ρ  2⋅c⋅ρ⎥\n",
       "⎢               ⎥\n",
       "⎣0   1/2    1/2 ⎦"
      ]
     },
     "metadata": {},
     "output_type": "display_data"
    },
    {
     "name": "stdout",
     "output_type": "stream",
     "text": [
      "Omega_inv_X * w:\n"
     ]
    },
    {
     "data": {
      "text/latex": [
       "$\\displaystyle \\left[\\begin{matrix}- \\frac{w_{2}}{2 c \\rho} + \\frac{w_{3}}{2 c \\rho}\\\\w_{1}\\\\\\frac{w_{2}}{2} + \\frac{w_{3}}{2}\\end{matrix}\\right]$"
      ],
      "text/plain": [
       "⎡    w₂      w₃ ⎤\n",
       "⎢- ───── + ─────⎥\n",
       "⎢  2⋅c⋅ρ   2⋅c⋅ρ⎥\n",
       "⎢               ⎥\n",
       "⎢      w₁       ⎥\n",
       "⎢               ⎥\n",
       "⎢    w₂   w₃    ⎥\n",
       "⎢    ── + ──    ⎥\n",
       "⎣    2    2     ⎦"
      ]
     },
     "metadata": {},
     "output_type": "display_data"
    },
    {
     "name": "stdout",
     "output_type": "stream",
     "text": [
      "Omega_inv_Y * w:\n"
     ]
    },
    {
     "data": {
      "text/latex": [
       "$\\displaystyle \\left[\\begin{matrix}w_{1}\\\\- \\frac{w_{2}}{2 c \\rho} + \\frac{w_{3}}{2 c \\rho}\\\\\\frac{w_{2}}{2} + \\frac{w_{3}}{2}\\end{matrix}\\right]$"
      ],
      "text/plain": [
       "⎡      w₁       ⎤\n",
       "⎢               ⎥\n",
       "⎢    w₂      w₃ ⎥\n",
       "⎢- ───── + ─────⎥\n",
       "⎢  2⋅c⋅ρ   2⋅c⋅ρ⎥\n",
       "⎢               ⎥\n",
       "⎢    w₂   w₃    ⎥\n",
       "⎢    ── + ──    ⎥\n",
       "⎣    2    2     ⎦"
      ]
     },
     "metadata": {},
     "output_type": "display_data"
    },
    {
     "name": "stdout",
     "output_type": "stream",
     "text": [
      "Omega_X * q\n"
     ]
    },
    {
     "data": {
      "text/latex": [
       "$\\displaystyle \\left[\\begin{matrix}v_{y}\\\\- c \\rho v_{x} + p\\\\c \\rho v_{x} + p\\end{matrix}\\right]$"
      ],
      "text/plain": [
       "⎡    v_y    ⎤\n",
       "⎢           ⎥\n",
       "⎢-c⋅ρ⋅vₓ + p⎥\n",
       "⎢           ⎥\n",
       "⎣c⋅ρ⋅vₓ + p ⎦"
      ]
     },
     "metadata": {},
     "output_type": "display_data"
    },
    {
     "name": "stdout",
     "output_type": "stream",
     "text": [
      "Omega_Y * q\n"
     ]
    },
    {
     "data": {
      "text/latex": [
       "$\\displaystyle \\left[\\begin{matrix}v_{x}\\\\- c \\rho v_{y} + p\\\\c \\rho v_{y} + p\\end{matrix}\\right]$"
      ],
      "text/plain": [
       "⎡     vₓ     ⎤\n",
       "⎢            ⎥\n",
       "⎢-c⋅ρ⋅v_y + p⎥\n",
       "⎢            ⎥\n",
       "⎣c⋅ρ⋅v_y + p ⎦"
      ]
     },
     "metadata": {},
     "output_type": "display_data"
    }
   ],
   "source": [
    "# Проделаем аналитические выкладки, чтобы найти матрицу перехода в инварианты Римана\n",
    "\n",
    "# Акустическая модель 1D\n",
    "rho, c, w_1, w_2, w_3, v_x, v_y, p = symbols(\"rho c w_1 w_2 w_3 v_x v_y p\")\n",
    "print(\"Let's deal with 2D problem.\")\n",
    "Ax = Matrix([[0, 0, 1 / rho], [0, 0, 0], [rho * c**2, 0, 0]])\n",
    "Ay = Matrix([[0, 0, 0], [0, 0, 1 / rho], [0, rho * c**2, 0]])\n",
    "print(\"The matrix Ax = \")\n",
    "display(Ax)\n",
    "print(\"The matrix Ay = \")\n",
    "display(Ay)\n",
    "\n",
    "'''\n",
    "l1 = Ax.eigenvals() # собственные значения\n",
    "print(\"Ax has 3 eigenvalues: \")\n",
    "display(l1)\n",
    "l2 = Ay.eigenvals() # собственные значения\n",
    "print(\"Ay has 3 eigenvalues: \")\n",
    "display(l2)\n",
    "\n",
    "e_x = Ax.eigenvects() # собственные вектора\n",
    "print(\"Ax has 3 eigenvectors: \")\n",
    "display(e_x)\n",
    "e_y = Ay.eigenvects() # собственные вектора\n",
    "print(\"Ay has 3 eigenvectors: \")\n",
    "display(e_y)\n",
    "'''\n",
    "\n",
    "Lambda_X = diag(0, -c, c) # Заполняем матрицу Lambda\n",
    "# Проверим разложение\n",
    "print(\"Matrix of eigenvalues Lambda_X: \")\n",
    "display(Lambda_X)\n",
    "Lambda_Y = diag(0, -c, c) # Заполняем матрицу Lambda\n",
    "# Проверим разложение\n",
    "print(\"Matrix of eigenvalues Lambda_Y: \")\n",
    "display(Lambda_Y)\n",
    "\n",
    "Omega_X = Matrix([[0, 1, 0], [-c * rho, 0, 1], [c * rho, 0, 1]])\n",
    "print(\"Omega_X matrix: \")\n",
    "display(Omega_X)\n",
    "Omega_inv_X = Omega_X ** (-1)\n",
    "print(\"Omega_X^(-1) matrix: \")\n",
    "display(Omega_inv_X)\n",
    "'''\n",
    "print(\"Omega_X^(-1) * Lambda_X * Omega_X: \")\n",
    "display(Omega_inv_X * Lambda_X * Omega_X)\n",
    "print(\"Again, Ax: \")\n",
    "display(Ax)\n",
    "'''\n",
    "Omega_Y = Matrix([[1, 0, 0], [0, -c * rho, 1], [0, c * rho, 1]])\n",
    "print(\"Omega_Y matrix: \")\n",
    "display(Omega_Y)\n",
    "Omega_inv_Y = Omega_Y ** (-1)\n",
    "print(\"Omega_Y^(-1) matrix: \")\n",
    "display(Omega_inv_Y)\n",
    "'''\n",
    "print(\"Omega_Y^(-1) * Lambda_Y * Omega_Y: \")\n",
    "display(Omega_inv_Y * Lambda_Y * Omega_Y)\n",
    "print(\"Again, Ay: \")\n",
    "display(Ay)\n",
    "'''\n",
    "w = Matrix([w_1, w_2, w_3])\n",
    "print('Omega_inv_X * w:')\n",
    "display(Omega_inv_X * w)\n",
    "print('Omega_inv_Y * w:')\n",
    "display(Omega_inv_Y * w)\n",
    "\n",
    "q = Matrix([v_x, v_y, p])\n",
    "print('Omega_X * q')\n",
    "display(Omega_X * q)\n",
    "print('Omega_Y * q')\n",
    "display(Omega_Y * q)"
   ]
  },
  {
   "cell_type": "code",
   "execution_count": 130,
   "metadata": {},
   "outputs": [
    {
     "data": {
      "image/png": "[encoded data removed]",
      "text/plain": [
       "<Figure size 432x288 with 1 Axes>"
      ]
     },
     "metadata": {
      "needs_background": "light"
     },
     "output_type": "display_data"
    }
   ],
   "source": [
    "# Определим параметры 1D акустической задачи\n",
    "L = 2.0 # x = [-1,1]\n",
    "rho = 3.0 # плотность в кг/м^3\n",
    "c = 1.0 # скорость волны в м/с\n",
    "T = 1.0 * L / c # 1 полный оборот начального возмущения\n",
    "M = 201 # количество узлов вдоль оси\n",
    "h = L / M # шаг по координате, h\n",
    "dt = 0.4 * h / c # коэффициент должен быть меньше единицы\n",
    "# В каждом узле мы храним значение давления и скорости среды\n",
    "data_current = np.zeros(M, dtype=[('vx', np.float64), ('vy', np.float64), ('p', np.float64)])\n",
    "data_next = np.zeros(M, dtype=[('vx', np.float64), ('vy', np.float64), ('p', np.float64)])\n",
    "\n",
    "# Определим теперь функции, которые на основании Omega и Omega^(-1) умеют нам возвращать трансформированный вектор\n",
    "def Omega_X(q):\n",
    "    vx, vy, p = q\n",
    "    return (vy, -rho * c * vx + p, rho * c * vx + p)\n",
    "\n",
    "def Omega_X_Inv(w1, w2, w3):\n",
    "    return ((w3 - w2) / (2 * rho * c), w1, (w2 + w3) / 2)\n",
    "\n",
    "def Omega_Y(q):\n",
    "    vx, vy, p = q\n",
    "    return (vx, -rho * c * vy + p, rho * c * vy + p)\n",
    "\n",
    "def Omega_Y_Inv(w1, w2, w3):\n",
    "    return (w1, (w3 - w2) / (2 * rho * c), (w2 + w3) / 2)\n",
    "\n",
    "# Начальные значения в виде продольной волны\n",
    "for i in range(int(1.0 / 3.0 * M), int(2.0 / 3.0 * M)):\n",
    "    data_current[i]['vx'] = 1.0\n",
    "    data_current[i]['vy'] = 0.5\n",
    "    data_current[i]['p'] = rho * c * data_current[i]['vx']\n",
    "\n",
    "# Рисуем график до начала расчёта\n",
    "x_m = np.linspace(-1.0, L - 1.0, M)\n",
    "plt.plot(x_m, data_current['vx'], label = \"Начальное значение vx\")\n",
    "plt.plot(x_m, data_current['vy'], label = \"Начальное значение vy\")\n",
    "plt.plot(x_m, data_current['p'], label = \"Начальное значение p\")\n",
    "for j in range(int(T / dt)):\n",
    "    for i in range(M):\n",
    "        # w1 for -c, w2 for +c\n",
    "        # Переходим в инварианты Римана\n",
    "        w1, w2, w3 = Omega_X(data_current[i])\n",
    "        if i == 0: # Левая граница области\n",
    "            w1p, w2p, w3p = Omega_X(data_current[M - 1])\n",
    "            w1n, w2n, w3n = Omega_X(data_current[i + 1])\n",
    "        elif i == M - 1: # Правая граница области\n",
    "            w1n, w2n, w3n = Omega_X(data_current[0])\n",
    "            w1p, w2p, w3p = Omega_X(data_current[i - 1])\n",
    "        else: # Внутри области\n",
    "            w1p, w2p, w3p = Omega_X(data_current[i - 1])\n",
    "            w1n, w2n, w3n = Omega_X(data_current[i + 1])\n",
    "        \n",
    "        # Решаем уравнения переноса на инварианты\n",
    "        # Схема 2-го порядка\n",
    "        a1 = (w1n + w1p - 2 * w1) / (2 * h ** 2)\n",
    "        b1 = (w1n - w1p) / (2 * h)\n",
    "        c1 = w1\n",
    "        a2 = (w2n + w2p - 2 * w2) / (2 * h ** 2)\n",
    "        b2 = (w2n - w2p) / (2 * h)\n",
    "        c2 = w2\n",
    "        a3 = (w3n + w3p - 2 * w3) / (2 * h ** 2)\n",
    "        b3 = (w3n - w3p) / (2 * h)\n",
    "        c3 = w3\n",
    "        k = c * dt\n",
    "        w1_new = a1 * k ** 2 + b1 * k + c1\n",
    "        w2_new = a2 * k ** 2 + b2 * k + c2\n",
    "        w3_new = a3 * k ** 2 + b3 * k + c3\n",
    "        '''\n",
    "        # Монотозация\n",
    "        if i == 0:\n",
    "            min_vx = min(data_next[M - 1]['vx'], data_next[i + 1]['vx'])\n",
    "            max_vx = max(data_next[M - 1]['vx'], data_next[i + 1]['vx'])\n",
    "            min_vy = min(data_next[M - 1]['vy'], data_next[i + 1]['vy'])\n",
    "            max_vy = max(data_next[M - 1]['vy'], data_next[i + 1]['vy'])\n",
    "            min_p = min(data_next[M - 1]['p'], data_next[i + 1]['p'])\n",
    "            max_p = max(data_next[M - 1]['p'], data_next[i + 1]['p'])\n",
    "        elif i == M - 1:\n",
    "            min_vx = min(data_next[i - 1]['vx'], data_next[0]['vx'])\n",
    "            max_vx = max(data_next[i - 1]['vx'], data_next[0]['vx'])\n",
    "            min_vy = min(data_next[i - 1]['vy'], data_next[0]['vy'])\n",
    "            max_vy = max(data_next[i - 1]['vy'], data_next[0]['vy'])\n",
    "            min_p = min(data_next[i - 1]['p'], data_next[0]['p'])\n",
    "            max_p = max(data_next[i - 1]['p'], data_next[0]['p'])\n",
    "        else:\n",
    "            min_vx = min(data_next[i - 1]['vx'], data_next[i + 1]['vx'])\n",
    "            max_vx = max(data_next[i - 1]['vx'], data_next[i + 1]['vx'])\n",
    "            min_vy = min(data_next[i - 1]['vy'], data_next[i + 1]['vy'])\n",
    "            max_vy = max(data_next[i - 1]['vy'], data_next[i + 1]['vy'])\n",
    "            min_p = min(data_next[i - 1]['p'], data_next[i + 1]['p'])\n",
    "            max_p = max(data_next[i - 1]['p'], data_next[i + 1]['p'])\n",
    "            \n",
    "        if w1_new < min_vx:\n",
    "            w1_new = min_vx\n",
    "        elif w1_new > max_vx:\n",
    "            w1_new = max_vx\n",
    "        if w2_new < min_vy:\n",
    "            w2_new = min_vy\n",
    "        elif w2_new > max_vy:\n",
    "            w2_new = max_vy\n",
    "        if w3_new < min_p:\n",
    "            w3_new = min_p\n",
    "        elif w2_new > max_p:\n",
    "            w2_new = max_p\n",
    "        '''\n",
    "        '''\n",
    "        # Схема 1-го порядка\n",
    "        w1_new = w1 - c * dt / h * (w1 - w1p)\n",
    "        w2_new = w2 - c * dt / h * (w2 - w2p)\n",
    "        w3_new = w3 - c * dt / h * (w3 - w3p)\n",
    "        '''\n",
    "        # Возвращаемся в исходные переменные\n",
    "        data_next[i]['vx'], data_next[i]['vy'], data_next[i]['p'] = Omega_X_Inv(w1_new, w2_new, w3_new)\n",
    "        \n",
    "    for i in range(M):\n",
    "        # w1 for -c, w2 for +c\n",
    "        # Переходим в инварианты Римана\n",
    "        w1, w2, w3 = Omega_Y(data_next[i])\n",
    "        if i == 0: # Левая граница области\n",
    "            w1p, w2p, w3p = Omega_Y(data_next[M - 1])\n",
    "            w1n, w2n, w3n = Omega_Y(data_next[i + 1])\n",
    "        elif i == M - 1: # Правая граница области\n",
    "            w1n, w2n, w3n = Omega_Y(data_next[0])\n",
    "            w1p, w2p, w3p = Omega_Y(data_next[i - 1])\n",
    "        else: # Внутри области\n",
    "            w1p, w2p, w3p = Omega_Y(data_next[i - 1])\n",
    "            w1n, w2n, w3n = Omega_Y(data_next[i + 1])\n",
    "        # Решаем уравнения переноса на инварианты\n",
    "        # Схема 2-го порядка\n",
    "        a1 = (w1n + w1p - 2 * w1) / (2 * h ** 2)\n",
    "        b1 = (w1n - w1p) / (2 * h)\n",
    "        c1 = w1\n",
    "        a2 = (w2n + w2p - 2 * w2) / (2 * h ** 2)\n",
    "        b2 = (w2n - w2p) / (2 * h)\n",
    "        c2 = w2\n",
    "        a3 = (w3n + w3p - 2 * w3) / (2 * h ** 2)\n",
    "        b3 = (w3n - w3p) / (2 * h)\n",
    "        c3 = w3\n",
    "        k = c * dt\n",
    "        w1_new = a1 * k ** 2 + b1 * k + c1\n",
    "        w2_new = a2 * k ** 2 + b2 * k + c2\n",
    "        w3_new = a3 * k ** 2 + b3 * k + c3\n",
    "        \n",
    "        '''\n",
    "        # Монотонизация\n",
    "        if i == 0:\n",
    "            min_vx = min(data_next[M - 1]['vx'], data_next[i + 1]['vx'])\n",
    "            max_vx = max(data_next[M - 1]['vx'], data_next[i + 1]['vx'])\n",
    "            min_vy = min(data_next[M - 1]['vy'], data_next[i + 1]['vy'])\n",
    "            max_vy = max(data_next[M - 1]['vy'], data_next[i + 1]['vy'])\n",
    "            min_p = min(data_next[M - 1]['p'], data_next[i + 1]['p'])\n",
    "            max_p = max(data_next[M - 1]['p'], data_next[i + 1]['p'])\n",
    "        elif i == M - 1:\n",
    "            min_vx = min(data_next[i - 1]['vx'], data_next[0]['vx'])\n",
    "            max_vx = max(data_next[i - 1]['vx'], data_next[0]['vx'])\n",
    "            min_vy = min(data_next[i - 1]['vy'], data_next[0]['vy'])\n",
    "            max_vy = max(data_next[i - 1]['vy'], data_next[0]['vy'])\n",
    "            min_p = min(data_next[i - 1]['p'], data_next[0]['p'])\n",
    "            max_p = max(data_next[i - 1]['p'], data_next[0]['p'])\n",
    "        else:\n",
    "            min_vx = min(data_next[i - 1]['vx'], data_next[i + 1]['vx'])\n",
    "            max_vx = max(data_next[i - 1]['vx'], data_next[i + 1]['vx'])\n",
    "            min_vy = min(data_next[i - 1]['vy'], data_next[i + 1]['vy'])\n",
    "            max_vy = max(data_next[i - 1]['vy'], data_next[i + 1]['vy'])\n",
    "            min_p = min(data_next[i - 1]['p'], data_next[i + 1]['p'])\n",
    "            max_p = max(data_next[i - 1]['p'], data_next[i + 1]['p'])\n",
    "            \n",
    "        if w1_new < min_vx:\n",
    "            w1_new = min_vx\n",
    "        elif w1_new > max_vx:\n",
    "            w1_new = max_vx\n",
    "        if w2_new < min_vy:\n",
    "            w2_new = min_vy\n",
    "        elif w2_new > max_vy:\n",
    "            w2_new = max_vy\n",
    "        if w3_new < min_p:\n",
    "            w3_new = min_p\n",
    "        elif w2_new > max_p:\n",
    "            w2_new = max_p\n",
    "        '''\n",
    "        '''\n",
    "        # Схема 1-го порядка\n",
    "        w1_new = w1 - c * dt / h * (w1 - w1p)\n",
    "        w2_new = w2 - c * dt / h * (w2 - w2p)\n",
    "        w3_new = w3 - c * dt / h * (w3 - w3p)\n",
    "        \n",
    "        '''\n",
    "        # Возвращаемся в исходные переменные\n",
    "        data_current[i]['vx'], data_current[i]['vy'], data_current[i]['p'] = Omega_Y_Inv(w1_new, w2_new, w3_new)\n",
    "# Рисуем график по окончанию расчёта\n",
    "plt.plot(x_m, data_current['vx'], label = \"Итоговое значение vx\")\n",
    "plt.plot(x_m, data_current['vy'], label = \"Итоговое значение vy\")\n",
    "plt.plot(x_m, data_current['p'], label = \"Итоговое значение p\")\n",
    "plt.legend()\n",
    "plt.show()"
   ]
  },
  {
   "cell_type": "code",
   "execution_count": null,
   "metadata": {},
   "outputs": [],
   "source": []
  }
 ],
 "metadata": {
  "kernelspec": {
   "display_name": "Python 3",
   "language": "python",
   "name": "python3"
  },
  "language_info": {
   "codemirror_mode": {
    "name": "ipython",
    "version": 3
   },
   "file_extension": ".py",
   "mimetype": "text/x-python",
   "name": "python",
   "nbconvert_exporter": "python",
   "pygments_lexer": "ipython3",
   "version": "3.8.3"
  }
 },
 "nbformat": 4,
 "nbformat_minor": 4
}

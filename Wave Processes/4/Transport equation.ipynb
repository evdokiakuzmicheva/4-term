{
 "cells": [
  {
   "cell_type": "code",
   "execution_count": 2,
   "metadata": {},
   "outputs": [],
   "source": [
    "# Импорт используемых модулей\n",
    "from sympy import Matrix, symbols, init_printing, Eq, solve\n",
    "import numpy as np\n",
    "import matplotlib.pyplot as plt\n",
    "init_printing()"
   ]
  },
  {
   "cell_type": "code",
   "execution_count": 280,
   "metadata": {},
   "outputs": [
    {
     "name": "stdout",
     "output_type": "stream",
     "text": [
      "Let's deal with 1D problem.\n",
      "The matrix A = \n"
     ]
    },
    {
     "data": {
      "text/latex": [
       "$\\displaystyle \\left[\\begin{matrix}0 & \\frac{1}{\\rho}\\\\c^{2} \\rho & 0\\end{matrix}\\right]$"
      ],
      "text/plain": [
       "⎡      1⎤\n",
       "⎢ 0    ─⎥\n",
       "⎢      ρ⎥\n",
       "⎢       ⎥\n",
       "⎢ 2     ⎥\n",
       "⎣c ⋅ρ  0⎦"
      ]
     },
     "metadata": {},
     "output_type": "display_data"
    },
    {
     "name": "stdout",
     "output_type": "stream",
     "text": [
      "Matrix([[-c], [c]])\n"
     ]
    },
    {
     "data": {
      "text/latex": [
       "$\\displaystyle \\left[ \\left( - c, \\  1, \\  \\left[ \\left[\\begin{matrix}- \\frac{1}{c \\rho}\\\\1\\end{matrix}\\right]\\right]\\right), \\  \\left( c, \\  1, \\  \\left[ \\left[\\begin{matrix}\\frac{1}{c \\rho}\\\\1\\end{matrix}\\right]\\right]\\right)\\right]$"
      ],
      "text/plain": [
       "⎡⎛       ⎡⎡-1 ⎤⎤⎞  ⎛      ⎡⎡ 1 ⎤⎤⎞⎤\n",
       "⎢⎜       ⎢⎢───⎥⎥⎟  ⎜      ⎢⎢───⎥⎥⎟⎥\n",
       "⎢⎜-c, 1, ⎢⎢c⋅ρ⎥⎥⎟, ⎜c, 1, ⎢⎢c⋅ρ⎥⎥⎟⎥\n",
       "⎢⎜       ⎢⎢   ⎥⎥⎟  ⎜      ⎢⎢   ⎥⎥⎟⎥\n",
       "⎣⎝       ⎣⎣ 1 ⎦⎦⎠  ⎝      ⎣⎣ 1 ⎦⎦⎠⎦"
      ]
     },
     "metadata": {},
     "output_type": "display_data"
    }
   ],
   "source": [
    "# Акустическая модель\n",
    "rho, c = symbols(\"rho c\")\n",
    "print(\"Let's deal with 1D problem.\")\n",
    "A = Matrix([[0, 1 / rho],[rho * c**2, 0]]) # Создаём матрицу для 1D акустической задачи\n",
    "print(\"The matrix A = \")\n",
    "display(A)\n",
    "w = A.eigenvals() # Вычисляем её собственные значения\n",
    "print(Matrix(list(w)))\n",
    "display(A.eigenvects())"
   ]
  },
  {
   "cell_type": "code",
   "execution_count": 271,
   "metadata": {},
   "outputs": [
    {
     "data": {
      "text/latex": [
       "$\\displaystyle \\left[\\begin{matrix}1 & 1\\\\-1 & 1\\end{matrix}\\right]$"
      ],
      "text/plain": [
       "⎡1   1⎤\n",
       "⎢     ⎥\n",
       "⎣-1  1⎦"
      ]
     },
     "metadata": {},
     "output_type": "display_data"
    }
   ],
   "source": [
    "Omega = Matrix([[1, 1], [-1, 1]])\n",
    "display(Omega)"
   ]
  },
  {
   "cell_type": "code",
   "execution_count": 276,
   "metadata": {},
   "outputs": [],
   "source": [
    "# С-х метод на примере 1D уравнения переноса\n",
    "L = 2.0 # x = [-1,1]\n",
    "C = 1.0 # lyambda\n",
    "T = 1.0 * L / abs(C) # 1 полный оборот начального возмущения\n",
    "M = 210 # количество узлов вдоль оси\n",
    "h = L / M # шаг по координате, h\n",
    "dt = 0.4 * h / abs(C) # коэффициент должен быть меньше единицы\n",
    "v_curr = np.zeros(M)\n",
    "v_next = np.zeros(M)\n",
    "p_curr, p_next = np.zeros(M), np.zeros(M)\n",
    "for i in range(int(1.0 / 3.0 * M), int(2.0 / 3.0 * M)):\n",
    "    v_curr[i] = 1.0 # начальное ненулевое значение в средней трети области\n",
    "    p_curr[i] = 2.0\n",
    "    \n",
    "for i in range(M):\n",
    "    para = Omega * Matrix([v_curr[i], p_curr[i]])\n",
    "    v_curr[i] = para[0]\n",
    "    p_curr[i] = para[1]\n",
    "\n",
    "# Рисуем график до начала расчёта\n",
    "x_m = np.linspace(-1.0, L, M)\n",
    "\n",
    "# Начальные условия\n",
    "v_0, p_0 = [], []\n",
    "for i in range(len(v_curr)):\n",
    "    v_0.append(v_curr[i])\n",
    "    p_0.append(p_curr[i])\n",
    "\n",
    "# Скорость\n",
    "for j in range(int(T / dt)):\n",
    "    for i in range(M):\n",
    "        if i == 0: # периодические граничные условия\n",
    "            a = (v_curr[i + 1] + v_curr[M - 1] - 2 * v_curr[i]) / (2 * h ** 2)\n",
    "            b = (v_curr[i + 1] - v_curr[M - 1]) / (2 * h)\n",
    "        elif i == M - 1:\n",
    "            a = (v_curr[0] + v_curr[i - 1] - 2 * v_curr[i]) / (2 * h ** 2)\n",
    "            b = (v_curr[0] - v_curr[i - 1]) / (2 * h)\n",
    "        else:\n",
    "            a = (v_curr[i + 1] + v_curr[i - 1] - 2 * v_curr[i]) / (2 * h ** 2)\n",
    "            b = (v_curr[i + 1] - v_curr[i - 1]) / (2 * h)\n",
    "        c = v_curr[i]\n",
    "        k = C * dt\n",
    "        temp = a * k ** 2 + b * k + c\n",
    "        if i != 0 and i != M - 1:\n",
    "            min_, max_ = min(v_curr[i - 1], v_curr[i + 1]), max(v_curr[i - 1], v_curr[i + 1])\n",
    "            if temp > max_:\n",
    "                v_next[i] = max_\n",
    "            elif temp < min_:\n",
    "                v_next[i] = min_\n",
    "            else:\n",
    "                v_next[i] = temp\n",
    "        else:\n",
    "            v_next[i] = temp\n",
    "    for i in range(M):\n",
    "        v_curr[i] = v_next[i]\n",
    "\n",
    "# Давление\n",
    "for j in range(int(T / dt)):\n",
    "    for i in range(M):\n",
    "        if i == 0: # периодические граничные условия\n",
    "            a = (p_curr[i + 1] + p_curr[M - 1] - 2 * p_curr[i]) / (2 * h ** 2)\n",
    "            b = (p_curr[i + 1] - p_curr[M - 1]) / (2 * h)\n",
    "        elif i == M - 1:\n",
    "            a = (p_curr[0] + p_curr[i - 1] - 2 * p_curr[i]) / (2 * h ** 2)\n",
    "            b = (p_curr[0] - p_curr[i - 1]) / (2 * h)\n",
    "        else:\n",
    "            a = (p_curr[i + 1] + p_curr[i - 1] - 2 * p_curr[i]) / (2 * h ** 2)\n",
    "            b = (p_curr[i + 1] - p_curr[i - 1]) / (2 * h)\n",
    "        c = p_curr[i]\n",
    "        k = C * dt\n",
    "        temp = a * k ** 2 + b * k + c\n",
    "        if i != 0 and i != M - 1:\n",
    "            min_, max_ = min(p_curr[i - 1], p_curr[i + 1]), max(p_curr[i - 1], p_curr[i + 1])\n",
    "            if temp > max_:\n",
    "                p_next[i] = max_\n",
    "            elif temp < min_:\n",
    "                p_next[i] = min_\n",
    "            else:\n",
    "                p_next[i] = temp\n",
    "        else:\n",
    "            p_next[i] = temp\n",
    "    for i in range(M):\n",
    "        p_curr[i] = p_next[i]"
   ]
  },
  {
   "cell_type": "code",
   "execution_count": 277,
   "metadata": {},
   "outputs": [
    {
     "data": {
      "image/png": "[encoded data removed]",
      "text/plain": [
       "<Figure size 432x288 with 1 Axes>"
      ]
     },
     "metadata": {
      "needs_background": "light"
     },
     "output_type": "display_data"
    }
   ],
   "source": [
    "for i in range(M):\n",
    "    para = Omega ** (-1) * Matrix([v_curr[i], p_curr[i]])\n",
    "    v_curr[i] = abs(para[0])\n",
    "    p_curr[i] = abs(para[1])\n",
    "for i in range(M):\n",
    "    para = Omega ** (-1) * Matrix([v_0[i], p_0[i]])\n",
    "    v_0[i] = abs(para[0])\n",
    "    p_0[i] = abs(para[1])\n",
    "plt.plot(x_m, v_0, label = \"Начальное значение\")\n",
    "plt.plot(x_m, v_curr, 'o', label = \"Итоговое значение\")\n",
    "plt.legend()\n",
    "plt.title('Скорость')\n",
    "plt.show()"
   ]
  },
  {
   "cell_type": "code",
   "execution_count": 279,
   "metadata": {},
   "outputs": [
    {
     "data": {
      "image/png": "[encoded data removed]",
      "text/plain": [
       "<Figure size 432x288 with 1 Axes>"
      ]
     },
     "metadata": {
      "needs_background": "light"
     },
     "output_type": "display_data"
    }
   ],
   "source": [
    "plt.plot(x_m, p_0, label = \"Начальное значение\")\n",
    "plt.plot(x_m, p_curr, 'o', label = \"Итоговое значение\")\n",
    "plt.legend()\n",
    "plt.title('Давление')\n",
    "plt.show()"
   ]
  },
  {
   "cell_type": "code",
   "execution_count": null,
   "metadata": {},
   "outputs": [],
   "source": []
  }
 ],
 "metadata": {
  "kernelspec": {
   "display_name": "Python 3",
   "language": "python",
   "name": "python3"
  },
  "language_info": {
   "codemirror_mode": {
    "name": "ipython",
    "version": 3
   },
   "file_extension": ".py",
   "mimetype": "text/x-python",
   "name": "python",
   "nbconvert_exporter": "python",
   "pygments_lexer": "ipython3",
   "version": "3.8.3"
  }
 },
 "nbformat": 4,
 "nbformat_minor": 4
}

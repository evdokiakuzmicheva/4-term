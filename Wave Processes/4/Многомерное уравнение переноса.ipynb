{
 "cells": [
  {
   "cell_type": "markdown",
   "metadata": {},
   "source": [
    "# Многомерное уравнение переноса"
   ]
  },
  {
   "cell_type": "code",
   "execution_count": 11,
   "metadata": {},
   "outputs": [],
   "source": [
    "# Импортируем numpy для хранения результатов расчётов\n",
    "import numpy as np\n",
    "# Импортируем модуль matplolib для визуализации результатов\n",
    "import matplotlib.pyplot as plt"
   ]
  },
  {
   "cell_type": "code",
   "execution_count": 12,
   "metadata": {},
   "outputs": [],
   "source": [
    "# С-х метод на примере 1D уравнения переноса\n",
    "L = 2.0 # x = [-1,1]\n",
    "CX = 1.0 # lyambdaX\n",
    "CY = 1.0 # lyambdaY\n",
    "T = 1.0 * L / min(abs(CX), abs(CY)) # 1 полный оборот начального возмущения\n",
    "M = 41 # количество узлов вдоль оси\n",
    "nx = M\n",
    "ny = M\n",
    "h = L / M # шаг по координате, h\n",
    "dt = 0.4 * h / max(abs(CX), abs(CY))  # коэффициент должен быть меньше единицы\n",
    "# dtype=[('p', np.float64), ('vx', np.float64)] - имя переменной, тип переменной.\n",
    "# Скалярное уравнение, но двумерное. Все равно в узле 1 значение.\n",
    "data_current = np.zeros((M, M), dtype=[('q', np.float64)])\n",
    "data_next = np.zeros((M, M), dtype=[('q', np.float64)])\n",
    "\n",
    "# Начальные значения\n",
    "for j in range(ny):\n",
    "    for i in range(nx):\n",
    "        if (i > nx / 3.0) and (i < 2.0 * nx / 3.0) and (j > ny / 3.0) and (j < 2.0 * ny / 3.0):\n",
    "            data_current[j, i]['q'] = 1.0"
   ]
  },
  {
   "cell_type": "code",
   "execution_count": 13,
   "metadata": {},
   "outputs": [],
   "source": [
    "# Расчёт\n",
    "for k in range(int(T / dt)):\n",
    "    # Шаг по X\n",
    "    for j in range(ny):\n",
    "        for i in range(nx):\n",
    "            if i == 0: # периодические граничные условия\n",
    "                a = (data_current[j, i + 1]['q'] + data_current[j, M - 1]['q'] - 2 * data_current[j, i]['q']) / (2 * h ** 2)\n",
    "                b = (data_current[j, i + 1]['q'] - data_current[j, M - 1]['q']) / (2 * h)\n",
    "            elif i == M - 1:\n",
    "                a = (data_current[j, 0]['q'] + data_current[j, i - 1]['q'] - 2 * data_current[j, i]['q']) / (2 * h ** 2)\n",
    "                b = (data_current[j, 0]['q'] - data_current[j, i - 1]['q']) / (2 * h)\n",
    "            else:\n",
    "                a = (data_current[j, i + 1]['q'] + data_current[j, i - 1]['q'] - 2 * data_current[j, i]['q']) / (2 * h ** 2)\n",
    "                b = (data_current[j, i + 1]['q'] - data_current[j, i - 1]['q']) / (2 * h)\n",
    "            k = CX * dt\n",
    "            c = data_current[j, i]['q']\n",
    "            \n",
    "            # Монотонизация\n",
    "            v = a * k ** 2 + b * k + c\n",
    "            data_next[j, i]['q'] = v\n",
    "            if i == 0:\n",
    "                min_ = min(data_current[j, M - 1]['q'], data_current[j, i + 1]['q'])\n",
    "                max_ = max(data_current[j, M - 1]['q'], data_current[j, i + 1]['q'])\n",
    "            elif i == M - 1:\n",
    "                min_ = min(data_current[j, i - 1]['q'], data_current[j, 0]['q'])\n",
    "                max_ = max(data_current[j, i - 1]['q'], data_current[j, 0]['q'])\n",
    "            else:\n",
    "                min_ = min(data_current[j, i - 1]['q'], data_current[j, i + 1]['q'])\n",
    "                max_ = max(data_current[j, i - 1]['q'], data_current[j, i + 1]['q'])\n",
    "            if v < min_:\n",
    "                data_next[j, i]['q'] = min_\n",
    "            elif v > max_:\n",
    "                data_next[j, i]['q'] = max_\n",
    "            # data_next[j, i]['q'] = a * k ** 2 + b * k + c\n",
    "    \n",
    "    # Шаг по Y\n",
    "    for j in range(ny):\n",
    "        for i in range(nx):\n",
    "            if j == 0: # периодические граничные условия\n",
    "                a = (data_next[j + 1, i]['q'] + data_next[M - 1, i]['q'] - 2 * data_next[j, i]['q']) / (2 * h ** 2)\n",
    "                b = (data_next[j + 1, i]['q'] - data_next[M - 1, i]['q']) / (2 * h)\n",
    "            elif j == M - 1:\n",
    "                a = (data_next[0, i]['q'] + data_next[j - 1, i]['q'] - 2 * data_next[j, i]['q']) / (2 * h ** 2)\n",
    "                b = (data_next[0, i]['q'] - data_next[j - 1, i]['q']) / (2 * h)\n",
    "            else:\n",
    "                a = (data_next[j + 1, i]['q'] + data_next[j - 1, i]['q'] - 2 * data_next[j, i]['q']) / (2 * h ** 2)\n",
    "                b = (data_next[j + 1, i]['q'] - data_next[j - 1, i]['q']) / (2 * h)\n",
    "            k = CY * dt\n",
    "            c = data_next[j, i]['q']\n",
    "            \n",
    "            # Монотонизация\n",
    "            v = a * k ** 2 + b * k + c\n",
    "            data_current[j, i]['q'] = v\n",
    "            if j == 0:\n",
    "                min_ = min(data_next[M - 1, i]['q'], data_next[j + 1, i]['q'])\n",
    "                max_ = max(data_next[M - 1, i]['q'], data_next[j + 1, i]['q'])\n",
    "            elif j == M - 1:\n",
    "                min_ = min(data_next[j - 1, i]['q'], data_next[0, i]['q'])\n",
    "                max_ = max(data_next[j - 1, i]['q'], data_next[0, i]['q'])\n",
    "            else:\n",
    "                min_ = min(data_next[j - 1, i]['q'], data_next[j + 1, i]['q'])\n",
    "                max_ = max(data_next[j - 1, i]['q'], data_next[j + 1, i]['q'])\n",
    "            if v < min_:\n",
    "                data_current[j, i]['q'] = min_\n",
    "            elif v > max_:\n",
    "                data_current[j, i]['q'] = max_\n",
    "            # data_current[j, i]['q'] = a * k ** 2 + b * k + c"
   ]
  },
  {
   "cell_type": "code",
   "execution_count": 15,
   "metadata": {},
   "outputs": [
    {
     "data": {
      "image/png": "[encoded data removed]",
      "text/plain": [
       "<Figure size 432x288 with 2 Axes>"
      ]
     },
     "metadata": {
      "needs_background": "light"
     },
     "output_type": "display_data"
    }
   ],
   "source": [
    "# Отображение 2Д данных цветом\n",
    "fig, ax = plt.subplots()\n",
    "ax.set_title('Распределение концетрации')\n",
    "_ = ax.set_xlabel('Горизонталь OX, м')\n",
    "_ = ax.set_ylabel('Вертикаль OY, м')\n",
    "img = ax.imshow(data_current['q'], vmin = 0, vmax = 1, origin ='lower')\n",
    "_ = fig.colorbar(img)"
   ]
  },
  {
   "cell_type": "code",
   "execution_count": null,
   "metadata": {},
   "outputs": [],
   "source": []
  }
 ],
 "metadata": {
  "kernelspec": {
   "display_name": "Python 3",
   "language": "python",
   "name": "python3"
  },
  "language_info": {
   "codemirror_mode": {
    "name": "ipython",
    "version": 3
   },
   "file_extension": ".py",
   "mimetype": "text/x-python",
   "name": "python",
   "nbconvert_exporter": "python",
   "pygments_lexer": "ipython3",
   "version": "3.8.3"
  }
 },
 "nbformat": 4,
 "nbformat_minor": 4
}

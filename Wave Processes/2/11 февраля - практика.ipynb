{
 "cells": [
  {
   "cell_type": "markdown",
   "metadata": {},
   "source": [
    "# Гиперболические системы уравнений, реология сред"
   ]
  },
  {
   "cell_type": "code",
   "execution_count": 1,
   "metadata": {},
   "outputs": [],
   "source": [
    "# Импорт используемых модулей\n",
    "from sympy import Matrix, symbols, init_printing\n",
    "init_printing()"
   ]
  },
  {
   "cell_type": "code",
   "execution_count": 2,
   "metadata": {},
   "outputs": [
    {
     "name": "stdout",
     "output_type": "stream",
     "text": [
      "Let's deal with 1D problem.\n",
      "The matrix Ax = \n"
     ]
    },
    {
     "data": {
      "text/latex": [
       "$\\displaystyle \\left[\\begin{matrix}0 & \\frac{1}{\\rho}\\\\c^{2} \\rho & 0\\end{matrix}\\right]$"
      ],
      "text/plain": [
       "⎡      1⎤\n",
       "⎢ 0    ─⎥\n",
       "⎢      ρ⎥\n",
       "⎢       ⎥\n",
       "⎢ 2     ⎥\n",
       "⎣c ⋅ρ  0⎦"
      ]
     },
     "metadata": {},
     "output_type": "display_data"
    },
    {
     "name": "stdout",
     "output_type": "stream",
     "text": [
      "It has two eigenvalues: \n"
     ]
    },
    {
     "data": {
      "image/png": "[encoded data removed]",
      "text/latex": [
       "$\\displaystyle \\left\\{ - c : 1, \\  c : 1\\right\\}$"
      ],
      "text/plain": [
       "{-c: 1, c: 1}"
      ]
     },
     "metadata": {},
     "output_type": "display_data"
    },
    {
     "name": "stdout",
     "output_type": "stream",
     "text": [
      "Let's deal with 2D problem.\n",
      "The matrix Ax = \n"
     ]
    },
    {
     "data": {
      "text/latex": [
       "$\\displaystyle \\left[\\begin{matrix}0 & 0 & \\frac{1}{\\rho}\\\\0 & 0 & 0\\\\c^{2} \\rho & 0 & 0\\end{matrix}\\right]$"
      ],
      "text/plain": [
       "⎡         1⎤\n",
       "⎢ 0    0  ─⎥\n",
       "⎢         ρ⎥\n",
       "⎢          ⎥\n",
       "⎢ 0    0  0⎥\n",
       "⎢          ⎥\n",
       "⎢ 2        ⎥\n",
       "⎣c ⋅ρ  0  0⎦"
      ]
     },
     "metadata": {},
     "output_type": "display_data"
    },
    {
     "name": "stdout",
     "output_type": "stream",
     "text": [
      "It has three eigenvalues: \n"
     ]
    },
    {
     "data": {
      "image/png": "[encoded data removed]",
      "text/latex": [
       "$\\displaystyle \\left\\{ 0 : 1, \\  - c : 1, \\  c : 1\\right\\}$"
      ],
      "text/plain": [
       "{0: 1, -c: 1, c: 1}"
      ]
     },
     "metadata": {},
     "output_type": "display_data"
    },
    {
     "name": "stdout",
     "output_type": "stream",
     "text": [
      "The matrix Ay = \n"
     ]
    },
    {
     "data": {
      "text/latex": [
       "$\\displaystyle \\left[\\begin{matrix}0 & 0 & 0\\\\0 & 0 & \\frac{1}{\\rho}\\\\0 & c^{2} \\rho & 0\\end{matrix}\\right]$"
      ],
      "text/plain": [
       "⎡0   0    0⎤\n",
       "⎢          ⎥\n",
       "⎢         1⎥\n",
       "⎢0   0    ─⎥\n",
       "⎢         ρ⎥\n",
       "⎢          ⎥\n",
       "⎢    2     ⎥\n",
       "⎣0  c ⋅ρ  0⎦"
      ]
     },
     "metadata": {},
     "output_type": "display_data"
    },
    {
     "name": "stdout",
     "output_type": "stream",
     "text": [
      "It has three eigenvalues: \n"
     ]
    },
    {
     "data": {
      "image/png": "[encoded data removed]",
      "text/latex": [
       "$\\displaystyle \\left\\{ 0 : 1, \\  - c : 1, \\  c : 1\\right\\}$"
      ],
      "text/plain": [
       "{0: 1, -c: 1, c: 1}"
      ]
     },
     "metadata": {},
     "output_type": "display_data"
    }
   ],
   "source": [
    "# Акустическая модель\n",
    "rho, c = symbols(\"rho c\")\n",
    "print(\"Let's deal with 1D problem.\")\n",
    "A1 = Matrix([[0, 1 / rho],[rho * c**2, 0]]) # Создаём матрицу для 1D акустической задачи\n",
    "print(\"The matrix Ax = \")\n",
    "display(A1)\n",
    "w = A1.eigenvals() # Вычисляем её собственные значения\n",
    "print(\"It has two eigenvalues: \")\n",
    "display(w)\n",
    "\n",
    "print(\"Let's deal with 2D problem.\")\n",
    "Ax = Matrix([[0, 0, 1 / rho],[0, 0, 0], [rho * c**2, 0, 0]]) # Создаём матрицу Ax для 2D акустической задачи\n",
    "print(\"The matrix Ax = \")\n",
    "display(Ax)\n",
    "w = Ax.eigenvals() # Вычисляем её собственные значения\n",
    "print(\"It has three eigenvalues: \")\n",
    "display(w)\n",
    "Ay = Matrix([[0, 0, 0],[0, 0, 1 / rho], [0, rho * c**2, 0]]) # Создаём матрицу Ay для 2D акустической задачи\n",
    "print(\"The matrix Ay = \")\n",
    "display(Ay)\n",
    "w = Ay.eigenvals() # Вычисляем её собственные значения\n",
    "print(\"It has three eigenvalues: \")\n",
    "display(w)"
   ]
  },
  {
   "cell_type": "code",
   "execution_count": 3,
   "metadata": {},
   "outputs": [
    {
     "name": "stdout",
     "output_type": "stream",
     "text": [
      "The matrix Ax = \n"
     ]
    },
    {
     "data": {
      "text/latex": [
       "$\\displaystyle \\left[\\begin{matrix}0 & 0 & - \\frac{1}{\\rho} & 0 & 0\\\\0 & 0 & 0 & 0 & - \\frac{1}{\\rho}\\\\- \\lambda - 2.0 \\mu & 0 & 0 & 0 & 0\\\\- \\lambda & 0 & 0 & 0 & 0\\\\0 & - \\mu & 0 & 0 & 0\\end{matrix}\\right]$"
      ],
      "text/plain": [
       "⎡                -1         ⎤\n",
       "⎢    0       0   ───  0   0 ⎥\n",
       "⎢                 ρ         ⎥\n",
       "⎢                           ⎥\n",
       "⎢                        -1 ⎥\n",
       "⎢    0       0    0   0  ───⎥\n",
       "⎢                         ρ ⎥\n",
       "⎢                           ⎥\n",
       "⎢-λ - 2.0⋅μ  0    0   0   0 ⎥\n",
       "⎢                           ⎥\n",
       "⎢    -λ      0    0   0   0 ⎥\n",
       "⎢                           ⎥\n",
       "⎣    0       -μ   0   0   0 ⎦"
      ]
     },
     "metadata": {},
     "output_type": "display_data"
    },
    {
     "name": "stdout",
     "output_type": "stream",
     "text": [
      "It has 5 eigenvalues: \n"
     ]
    },
    {
     "data": {
      "image/png": "[encoded data removed]",
      "text/latex": [
       "$\\displaystyle \\left\\{ 0 : 1, \\  - \\sqrt{\\frac{\\mu}{\\rho}} : 1, \\  \\sqrt{\\frac{\\mu}{\\rho}} : 1, \\  - \\sqrt{\\frac{\\lambda}{\\rho} + \\frac{2 \\mu}{\\rho}} : 1, \\  \\sqrt{\\frac{\\lambda}{\\rho} + \\frac{2 \\mu}{\\rho}} : 1\\right\\}$"
      ],
      "text/plain": [
       "⎧           ___         ___          _________         _________   ⎫\n",
       "⎪          ╱ μ         ╱ μ          ╱ λ   2⋅μ         ╱ λ   2⋅μ    ⎪\n",
       "⎨0: 1, -  ╱  ─ : 1,   ╱  ─ : 1, -  ╱  ─ + ─── : 1,   ╱  ─ + ─── : 1⎬\n",
       "⎪       ╲╱   ρ      ╲╱   ρ       ╲╱   ρ    ρ       ╲╱   ρ    ρ     ⎪\n",
       "⎩                                                                  ⎭"
      ]
     },
     "metadata": {},
     "output_type": "display_data"
    }
   ],
   "source": [
    "# Упругая модель 2D\n",
    "rho, lam, mu = symbols(\"rho lambda mu\")\n",
    "Ax = Matrix([[0, 0, -1 / rho, 0, 0],\n",
    "             [0, 0, 0, 0, -1 / rho],\n",
    "             [-lam - 2.0 * mu, 0, 0, 0, 0],\n",
    "             [-lam, 0, 0, 0, 0],\n",
    "             [0, -mu, 0, 0, 0]\n",
    "            ]) # Создаём матрицу Ax для 2D упругой задачи\n",
    "print(\"The matrix Ax = \")\n",
    "display(Ax)\n",
    "w = Ax.eigenvals() # Вычисляем её собственные значения\n",
    "print(\"It has 5 eigenvalues: \")\n",
    "display(w)"
   ]
  },
  {
   "cell_type": "code",
   "execution_count": 4,
   "metadata": {},
   "outputs": [],
   "source": [
    "# ЗАДАНИЕ. Изучите структуру и собственные значения Ay."
   ]
  },
  {
   "cell_type": "code",
   "execution_count": 5,
   "metadata": {},
   "outputs": [],
   "source": [
    "# ЗАДАНИЕ. Изучите структуру и собственные значения матриц для Cij и VTI анизотропии. Что происходит, при попытке \"подкрутить\"\n",
    "# их в изотропный случай? Если возможно, запишите условия \"эквивалентности изотропной среде\"."
   ]
  },
  {
   "cell_type": "code",
   "execution_count": 6,
   "metadata": {},
   "outputs": [
    {
     "name": "stdout",
     "output_type": "stream",
     "text": [
      "The matrix Ay = \n"
     ]
    },
    {
     "data": {
      "text/latex": [
       "$\\displaystyle \\left[\\begin{matrix}0 & 0 & 0 & 0 & - \\frac{1}{\\rho}\\\\0 & 0 & 0 & - \\frac{1}{\\rho} & 0\\\\0 & - \\lambda & 0 & 0 & 0\\\\0 & - \\lambda - 2.0 \\mu & 0 & 0 & 0\\\\- \\mu & 0 & 0 & 0 & 0\\end{matrix}\\right]$"
      ],
      "text/plain": [
       "⎡                        -1 ⎤\n",
       "⎢0       0       0   0   ───⎥\n",
       "⎢                         ρ ⎥\n",
       "⎢                           ⎥\n",
       "⎢                   -1      ⎥\n",
       "⎢0       0       0  ───   0 ⎥\n",
       "⎢                    ρ      ⎥\n",
       "⎢                           ⎥\n",
       "⎢0       -λ      0   0    0 ⎥\n",
       "⎢                           ⎥\n",
       "⎢0   -λ - 2.0⋅μ  0   0    0 ⎥\n",
       "⎢                           ⎥\n",
       "⎣-μ      0       0   0    0 ⎦"
      ]
     },
     "metadata": {},
     "output_type": "display_data"
    },
    {
     "name": "stdout",
     "output_type": "stream",
     "text": [
      "It has 5 eigenvalues: \n"
     ]
    },
    {
     "data": {
      "image/png": "[encoded data removed]",
      "text/latex": [
       "$\\displaystyle \\left\\{ 0 : 1, \\  - \\sqrt{\\frac{\\mu}{\\rho}} : 1, \\  \\sqrt{\\frac{\\mu}{\\rho}} : 1, \\  - \\sqrt{\\frac{\\lambda}{\\rho} + \\frac{2 \\mu}{\\rho}} : 1, \\  \\sqrt{\\frac{\\lambda}{\\rho} + \\frac{2 \\mu}{\\rho}} : 1\\right\\}$"
      ],
      "text/plain": [
       "⎧           ___         ___          _________         _________   ⎫\n",
       "⎪          ╱ μ         ╱ μ          ╱ λ   2⋅μ         ╱ λ   2⋅μ    ⎪\n",
       "⎨0: 1, -  ╱  ─ : 1,   ╱  ─ : 1, -  ╱  ─ + ─── : 1,   ╱  ─ + ─── : 1⎬\n",
       "⎪       ╲╱   ρ      ╲╱   ρ       ╲╱   ρ    ρ       ╲╱   ρ    ρ     ⎪\n",
       "⎩                                                                  ⎭"
      ]
     },
     "metadata": {},
     "output_type": "display_data"
    },
    {
     "name": "stdout",
     "output_type": "stream",
     "text": [
      "Eigenvectors:\n"
     ]
    },
    {
     "data": {
      "text/latex": [
       "$\\displaystyle \\left[ \\left( 0, \\  1, \\  \\left[ \\left[\\begin{matrix}0\\\\0\\\\1.0\\\\0\\\\0\\end{matrix}\\right]\\right]\\right), \\  \\left( - \\left(\\frac{\\mu}{\\rho}\\right)^{0.5}, \\  1, \\  \\left[ \\left[\\begin{matrix}\\frac{1}{\\rho \\left(\\frac{\\mu}{\\rho}\\right)^{0.5}}\\\\0\\\\0\\\\0\\\\1.0\\end{matrix}\\right]\\right]\\right), \\  \\left( \\left(\\frac{\\mu}{\\rho}\\right)^{0.5}, \\  1, \\  \\left[ \\left[\\begin{matrix}- \\frac{1}{\\rho \\left(\\frac{\\mu}{\\rho}\\right)^{0.5}}\\\\0\\\\0\\\\0\\\\1.0\\end{matrix}\\right]\\right]\\right), \\  \\left( - 1.4142135623731 \\left(\\frac{0.5 \\lambda}{\\rho} + \\frac{\\mu}{\\rho}\\right)^{0.5}, \\  1, \\  \\left[ \\left[\\begin{matrix}0\\\\\\frac{0.707106781186548}{\\rho \\left(\\frac{0.5 \\lambda}{\\rho} + \\frac{\\mu}{\\rho}\\right)^{0.5}}\\\\\\frac{\\lambda}{\\lambda + 2.0 \\mu}\\\\1.0\\\\0\\end{matrix}\\right]\\right]\\right), \\  \\left( 1.4142135623731 \\left(\\frac{0.5 \\lambda}{\\rho} + \\frac{\\mu}{\\rho}\\right)^{0.5}, \\  1, \\  \\left[ \\left[\\begin{matrix}0\\\\- \\frac{0.707106781186548}{\\rho \\left(\\frac{0.5 \\lambda}{\\rho} + \\frac{\\mu}{\\rho}\\right)^{0.5}}\\\\\\frac{\\lambda}{\\lambda + 2.0 \\mu}\\\\1.0\\\\0\\end{matrix}\\right]\\right]\\right)\\right]$"
      ],
      "text/plain": [
       "⎡                                                                        ⎛    \n",
       "⎢                 ⎛            ⎡⎡   -0.5⎤⎤⎞  ⎛           ⎡⎡    -0.5 ⎤⎤⎞  ⎜    \n",
       "⎢                 ⎜            ⎢⎢⎛μ⎞    ⎥⎥⎟  ⎜           ⎢⎢ ⎛μ⎞     ⎥⎥⎟  ⎜    \n",
       "⎢                 ⎜            ⎢⎢⎜─⎟    ⎥⎥⎟  ⎜           ⎢⎢-⎜─⎟     ⎥⎥⎟  ⎜    \n",
       "⎢⎛      ⎡⎡ 0 ⎤⎤⎞  ⎜            ⎢⎢⎝ρ⎠    ⎥⎥⎟  ⎜           ⎢⎢ ⎝ρ⎠     ⎥⎥⎟  ⎜    \n",
       "⎢⎜      ⎢⎢   ⎥⎥⎟  ⎜            ⎢⎢───────⎥⎥⎟  ⎜           ⎢⎢─────────⎥⎥⎟  ⎜    \n",
       "⎢⎜      ⎢⎢ 0 ⎥⎥⎟  ⎜    0.5     ⎢⎢   ρ   ⎥⎥⎟  ⎜   0.5     ⎢⎢    ρ    ⎥⎥⎟  ⎜    \n",
       "⎢⎜      ⎢⎢   ⎥⎥⎟  ⎜ ⎛μ⎞        ⎢⎢       ⎥⎥⎟  ⎜⎛μ⎞        ⎢⎢         ⎥⎥⎟  ⎜    \n",
       "⎢⎜0, 1, ⎢⎢1.0⎥⎥⎟, ⎜-⎜─⎟   , 1, ⎢⎢   0   ⎥⎥⎟, ⎜⎜─⎟   , 1, ⎢⎢    0    ⎥⎥⎟, ⎜-1.4\n",
       "⎢⎜      ⎢⎢   ⎥⎥⎟  ⎜ ⎝ρ⎠        ⎢⎢       ⎥⎥⎟  ⎜⎝ρ⎠        ⎢⎢         ⎥⎥⎟  ⎜    \n",
       "⎢⎜      ⎢⎢ 0 ⎥⎥⎟  ⎜            ⎢⎢   0   ⎥⎥⎟  ⎜           ⎢⎢    0    ⎥⎥⎟  ⎜    \n",
       "⎢⎜      ⎢⎢   ⎥⎥⎟  ⎜            ⎢⎢       ⎥⎥⎟  ⎜           ⎢⎢         ⎥⎥⎟  ⎜    \n",
       "⎢⎝      ⎣⎣ 0 ⎦⎦⎠  ⎜            ⎢⎢   0   ⎥⎥⎟  ⎜           ⎢⎢    0    ⎥⎥⎟  ⎜    \n",
       "⎢                 ⎜            ⎢⎢       ⎥⎥⎟  ⎜           ⎢⎢         ⎥⎥⎟  ⎜    \n",
       "⎢                 ⎝            ⎣⎣  1.0  ⎦⎦⎠  ⎝           ⎣⎣   1.0   ⎦⎦⎠  ⎜    \n",
       "⎣                                                                        ⎝    \n",
       "\n",
       "                                ⎡⎡                0                ⎤⎤⎞  ⎛     \n",
       "                                ⎢⎢                                 ⎥⎥⎟  ⎜     \n",
       "                                ⎢⎢                             -0.5⎥⎥⎟  ⎜     \n",
       "                                ⎢⎢                  ⎛0.5⋅λ   μ⎞    ⎥⎥⎟  ⎜     \n",
       "                                ⎢⎢0.707106781186548⋅⎜───── + ─⎟    ⎥⎥⎟  ⎜     \n",
       "                                ⎢⎢                  ⎝  ρ     ρ⎠    ⎥⎥⎟  ⎜     \n",
       "                        0.5     ⎢⎢─────────────────────────────────⎥⎥⎟  ⎜     \n",
       "             ⎛0.5⋅λ   μ⎞        ⎢⎢                ρ                ⎥⎥⎟  ⎜     \n",
       "142135623731⋅⎜───── + ─⎟   , 1, ⎢⎢                                 ⎥⎥⎟, ⎜1.414\n",
       "             ⎝  ρ     ρ⎠        ⎢⎢                λ                ⎥⎥⎟  ⎜     \n",
       "                                ⎢⎢            ─────────            ⎥⎥⎟  ⎜     \n",
       "                                ⎢⎢            λ + 2.0⋅μ            ⎥⎥⎟  ⎜     \n",
       "                                ⎢⎢                                 ⎥⎥⎟  ⎜     \n",
       "                                ⎢⎢               1.0               ⎥⎥⎟  ⎜     \n",
       "                                ⎢⎢                                 ⎥⎥⎟  ⎜     \n",
       "                                ⎣⎣                0                ⎦⎦⎠  ⎝     \n",
       "\n",
       "                              ⎡⎡                 0                 ⎤⎤⎞⎤\n",
       "                              ⎢⎢                                   ⎥⎥⎟⎥\n",
       "                              ⎢⎢                              -0.5 ⎥⎥⎟⎥\n",
       "                              ⎢⎢                   ⎛0.5⋅λ   μ⎞     ⎥⎥⎟⎥\n",
       "                              ⎢⎢-0.707106781186548⋅⎜───── + ─⎟     ⎥⎥⎟⎥\n",
       "                              ⎢⎢                   ⎝  ρ     ρ⎠     ⎥⎥⎟⎥\n",
       "                      0.5     ⎢⎢───────────────────────────────────⎥⎥⎟⎥\n",
       "           ⎛0.5⋅λ   μ⎞        ⎢⎢                 ρ                 ⎥⎥⎟⎥\n",
       "2135623731⋅⎜───── + ─⎟   , 1, ⎢⎢                                   ⎥⎥⎟⎥\n",
       "           ⎝  ρ     ρ⎠        ⎢⎢                 λ                 ⎥⎥⎟⎥\n",
       "                              ⎢⎢             ─────────             ⎥⎥⎟⎥\n",
       "                              ⎢⎢             λ + 2.0⋅μ             ⎥⎥⎟⎥\n",
       "                              ⎢⎢                                   ⎥⎥⎟⎥\n",
       "                              ⎢⎢                1.0                ⎥⎥⎟⎥\n",
       "                              ⎢⎢                                   ⎥⎥⎟⎥\n",
       "                              ⎣⎣                 0                 ⎦⎦⎠⎦"
      ]
     },
     "metadata": {},
     "output_type": "display_data"
    }
   ],
   "source": [
    "rho, lam, mu = symbols(\"rho lambda mu\")\n",
    "Ay = Matrix([[0, 0, 0, 0, -1 / rho],\n",
    "             [0, 0, 0, -1 / rho, 0],\n",
    "             [0, -lam, 0, 0, 0],\n",
    "             [0, -lam - 2.0 * mu, 0, 0, 0],\n",
    "             [-mu, 0, 0, 0, 0]\n",
    "            ])\n",
    "print(\"The matrix Ay = \")\n",
    "display(Ay)\n",
    "w = Ay.eigenvals()\n",
    "print(\"It has 5 eigenvalues: \")\n",
    "display(w)\n",
    "print(\"Eigenvectors:\")\n",
    "display(Ay.eigenvects())"
   ]
  },
  {
   "cell_type": "code",
   "execution_count": 17,
   "metadata": {},
   "outputs": [
    {
     "name": "stdout",
     "output_type": "stream",
     "text": [
      "The matrix Ax = \n"
     ]
    },
    {
     "data": {
      "text/latex": [
       "$\\displaystyle \\left[\\begin{matrix}0 & 0 & - \\frac{1}{\\rho} & 0 & 0\\\\0 & 0 & 0 & 0 & - \\frac{1}{\\rho}\\\\- C_{11} & 0 & 0 & 0 & 0\\\\- C_{11} + 2.0 C_{44} & 0 & 0 & 0 & 0\\\\0 & - C_{44} & 0 & 0 & 0\\end{matrix}\\right]$"
      ],
      "text/plain": [
       "⎡                      -1         ⎤\n",
       "⎢      0          0    ───  0   0 ⎥\n",
       "⎢                       ρ         ⎥\n",
       "⎢                                 ⎥\n",
       "⎢                              -1 ⎥\n",
       "⎢      0          0     0   0  ───⎥\n",
       "⎢                               ρ ⎥\n",
       "⎢                                 ⎥\n",
       "⎢     -C₁₁        0     0   0   0 ⎥\n",
       "⎢                                 ⎥\n",
       "⎢-C₁₁ + 2.0⋅C₄₄   0     0   0   0 ⎥\n",
       "⎢                                 ⎥\n",
       "⎣      0         -C₄₄   0   0   0 ⎦"
      ]
     },
     "metadata": {},
     "output_type": "display_data"
    },
    {
     "name": "stdout",
     "output_type": "stream",
     "text": [
      "It has 5 eigenvalues: \n"
     ]
    },
    {
     "data": {
      "image/png": "[encoded data removed]",
      "text/latex": [
       "$\\displaystyle \\left\\{ 0 : 1, \\  - \\sqrt{\\frac{C_{11}}{\\rho}} : 1, \\  \\sqrt{\\frac{C_{11}}{\\rho}} : 1, \\  - \\sqrt{\\frac{C_{44}}{\\rho}} : 1, \\  \\sqrt{\\frac{C_{44}}{\\rho}} : 1\\right\\}$"
      ],
      "text/plain": [
       "⎧           _____         _____          _____         _____   ⎫\n",
       "⎪          ╱ C₁₁         ╱ C₁₁          ╱ C₄₄         ╱ C₄₄    ⎪\n",
       "⎨0: 1, -  ╱  ─── : 1,   ╱  ─── : 1, -  ╱  ─── : 1,   ╱  ─── : 1⎬\n",
       "⎪       ╲╱    ρ       ╲╱    ρ        ╲╱    ρ       ╲╱    ρ     ⎪\n",
       "⎩                                                              ⎭"
      ]
     },
     "metadata": {},
     "output_type": "display_data"
    },
    {
     "name": "stdout",
     "output_type": "stream",
     "text": [
      "Eigenvectors:\n"
     ]
    },
    {
     "data": {
      "text/latex": [
       "$\\displaystyle \\left[ \\left( 0, \\  1, \\  \\left[ \\left[\\begin{matrix}0\\\\0\\\\0\\\\1.0\\\\0\\end{matrix}\\right]\\right]\\right), \\  \\left( - \\left(\\frac{C_{11}}{\\rho}\\right)^{0.5}, \\  1, \\  \\left[ \\left[\\begin{matrix}\\frac{C_{11}}{C_{11} \\rho \\left(\\frac{C_{11}}{\\rho}\\right)^{0.5} - 2.0 C_{44} \\rho \\left(\\frac{C_{11}}{\\rho}\\right)^{0.5}}\\\\0\\\\- \\frac{C_{11}}{- C_{11} + 2.0 C_{44}}\\\\1.0\\\\0\\end{matrix}\\right]\\right]\\right), \\  \\left( \\left(\\frac{C_{11}}{\\rho}\\right)^{0.5}, \\  1, \\  \\left[ \\left[\\begin{matrix}- \\frac{C_{11}}{C_{11} \\rho \\left(\\frac{C_{11}}{\\rho}\\right)^{0.5} - 2.0 C_{44} \\rho \\left(\\frac{C_{11}}{\\rho}\\right)^{0.5}}\\\\0\\\\- \\frac{C_{11}}{- C_{11} + 2.0 C_{44}}\\\\1.0\\\\0\\end{matrix}\\right]\\right]\\right), \\  \\left( - \\left(\\frac{C_{44}}{\\rho}\\right)^{0.5}, \\  1, \\  \\left[ \\left[\\begin{matrix}0\\\\\\frac{1}{\\rho \\left(\\frac{C_{44}}{\\rho}\\right)^{0.5}}\\\\0\\\\0\\\\1.0\\end{matrix}\\right]\\right]\\right), \\  \\left( \\left(\\frac{C_{44}}{\\rho}\\right)^{0.5}, \\  1, \\  \\left[ \\left[\\begin{matrix}0\\\\- \\frac{1}{\\rho \\left(\\frac{C_{44}}{\\rho}\\right)^{0.5}}\\\\0\\\\0\\\\1.0\\end{matrix}\\right]\\right]\\right)\\right]$"
      ],
      "text/plain": [
       "⎡                 ⎛              ⎡⎡                C₁₁                ⎤⎤⎞  ⎛  \n",
       "⎢                 ⎜              ⎢⎢───────────────────────────────────⎥⎥⎟  ⎜  \n",
       "⎢                 ⎜              ⎢⎢           0.5                  0.5⎥⎥⎟  ⎜  \n",
       "⎢                 ⎜              ⎢⎢      ⎛C₁₁⎞                ⎛C₁₁⎞   ⎥⎥⎟  ⎜  \n",
       "⎢⎛      ⎡⎡ 0 ⎤⎤⎞  ⎜              ⎢⎢C₁₁⋅ρ⋅⎜───⎟    - 2.0⋅C₄₄⋅ρ⋅⎜───⎟   ⎥⎥⎟  ⎜  \n",
       "⎢⎜      ⎢⎢   ⎥⎥⎟  ⎜              ⎢⎢      ⎝ ρ ⎠                ⎝ ρ ⎠   ⎥⎥⎟  ⎜  \n",
       "⎢⎜      ⎢⎢ 0 ⎥⎥⎟  ⎜      0.5     ⎢⎢                                   ⎥⎥⎟  ⎜  \n",
       "⎢⎜      ⎢⎢   ⎥⎥⎟  ⎜ ⎛C₁₁⎞        ⎢⎢                 0                 ⎥⎥⎟  ⎜⎛C\n",
       "⎢⎜0, 1, ⎢⎢ 0 ⎥⎥⎟, ⎜-⎜───⎟   , 1, ⎢⎢                                   ⎥⎥⎟, ⎜⎜─\n",
       "⎢⎜      ⎢⎢   ⎥⎥⎟  ⎜ ⎝ ρ ⎠        ⎢⎢              -C₁₁                 ⎥⎥⎟  ⎜⎝ \n",
       "⎢⎜      ⎢⎢1.0⎥⎥⎟  ⎜              ⎢⎢          ──────────────           ⎥⎥⎟  ⎜  \n",
       "⎢⎜      ⎢⎢   ⎥⎥⎟  ⎜              ⎢⎢          -C₁₁ + 2.0⋅C₄₄           ⎥⎥⎟  ⎜  \n",
       "⎢⎝      ⎣⎣ 0 ⎦⎦⎠  ⎜              ⎢⎢                                   ⎥⎥⎟  ⎜  \n",
       "⎢                 ⎜              ⎢⎢                1.0                ⎥⎥⎟  ⎜  \n",
       "⎢                 ⎜              ⎢⎢                                   ⎥⎥⎟  ⎜  \n",
       "⎣                 ⎝              ⎣⎣                 0                 ⎦⎦⎠  ⎝  \n",
       "\n",
       "           ⎡⎡               -C₁₁                ⎤⎤⎞                           \n",
       "           ⎢⎢───────────────────────────────────⎥⎥⎟  ⎛              ⎡⎡    0   \n",
       "           ⎢⎢           0.5                  0.5⎥⎥⎟  ⎜              ⎢⎢        \n",
       "           ⎢⎢      ⎛C₁₁⎞                ⎛C₁₁⎞   ⎥⎥⎟  ⎜              ⎢⎢     -0.\n",
       "           ⎢⎢C₁₁⋅ρ⋅⎜───⎟    - 2.0⋅C₄₄⋅ρ⋅⎜───⎟   ⎥⎥⎟  ⎜              ⎢⎢⎛C₄₄⎞   \n",
       "           ⎢⎢      ⎝ ρ ⎠                ⎝ ρ ⎠   ⎥⎥⎟  ⎜              ⎢⎢⎜───⎟   \n",
       "   0.5     ⎢⎢                                   ⎥⎥⎟  ⎜      0.5     ⎢⎢⎝ ρ ⎠   \n",
       "₁₁⎞        ⎢⎢                 0                 ⎥⎥⎟  ⎜ ⎛C₄₄⎞        ⎢⎢────────\n",
       "──⎟   , 1, ⎢⎢                                   ⎥⎥⎟, ⎜-⎜───⎟   , 1, ⎢⎢    ρ   \n",
       "ρ ⎠        ⎢⎢              -C₁₁                 ⎥⎥⎟  ⎜ ⎝ ρ ⎠        ⎢⎢        \n",
       "           ⎢⎢          ──────────────           ⎥⎥⎟  ⎜              ⎢⎢    0   \n",
       "           ⎢⎢          -C₁₁ + 2.0⋅C₄₄           ⎥⎥⎟  ⎜              ⎢⎢        \n",
       "           ⎢⎢                                   ⎥⎥⎟  ⎜              ⎢⎢    0   \n",
       "           ⎢⎢                1.0                ⎥⎥⎟  ⎜              ⎢⎢        \n",
       "           ⎢⎢                                   ⎥⎥⎟  ⎝              ⎣⎣   1.0  \n",
       "           ⎣⎣                 0                 ⎦⎦⎠                           \n",
       "\n",
       "                                    ⎤\n",
       " ⎤⎤⎞  ⎛             ⎡⎡     0     ⎤⎤⎞⎥\n",
       " ⎥⎥⎟  ⎜             ⎢⎢           ⎥⎥⎟⎥\n",
       "5⎥⎥⎟  ⎜             ⎢⎢      -0.5 ⎥⎥⎟⎥\n",
       " ⎥⎥⎟  ⎜             ⎢⎢ ⎛C₄₄⎞     ⎥⎥⎟⎥\n",
       " ⎥⎥⎟  ⎜             ⎢⎢-⎜───⎟     ⎥⎥⎟⎥\n",
       " ⎥⎥⎟  ⎜     0.5     ⎢⎢ ⎝ ρ ⎠     ⎥⎥⎟⎥\n",
       "─⎥⎥⎟  ⎜⎛C₄₄⎞        ⎢⎢───────────⎥⎥⎟⎥\n",
       " ⎥⎥⎟, ⎜⎜───⎟   , 1, ⎢⎢     ρ     ⎥⎥⎟⎥\n",
       " ⎥⎥⎟  ⎜⎝ ρ ⎠        ⎢⎢           ⎥⎥⎟⎥\n",
       " ⎥⎥⎟  ⎜             ⎢⎢     0     ⎥⎥⎟⎥\n",
       " ⎥⎥⎟  ⎜             ⎢⎢           ⎥⎥⎟⎥\n",
       " ⎥⎥⎟  ⎜             ⎢⎢     0     ⎥⎥⎟⎥\n",
       " ⎥⎥⎟  ⎜             ⎢⎢           ⎥⎥⎟⎥\n",
       " ⎦⎦⎠  ⎝             ⎣⎣    1.0    ⎦⎦⎠⎥\n",
       "                                    ⎦"
      ]
     },
     "metadata": {},
     "output_type": "display_data"
    }
   ],
   "source": [
    "# VTI анизотропия\n",
    "rho, C_11, C_44 = symbols(\"rho C_11 C_44\")\n",
    "Ax = Matrix([[0, 0, -1 / rho, 0, 0],\n",
    "             [0, 0, 0, 0, -1 / rho],\n",
    "             [-C_11, 0, 0, 0, 0],\n",
    "             [-C_11 + 2.0 * C_44, 0, 0, 0, 0],\n",
    "             [0, -C_44, 0, 0, 0]\n",
    "            ])\n",
    "print(\"The matrix Ax = \")\n",
    "display(Ax)\n",
    "w = Ax.eigenvals()\n",
    "print(\"It has 5 eigenvalues: \")\n",
    "display(w)\n",
    "print(\"Eigenvectors:\")\n",
    "display(Ax.eigenvects())"
   ]
  },
  {
   "cell_type": "code",
   "execution_count": 19,
   "metadata": {},
   "outputs": [
    {
     "name": "stdout",
     "output_type": "stream",
     "text": [
      "The matrix Ay = \n"
     ]
    },
    {
     "data": {
      "text/latex": [
       "$\\displaystyle \\left[\\begin{matrix}0 & 0 & 0 & 0 & - \\frac{1}{\\rho}\\\\0 & 0 & 0 & - \\frac{1}{\\rho} & 0\\\\0 & - C_{11} + 2.0 C_{44} & 0 & 0 & 0\\\\0 & - C_{11} & 0 & 0 & 0\\\\- C_{44} & 0 & 0 & 0 & 0\\end{matrix}\\right]$"
      ],
      "text/plain": [
       "⎡                              -1 ⎤\n",
       "⎢ 0          0         0   0   ───⎥\n",
       "⎢                               ρ ⎥\n",
       "⎢                                 ⎥\n",
       "⎢                         -1      ⎥\n",
       "⎢ 0          0         0  ───   0 ⎥\n",
       "⎢                          ρ      ⎥\n",
       "⎢                                 ⎥\n",
       "⎢ 0    -C₁₁ + 2.0⋅C₄₄  0   0    0 ⎥\n",
       "⎢                                 ⎥\n",
       "⎢ 0         -C₁₁       0   0    0 ⎥\n",
       "⎢                                 ⎥\n",
       "⎣-C₄₄        0         0   0    0 ⎦"
      ]
     },
     "metadata": {},
     "output_type": "display_data"
    },
    {
     "name": "stdout",
     "output_type": "stream",
     "text": [
      "It has 5 eigenvalues: \n"
     ]
    },
    {
     "data": {
      "image/png": "[encoded data removed]",
      "text/latex": [
       "$\\displaystyle \\left\\{ 0 : 1, \\  - \\sqrt{\\frac{C_{11}}{\\rho}} : 1, \\  \\sqrt{\\frac{C_{11}}{\\rho}} : 1, \\  - \\sqrt{\\frac{C_{44}}{\\rho}} : 1, \\  \\sqrt{\\frac{C_{44}}{\\rho}} : 1\\right\\}$"
      ],
      "text/plain": [
       "⎧           _____         _____          _____         _____   ⎫\n",
       "⎪          ╱ C₁₁         ╱ C₁₁          ╱ C₄₄         ╱ C₄₄    ⎪\n",
       "⎨0: 1, -  ╱  ─── : 1,   ╱  ─── : 1, -  ╱  ─── : 1,   ╱  ─── : 1⎬\n",
       "⎪       ╲╱    ρ       ╲╱    ρ        ╲╱    ρ       ╲╱    ρ     ⎪\n",
       "⎩                                                              ⎭"
      ]
     },
     "metadata": {},
     "output_type": "display_data"
    },
    {
     "name": "stdout",
     "output_type": "stream",
     "text": [
      "Eigenvectors:\n"
     ]
    },
    {
     "data": {
      "text/latex": [
       "$\\displaystyle \\left[ \\left( 0, \\  1, \\  \\left[ \\left[\\begin{matrix}0\\\\0\\\\1.0\\\\0\\\\0\\end{matrix}\\right]\\right]\\right), \\  \\left( - \\left(\\frac{C_{11}}{\\rho}\\right)^{0.5}, \\  1, \\  \\left[ \\left[\\begin{matrix}0\\\\\\frac{1}{\\rho \\left(\\frac{C_{11}}{\\rho}\\right)^{0.5}}\\\\1.0 - \\frac{2.0 C_{44}}{C_{11}}\\\\1.0\\\\0\\end{matrix}\\right]\\right]\\right), \\  \\left( \\left(\\frac{C_{11}}{\\rho}\\right)^{0.5}, \\  1, \\  \\left[ \\left[\\begin{matrix}0\\\\- \\frac{1}{\\rho \\left(\\frac{C_{11}}{\\rho}\\right)^{0.5}}\\\\1.0 - \\frac{2.0 C_{44}}{C_{11}}\\\\1.0\\\\0\\end{matrix}\\right]\\right]\\right), \\  \\left( - \\left(\\frac{C_{44}}{\\rho}\\right)^{0.5}, \\  1, \\  \\left[ \\left[\\begin{matrix}\\frac{1}{\\rho \\left(\\frac{C_{44}}{\\rho}\\right)^{0.5}}\\\\0\\\\0\\\\0\\\\1.0\\end{matrix}\\right]\\right]\\right), \\  \\left( \\left(\\frac{C_{44}}{\\rho}\\right)^{0.5}, \\  1, \\  \\left[ \\left[\\begin{matrix}- \\frac{1}{\\rho \\left(\\frac{C_{44}}{\\rho}\\right)^{0.5}}\\\\0\\\\0\\\\0\\\\1.0\\end{matrix}\\right]\\right]\\right)\\right]$"
      ],
      "text/plain": [
       "⎡                 ⎛              ⎡⎡      0      ⎤⎤⎞  ⎛             ⎡⎡      0  \n",
       "⎢                 ⎜              ⎢⎢             ⎥⎥⎟  ⎜             ⎢⎢         \n",
       "⎢                 ⎜              ⎢⎢       -0.5  ⎥⎥⎟  ⎜             ⎢⎢       -0\n",
       "⎢                 ⎜              ⎢⎢  ⎛C₁₁⎞      ⎥⎥⎟  ⎜             ⎢⎢  ⎛C₁₁⎞  \n",
       "⎢⎛      ⎡⎡ 0 ⎤⎤⎞  ⎜              ⎢⎢  ⎜───⎟      ⎥⎥⎟  ⎜             ⎢⎢ -⎜───⎟  \n",
       "⎢⎜      ⎢⎢   ⎥⎥⎟  ⎜              ⎢⎢  ⎝ ρ ⎠      ⎥⎥⎟  ⎜             ⎢⎢  ⎝ ρ ⎠  \n",
       "⎢⎜      ⎢⎢ 0 ⎥⎥⎟  ⎜      0.5     ⎢⎢  ─────────  ⎥⎥⎟  ⎜     0.5     ⎢⎢ ────────\n",
       "⎢⎜      ⎢⎢   ⎥⎥⎟  ⎜ ⎛C₁₁⎞        ⎢⎢      ρ      ⎥⎥⎟  ⎜⎛C₁₁⎞        ⎢⎢      ρ  \n",
       "⎢⎜0, 1, ⎢⎢1.0⎥⎥⎟, ⎜-⎜───⎟   , 1, ⎢⎢             ⎥⎥⎟, ⎜⎜───⎟   , 1, ⎢⎢         \n",
       "⎢⎜      ⎢⎢   ⎥⎥⎟  ⎜ ⎝ ρ ⎠        ⎢⎢      2.0⋅C₄₄⎥⎥⎟  ⎜⎝ ρ ⎠        ⎢⎢      2.0\n",
       "⎢⎜      ⎢⎢ 0 ⎥⎥⎟  ⎜              ⎢⎢1.0 - ───────⎥⎥⎟  ⎜             ⎢⎢1.0 - ───\n",
       "⎢⎜      ⎢⎢   ⎥⎥⎟  ⎜              ⎢⎢        C₁₁  ⎥⎥⎟  ⎜             ⎢⎢        C\n",
       "⎢⎝      ⎣⎣ 0 ⎦⎦⎠  ⎜              ⎢⎢             ⎥⎥⎟  ⎜             ⎢⎢         \n",
       "⎢                 ⎜              ⎢⎢     1.0     ⎥⎥⎟  ⎜             ⎢⎢     1.0 \n",
       "⎢                 ⎜              ⎢⎢             ⎥⎥⎟  ⎜             ⎢⎢         \n",
       "⎣                 ⎝              ⎣⎣      0      ⎦⎦⎠  ⎝             ⎣⎣      0  \n",
       "\n",
       "    ⎤⎤⎞                                                               ⎤\n",
       "    ⎥⎥⎟  ⎛              ⎡⎡     -0.5⎤⎤⎞  ⎛             ⎡⎡      -0.5 ⎤⎤⎞⎥\n",
       ".5  ⎥⎥⎟  ⎜              ⎢⎢⎛C₄₄⎞    ⎥⎥⎟  ⎜             ⎢⎢ ⎛C₄₄⎞     ⎥⎥⎟⎥\n",
       "    ⎥⎥⎟  ⎜              ⎢⎢⎜───⎟    ⎥⎥⎟  ⎜             ⎢⎢-⎜───⎟     ⎥⎥⎟⎥\n",
       "    ⎥⎥⎟  ⎜              ⎢⎢⎝ ρ ⎠    ⎥⎥⎟  ⎜             ⎢⎢ ⎝ ρ ⎠     ⎥⎥⎟⎥\n",
       "    ⎥⎥⎟  ⎜              ⎢⎢─────────⎥⎥⎟  ⎜             ⎢⎢───────────⎥⎥⎟⎥\n",
       "─── ⎥⎥⎟  ⎜      0.5     ⎢⎢    ρ    ⎥⎥⎟  ⎜     0.5     ⎢⎢     ρ     ⎥⎥⎟⎥\n",
       "    ⎥⎥⎟  ⎜ ⎛C₄₄⎞        ⎢⎢         ⎥⎥⎟  ⎜⎛C₄₄⎞        ⎢⎢           ⎥⎥⎟⎥\n",
       "    ⎥⎥⎟, ⎜-⎜───⎟   , 1, ⎢⎢    0    ⎥⎥⎟, ⎜⎜───⎟   , 1, ⎢⎢     0     ⎥⎥⎟⎥\n",
       "⋅C₄₄⎥⎥⎟  ⎜ ⎝ ρ ⎠        ⎢⎢         ⎥⎥⎟  ⎜⎝ ρ ⎠        ⎢⎢           ⎥⎥⎟⎥\n",
       "────⎥⎥⎟  ⎜              ⎢⎢    0    ⎥⎥⎟  ⎜             ⎢⎢     0     ⎥⎥⎟⎥\n",
       "₁₁  ⎥⎥⎟  ⎜              ⎢⎢         ⎥⎥⎟  ⎜             ⎢⎢           ⎥⎥⎟⎥\n",
       "    ⎥⎥⎟  ⎜              ⎢⎢    0    ⎥⎥⎟  ⎜             ⎢⎢     0     ⎥⎥⎟⎥\n",
       "    ⎥⎥⎟  ⎜              ⎢⎢         ⎥⎥⎟  ⎜             ⎢⎢           ⎥⎥⎟⎥\n",
       "    ⎥⎥⎟  ⎝              ⎣⎣   1.0   ⎦⎦⎠  ⎝             ⎣⎣    1.0    ⎦⎦⎠⎥\n",
       "    ⎦⎦⎠                                                               ⎦"
      ]
     },
     "metadata": {},
     "output_type": "display_data"
    }
   ],
   "source": [
    "# VTI анизотропия\n",
    "rho, C_11, C_44 = symbols(\"rho C_11 C_44\")\n",
    "Ay = Matrix([[0, 0, 0, 0, -1 / rho],\n",
    "             [0, 0, 0, -1 / rho, 0],\n",
    "             [0, -C_11 + 2.0 * C_44, 0, 0, 0],\n",
    "             [0, -C_11, 0, 0, 0],\n",
    "             [-C_44, 0, 0, 0, 0]\n",
    "            ])\n",
    "print(\"The matrix Ay = \")\n",
    "display(Ay)\n",
    "w = Ay.eigenvals()\n",
    "print(\"It has 5 eigenvalues: \")\n",
    "display(w)\n",
    "print(\"Eigenvectors:\")\n",
    "display(Ay.eigenvects())"
   ]
  },
  {
   "cell_type": "code",
   "execution_count": null,
   "metadata": {},
   "outputs": [],
   "source": []
  }
 ],
 "metadata": {
  "kernelspec": {
   "display_name": "Python 3",
   "language": "python",
   "name": "python3"
  },
  "language_info": {
   "codemirror_mode": {
    "name": "ipython",
    "version": 3
   },
   "file_extension": ".py",
   "mimetype": "text/x-python",
   "name": "python",
   "nbconvert_exporter": "python",
   "pygments_lexer": "ipython3",
   "version": "3.8.3"
  }
 },
 "nbformat": 4,
 "nbformat_minor": 4
}

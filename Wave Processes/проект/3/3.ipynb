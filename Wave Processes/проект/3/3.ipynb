{
 "cells": [
  {
   "cell_type": "code",
   "execution_count": 46,
   "metadata": {},
   "outputs": [],
   "source": [
    "from sympy import Matrix, symbols, init_printing, diag, together, simplify, sqrt, solve\n",
    "import numpy as np\n",
    "import matplotlib.pyplot as plt\n",
    "import time\n",
    "import pandas as pd\n",
    "from matplotlib import pyplot as plt\n",
    "init_printing()"
   ]
  },
  {
   "cell_type": "markdown",
   "metadata": {},
   "source": [
    "#### Акустика:\n",
    "$$\\rho_a \\frac{\\partial v_x}{\\partial t} + \\frac{\\partial p}{\\partial x} = 0$$\n",
    "$$\\rho_a \\frac{\\partial v_y}{\\partial t} + \\frac{\\partial p}{\\partial y} = 0$$\n",
    "$$ \\frac{\\partial p}{\\partial t} + \\rho_a c^2 \\frac{\\partial v_x}{\\partial x} + \\rho_a c^2 \\frac{\\partial v_y}{\\partial y} = 0$$\n",
    "\n",
    "$$\\frac{\\partial \\overrightarrow q}{\\partial t} + A_a^x \\frac{\\partial \\overrightarrow q}{\\partial x} + A_a^y \\frac{\\partial \\overrightarrow q}{\\partial y} = 0, \\overrightarrow q_a = \\left(v_x, v_y, p \\right)$$"
   ]
  },
  {
   "cell_type": "code",
   "execution_count": 2,
   "metadata": {},
   "outputs": [
    {
     "name": "stdout",
     "output_type": "stream",
     "text": [
      "A_x_a:\n"
     ]
    },
    {
     "data": {
      "text/latex": [
       "$\\displaystyle \\left[\\begin{matrix}0 & 0 & \\frac{1}{\\rho_{a}}\\\\0 & 0 & 0\\\\c^{2} \\rho_{a} & 0 & 0\\end{matrix}\\right]$"
      ],
      "text/plain": [
       "⎡          1 ⎤\n",
       "⎢  0    0  ──⎥\n",
       "⎢          ρₐ⎥\n",
       "⎢            ⎥\n",
       "⎢  0    0  0 ⎥\n",
       "⎢            ⎥\n",
       "⎢ 2          ⎥\n",
       "⎣c ⋅ρₐ  0  0 ⎦"
      ]
     },
     "metadata": {},
     "output_type": "display_data"
    },
    {
     "name": "stdout",
     "output_type": "stream",
     "text": [
      "Eigenvectors:\n"
     ]
    },
    {
     "data": {
      "text/latex": [
       "$\\displaystyle \\left[ \\left( 0, \\  1, \\  \\left[ \\left[\\begin{matrix}0\\\\1\\\\0\\end{matrix}\\right]\\right]\\right), \\  \\left( - c, \\  1, \\  \\left[ \\left[\\begin{matrix}- \\frac{1}{c \\rho_{a}}\\\\0\\\\1\\end{matrix}\\right]\\right]\\right), \\  \\left( c, \\  1, \\  \\left[ \\left[\\begin{matrix}\\frac{1}{c \\rho_{a}}\\\\0\\\\1\\end{matrix}\\right]\\right]\\right)\\right]$"
      ],
      "text/plain": [
       "⎡               ⎛       ⎡⎡-1  ⎤⎤⎞  ⎛      ⎡⎡ 1  ⎤⎤⎞⎤\n",
       "⎢⎛      ⎡⎡0⎤⎤⎞  ⎜       ⎢⎢────⎥⎥⎟  ⎜      ⎢⎢────⎥⎥⎟⎥\n",
       "⎢⎜      ⎢⎢ ⎥⎥⎟  ⎜       ⎢⎢c⋅ρₐ⎥⎥⎟  ⎜      ⎢⎢c⋅ρₐ⎥⎥⎟⎥\n",
       "⎢⎜0, 1, ⎢⎢1⎥⎥⎟, ⎜-c, 1, ⎢⎢    ⎥⎥⎟, ⎜c, 1, ⎢⎢    ⎥⎥⎟⎥\n",
       "⎢⎜      ⎢⎢ ⎥⎥⎟  ⎜       ⎢⎢ 0  ⎥⎥⎟  ⎜      ⎢⎢ 0  ⎥⎥⎟⎥\n",
       "⎢⎝      ⎣⎣0⎦⎦⎠  ⎜       ⎢⎢    ⎥⎥⎟  ⎜      ⎢⎢    ⎥⎥⎟⎥\n",
       "⎣               ⎝       ⎣⎣ 1  ⎦⎦⎠  ⎝      ⎣⎣ 1  ⎦⎦⎠⎦"
      ]
     },
     "metadata": {},
     "output_type": "display_data"
    },
    {
     "name": "stdout",
     "output_type": "stream",
     "text": [
      "A_y_a:\n"
     ]
    },
    {
     "data": {
      "text/latex": [
       "$\\displaystyle \\left[\\begin{matrix}0 & 0 & 0\\\\0 & 0 & \\frac{1}{\\rho_{a}}\\\\0 & c^{2} \\rho_{a} & 0\\end{matrix}\\right]$"
      ],
      "text/plain": [
       "⎡0    0    0 ⎤\n",
       "⎢            ⎥\n",
       "⎢          1 ⎥\n",
       "⎢0    0    ──⎥\n",
       "⎢          ρₐ⎥\n",
       "⎢            ⎥\n",
       "⎢    2       ⎥\n",
       "⎣0  c ⋅ρₐ  0 ⎦"
      ]
     },
     "metadata": {},
     "output_type": "display_data"
    },
    {
     "name": "stdout",
     "output_type": "stream",
     "text": [
      "Eigenvectors:\n"
     ]
    },
    {
     "data": {
      "text/latex": [
       "$\\displaystyle \\left[ \\left( 0, \\  1, \\  \\left[ \\left[\\begin{matrix}1\\\\0\\\\0\\end{matrix}\\right]\\right]\\right), \\  \\left( - c, \\  1, \\  \\left[ \\left[\\begin{matrix}0\\\\- \\frac{1}{c \\rho_{a}}\\\\1\\end{matrix}\\right]\\right]\\right), \\  \\left( c, \\  1, \\  \\left[ \\left[\\begin{matrix}0\\\\\\frac{1}{c \\rho_{a}}\\\\1\\end{matrix}\\right]\\right]\\right)\\right]$"
      ],
      "text/plain": [
       "⎡               ⎛       ⎡⎡ 0  ⎤⎤⎞  ⎛      ⎡⎡ 0  ⎤⎤⎞⎤\n",
       "⎢⎛      ⎡⎡1⎤⎤⎞  ⎜       ⎢⎢    ⎥⎥⎟  ⎜      ⎢⎢    ⎥⎥⎟⎥\n",
       "⎢⎜      ⎢⎢ ⎥⎥⎟  ⎜       ⎢⎢-1  ⎥⎥⎟  ⎜      ⎢⎢ 1  ⎥⎥⎟⎥\n",
       "⎢⎜0, 1, ⎢⎢0⎥⎥⎟, ⎜-c, 1, ⎢⎢────⎥⎥⎟, ⎜c, 1, ⎢⎢────⎥⎥⎟⎥\n",
       "⎢⎜      ⎢⎢ ⎥⎥⎟  ⎜       ⎢⎢c⋅ρₐ⎥⎥⎟  ⎜      ⎢⎢c⋅ρₐ⎥⎥⎟⎥\n",
       "⎢⎝      ⎣⎣0⎦⎦⎠  ⎜       ⎢⎢    ⎥⎥⎟  ⎜      ⎢⎢    ⎥⎥⎟⎥\n",
       "⎣               ⎝       ⎣⎣ 1  ⎦⎦⎠  ⎝      ⎣⎣ 1  ⎦⎦⎠⎦"
      ]
     },
     "metadata": {},
     "output_type": "display_data"
    },
    {
     "name": "stdout",
     "output_type": "stream",
     "text": [
      "[Matrix of eigenvalues] Lambda_x_a = Lambda_y_a\n"
     ]
    },
    {
     "data": {
      "text/latex": [
       "$\\displaystyle \\left[\\begin{matrix}0 & 0 & 0\\\\0 & - c & 0\\\\0 & 0 & c\\end{matrix}\\right]$"
      ],
      "text/plain": [
       "⎡0  0   0⎤\n",
       "⎢        ⎥\n",
       "⎢0  -c  0⎥\n",
       "⎢        ⎥\n",
       "⎣0  0   c⎦"
      ]
     },
     "metadata": {},
     "output_type": "display_data"
    },
    {
     "name": "stdout",
     "output_type": "stream",
     "text": [
      "Omega_x_a:\n"
     ]
    },
    {
     "data": {
      "text/latex": [
       "$\\displaystyle \\left[\\begin{matrix}0 & 1 & 0\\\\- \\frac{c \\rho_{a}}{2} & 0 & \\frac{1}{2}\\\\\\frac{c \\rho_{a}}{2} & 0 & \\frac{1}{2}\\end{matrix}\\right]$"
      ],
      "text/plain": [
       "⎡  0     1   0 ⎤\n",
       "⎢              ⎥\n",
       "⎢-c⋅ρₐ         ⎥\n",
       "⎢──────  0  1/2⎥\n",
       "⎢  2           ⎥\n",
       "⎢              ⎥\n",
       "⎢ c⋅ρₐ         ⎥\n",
       "⎢ ────   0  1/2⎥\n",
       "⎣  2           ⎦"
      ]
     },
     "metadata": {},
     "output_type": "display_data"
    },
    {
     "name": "stdout",
     "output_type": "stream",
     "text": [
      "Omega_x_a_inv:\n"
     ]
    },
    {
     "data": {
      "text/latex": [
       "$\\displaystyle \\left[\\begin{matrix}0 & - \\frac{1}{c \\rho_{a}} & \\frac{1}{c \\rho_{a}}\\\\1 & 0 & 0\\\\0 & 1 & 1\\end{matrix}\\right]$"
      ],
      "text/plain": [
       "⎡   -1     1  ⎤\n",
       "⎢0  ────  ────⎥\n",
       "⎢   c⋅ρₐ  c⋅ρₐ⎥\n",
       "⎢             ⎥\n",
       "⎢1   0     0  ⎥\n",
       "⎢             ⎥\n",
       "⎣0   1     1  ⎦"
      ]
     },
     "metadata": {},
     "output_type": "display_data"
    },
    {
     "name": "stdout",
     "output_type": "stream",
     "text": [
      "Omega_y_a:\n"
     ]
    },
    {
     "data": {
      "text/latex": [
       "$\\displaystyle \\left[\\begin{matrix}1 & 0 & 0\\\\0 & - \\frac{c \\rho_{a}}{2} & \\frac{1}{2}\\\\0 & \\frac{c \\rho_{a}}{2} & \\frac{1}{2}\\end{matrix}\\right]$"
      ],
      "text/plain": [
       "⎡1    0      0 ⎤\n",
       "⎢              ⎥\n",
       "⎢   -c⋅ρₐ      ⎥\n",
       "⎢0  ──────  1/2⎥\n",
       "⎢     2        ⎥\n",
       "⎢              ⎥\n",
       "⎢    c⋅ρₐ      ⎥\n",
       "⎢0   ────   1/2⎥\n",
       "⎣     2        ⎦"
      ]
     },
     "metadata": {},
     "output_type": "display_data"
    },
    {
     "name": "stdout",
     "output_type": "stream",
     "text": [
      "Omega_y_a_inv:\n"
     ]
    },
    {
     "data": {
      "text/latex": [
       "$\\displaystyle \\left[\\begin{matrix}1 & 0 & 0\\\\0 & - \\frac{1}{c \\rho_{a}} & \\frac{1}{c \\rho_{a}}\\\\0 & 1 & 1\\end{matrix}\\right]$"
      ],
      "text/plain": [
       "⎡1   0     0  ⎤\n",
       "⎢             ⎥\n",
       "⎢   -1     1  ⎥\n",
       "⎢0  ────  ────⎥\n",
       "⎢   c⋅ρₐ  c⋅ρₐ⎥\n",
       "⎢             ⎥\n",
       "⎣0   1     1  ⎦"
      ]
     },
     "metadata": {},
     "output_type": "display_data"
    },
    {
     "name": "stdout",
     "output_type": "stream",
     "text": [
      "Omega_x_a * q\n"
     ]
    },
    {
     "data": {
      "text/latex": [
       "$\\displaystyle \\left[\\begin{matrix}v_{y}\\\\- \\frac{c \\rho_{a} v_{x}}{2} + \\frac{p}{2}\\\\\\frac{c \\rho_{a} v_{x}}{2} + \\frac{p}{2}\\end{matrix}\\right]$"
      ],
      "text/plain": [
       "⎡     v_y     ⎤\n",
       "⎢             ⎥\n",
       "⎢  c⋅ρₐ⋅vₓ   p⎥\n",
       "⎢- ─────── + ─⎥\n",
       "⎢     2      2⎥\n",
       "⎢             ⎥\n",
       "⎢ c⋅ρₐ⋅vₓ   p ⎥\n",
       "⎢ ─────── + ─ ⎥\n",
       "⎣    2      2 ⎦"
      ]
     },
     "metadata": {},
     "output_type": "display_data"
    },
    {
     "name": "stdout",
     "output_type": "stream",
     "text": [
      "Omega_y_a * q\n"
     ]
    },
    {
     "data": {
      "text/latex": [
       "$\\displaystyle \\left[\\begin{matrix}v_{x}\\\\- \\frac{c \\rho_{a} v_{y}}{2} + \\frac{p}{2}\\\\\\frac{c \\rho_{a} v_{y}}{2} + \\frac{p}{2}\\end{matrix}\\right]$"
      ],
      "text/plain": [
       "⎡      vₓ      ⎤\n",
       "⎢              ⎥\n",
       "⎢  c⋅ρₐ⋅v_y   p⎥\n",
       "⎢- ──────── + ─⎥\n",
       "⎢     2       2⎥\n",
       "⎢              ⎥\n",
       "⎢ c⋅ρₐ⋅v_y   p ⎥\n",
       "⎢ ──────── + ─ ⎥\n",
       "⎣    2       2 ⎦"
      ]
     },
     "metadata": {},
     "output_type": "display_data"
    },
    {
     "name": "stdout",
     "output_type": "stream",
     "text": [
      "Omega_x_a_inv * w\n"
     ]
    },
    {
     "data": {
      "text/latex": [
       "$\\displaystyle \\left[\\begin{matrix}\\frac{- w_{2} + w_{3}}{c \\rho_{a}}\\\\w_{1}\\\\w_{2} + w_{3}\\end{matrix}\\right]$"
      ],
      "text/plain": [
       "⎡-w₂ + w₃⎤\n",
       "⎢────────⎥\n",
       "⎢  c⋅ρₐ  ⎥\n",
       "⎢        ⎥\n",
       "⎢   w₁   ⎥\n",
       "⎢        ⎥\n",
       "⎣w₂ + w₃ ⎦"
      ]
     },
     "metadata": {},
     "output_type": "display_data"
    },
    {
     "name": "stdout",
     "output_type": "stream",
     "text": [
      "Omega_y_a_inv * w\n"
     ]
    },
    {
     "data": {
      "text/latex": [
       "$\\displaystyle \\left[\\begin{matrix}w_{1}\\\\\\frac{- w_{2} + w_{3}}{c \\rho_{a}}\\\\w_{2} + w_{3}\\end{matrix}\\right]$"
      ],
      "text/plain": [
       "⎡   w₁   ⎤\n",
       "⎢        ⎥\n",
       "⎢-w₂ + w₃⎥\n",
       "⎢────────⎥\n",
       "⎢  c⋅ρₐ  ⎥\n",
       "⎢        ⎥\n",
       "⎣w₂ + w₃ ⎦"
      ]
     },
     "metadata": {},
     "output_type": "display_data"
    }
   ],
   "source": [
    "rho_a, c, v_x, v_y, p, w1, w2, w3 = symbols('rho_a c v_x v_y p w_1 w_2 w_3')\n",
    "A_x_a = Matrix([[0, 0, 1 / rho_a], [0, 0, 0], [(rho_a * c ** 2), 0, 0]])\n",
    "print('A_x_a:')\n",
    "display(A_x_a)\n",
    "print('Eigenvectors:')\n",
    "display(A_x_a.eigenvects())\n",
    "\n",
    "A_y_a = Matrix([[0, 0, 0], [0, 0, 1 / rho_a], [0, (rho_a * c ** 2), 0]])\n",
    "print('A_y_a:')\n",
    "display(A_y_a)\n",
    "print('Eigenvectors:')\n",
    "display(A_y_a.eigenvects())\n",
    "\n",
    "print('[Matrix of eigenvalues] Lambda_x_a = Lambda_y_a')\n",
    "Lambda_x_a, Lambda_y_a = diag(0, -c, c), diag(0, -c, c)\n",
    "display(Lambda_x_a)\n",
    "\n",
    "Omega_x_a_inv = Matrix([[0, -1 / (c * rho_a), 1 / (c * rho_a)], [1, 0, 0], [0, 1, 1]])\n",
    "Omega_x_a = Omega_x_a_inv.inv()\n",
    "print('Omega_x_a:')\n",
    "display(Omega_x_a)\n",
    "print('Omega_x_a_inv:')\n",
    "display(Omega_x_a_inv)\n",
    "\n",
    "Omega_y_a_inv = Matrix([[1, 0, 0], [0, -1 / (c * rho_a), 1 / (c * rho_a)], [0, 1, 1]])\n",
    "Omega_y_a = Omega_y_a_inv.inv()\n",
    "print('Omega_y_a:')\n",
    "display(Omega_y_a)\n",
    "print('Omega_y_a_inv:')\n",
    "display(Omega_y_a_inv)\n",
    "\n",
    "q = Matrix([v_x, v_y, p])\n",
    "print('Omega_x_a * q')\n",
    "display(simplify(together(Omega_x_a * q)))\n",
    "print('Omega_y_a * q')\n",
    "display(simplify(together(Omega_y_a * q)))\n",
    "\n",
    "w = Matrix([w1, w2, w3])\n",
    "print('Omega_x_a_inv * w')\n",
    "display(simplify(together(Omega_x_a_inv * w)))\n",
    "print('Omega_y_a_inv * w')\n",
    "display(simplify(together(Omega_y_a_inv * w)))"
   ]
  },
  {
   "cell_type": "code",
   "execution_count": 4,
   "metadata": {},
   "outputs": [],
   "source": [
    "def Ac_Omega_x(q):\n",
    "    v_x, v_y, p = q\n",
    "    return (v_y, (p - c * rho_a * v_x) / 2, (p + c * rho_a * v_x) / 2)\n",
    "\n",
    "def Ac_Omega_y(q):\n",
    "    v_x, v_y, p = q\n",
    "    return (v_x, (p - c * rho_a * v_y) / 2, (p + c * rho_a * v_y) / 2)\n",
    "\n",
    "def Ac_Omega_x_inv(w):\n",
    "    w1, w2, w3 = w\n",
    "    return ((w3 - w2) / (c * rho_a), w1, w2 + w3)\n",
    "\n",
    "def Ac_Omega_y_inv(w):\n",
    "    w1, w2, w3 = w\n",
    "    return (w1, (w3 - w2) / (c * rho_a), w2 + w3)\n",
    "\n",
    "# Источник\n",
    "def source(k, N):\n",
    "    t = (k + 1) * dt\n",
    "    if k < N:\n",
    "        return np.sin(2.0 * np.pi / f * t)\n",
    "    return 0"
   ]
  },
  {
   "cell_type": "markdown",
   "metadata": {},
   "source": [
    "### Упругая среда:\n",
    "$$  \\frac{\\partial v_x}{\\partial t} - \\frac{1}{\\rho_e} \\frac{\\partial \\sigma_{xx}}{\\partial x} - \\frac{1}{\\rho_e} \\frac{\\partial \\sigma_{xy}}{\\partial y} = 0 $$\n",
    "$$ \\frac{\\partial v_y}{\\partial t} - \\frac{1}{\\rho_e} \\frac{\\partial \\sigma_{yx}}{\\partial x} - \\frac{1}{\\rho_e} \\frac{\\partial \\sigma_{yy}}{\\partial y} = 0 $$\n",
    "$$ \\frac{\\partial \\sigma_{xx}}{\\partial t} - \\left(\\lambda + 2 \\mu \\right) \\frac{\\partial v_x}{\\partial x} - \\lambda \\frac{\\partial v_y}{\\partial y} = 0 $$\n",
    "$$ \\frac{\\partial \\sigma_{yy}}{\\partial t} - \\lambda \\frac{\\partial v_x}{\\partial x} - \\left(\\lambda + 2 \\mu \\right) \\frac{\\partial v_y}{\\partial y} = 0 $$\n",
    "$$ \\frac{\\partial \\sigma_{xy}}{\\partial t} - \\mu \\frac{\\partial v_x}{\\partial y} - \\mu \\frac{\\partial v_y}{\\partial x} = 0 $$\n",
    "\n",
    "$$\\frac{\\partial \\overrightarrow q}{\\partial t} + A_e^x \\frac{\\partial \\overrightarrow q}{\\partial x} + A_e^y \\frac{\\partial \\overrightarrow q}{\\partial y} = 0, \\overrightarrow q_e = \\left(v_x, v_y, \\sigma_{xx}, \\sigma_{yy}, \\sigma_{xy} \\right)$$"
   ]
  },
  {
   "cell_type": "code",
   "execution_count": 5,
   "metadata": {},
   "outputs": [
    {
     "name": "stdout",
     "output_type": "stream",
     "text": [
      "A_x_e:\n"
     ]
    },
    {
     "data": {
      "text/latex": [
       "$\\displaystyle \\left[\\begin{matrix}0 & 0 & - \\frac{1}{\\rho_{e}} & 0 & 0\\\\0 & 0 & 0 & 0 & - \\frac{1}{\\rho_{e}}\\\\- \\lambda - 2 \\mu & 0 & 0 & 0 & 0\\\\- \\lambda & 0 & 0 & 0 & 0\\\\0 & - \\mu & 0 & 0 & 0\\end{matrix}\\right]$"
      ],
      "text/plain": [
       "⎡              -1         ⎤\n",
       "⎢   0      0   ───  0   0 ⎥\n",
       "⎢               ρₑ        ⎥\n",
       "⎢                         ⎥\n",
       "⎢                      -1 ⎥\n",
       "⎢   0      0    0   0  ───⎥\n",
       "⎢                       ρₑ⎥\n",
       "⎢                         ⎥\n",
       "⎢-λ - 2⋅μ  0    0   0   0 ⎥\n",
       "⎢                         ⎥\n",
       "⎢   -λ     0    0   0   0 ⎥\n",
       "⎢                         ⎥\n",
       "⎣   0      -μ   0   0   0 ⎦"
      ]
     },
     "metadata": {},
     "output_type": "display_data"
    },
    {
     "name": "stdout",
     "output_type": "stream",
     "text": [
      "Eigenvectors:\n"
     ]
    },
    {
     "data": {
      "text/latex": [
       "$\\displaystyle \\left[ \\left( 0, \\  1, \\  \\left[ \\left[\\begin{matrix}0\\\\0\\\\0\\\\1\\\\0\\end{matrix}\\right]\\right]\\right), \\  \\left( - \\sqrt{\\frac{\\mu}{\\rho_{e}}}, \\  1, \\  \\left[ \\left[\\begin{matrix}0\\\\\\frac{1}{\\rho_{e} \\sqrt{\\frac{\\mu}{\\rho_{e}}}}\\\\0\\\\0\\\\1\\end{matrix}\\right]\\right]\\right), \\  \\left( \\sqrt{\\frac{\\mu}{\\rho_{e}}}, \\  1, \\  \\left[ \\left[\\begin{matrix}0\\\\- \\frac{1}{\\rho_{e} \\sqrt{\\frac{\\mu}{\\rho_{e}}}}\\\\0\\\\0\\\\1\\end{matrix}\\right]\\right]\\right), \\  \\left( - \\sqrt{\\frac{\\lambda}{\\rho_{e}} + \\frac{2 \\mu}{\\rho_{e}}}, \\  1, \\  \\left[ \\left[\\begin{matrix}\\frac{\\lambda + 2 \\mu}{\\lambda \\rho_{e} \\sqrt{\\frac{\\lambda}{\\rho_{e}} + \\frac{2 \\mu}{\\rho_{e}}}}\\\\0\\\\1 + \\frac{2 \\mu}{\\lambda}\\\\1\\\\0\\end{matrix}\\right]\\right]\\right), \\  \\left( \\sqrt{\\frac{\\lambda}{\\rho_{e}} + \\frac{2 \\mu}{\\rho_{e}}}, \\  1, \\  \\left[ \\left[\\begin{matrix}- \\frac{\\lambda + 2 \\mu}{\\lambda \\rho_{e} \\sqrt{\\frac{\\lambda}{\\rho_{e}} + \\frac{2 \\mu}{\\rho_{e}}}}\\\\0\\\\1 + \\frac{2 \\mu}{\\lambda}\\\\1\\\\0\\end{matrix}\\right]\\right]\\right)\\right]$"
      ],
      "text/plain": [
       "⎡                                                                             \n",
       "⎢               ⎛              ⎡⎡     0     ⎤⎤⎞  ⎛             ⎡⎡     0     ⎤⎤\n",
       "⎢               ⎜              ⎢⎢           ⎥⎥⎟  ⎜             ⎢⎢           ⎥⎥\n",
       "⎢               ⎜              ⎢⎢     1     ⎥⎥⎟  ⎜             ⎢⎢    -1     ⎥⎥\n",
       "⎢⎛      ⎡⎡0⎤⎤⎞  ⎜              ⎢⎢───────────⎥⎥⎟  ⎜             ⎢⎢───────────⎥⎥\n",
       "⎢⎜      ⎢⎢ ⎥⎥⎟  ⎜              ⎢⎢       ____⎥⎥⎟  ⎜             ⎢⎢       ____⎥⎥\n",
       "⎢⎜      ⎢⎢0⎥⎥⎟  ⎜     ____     ⎢⎢      ╱ μ  ⎥⎥⎟  ⎜    ____     ⎢⎢      ╱ μ  ⎥⎥\n",
       "⎢⎜      ⎢⎢ ⎥⎥⎟  ⎜    ╱ μ       ⎢⎢ρₑ⋅  ╱  ── ⎥⎥⎟  ⎜   ╱ μ       ⎢⎢ρₑ⋅  ╱  ── ⎥⎥\n",
       "⎢⎜0, 1, ⎢⎢0⎥⎥⎟, ⎜-  ╱  ── , 1, ⎢⎢   ╲╱   ρₑ ⎥⎥⎟, ⎜  ╱  ── , 1, ⎢⎢   ╲╱   ρₑ ⎥⎥\n",
       "⎢⎜      ⎢⎢ ⎥⎥⎟  ⎜ ╲╱   ρₑ      ⎢⎢           ⎥⎥⎟  ⎜╲╱   ρₑ      ⎢⎢           ⎥⎥\n",
       "⎢⎜      ⎢⎢1⎥⎥⎟  ⎜              ⎢⎢     0     ⎥⎥⎟  ⎜             ⎢⎢     0     ⎥⎥\n",
       "⎢⎜      ⎢⎢ ⎥⎥⎟  ⎜              ⎢⎢           ⎥⎥⎟  ⎜             ⎢⎢           ⎥⎥\n",
       "⎢⎝      ⎣⎣0⎦⎦⎠  ⎜              ⎢⎢     0     ⎥⎥⎟  ⎜             ⎢⎢     0     ⎥⎥\n",
       "⎢               ⎜              ⎢⎢           ⎥⎥⎟  ⎜             ⎢⎢           ⎥⎥\n",
       "⎢               ⎝              ⎣⎣     1     ⎦⎦⎠  ⎝             ⎣⎣     1     ⎦⎦\n",
       "⎣                                                                             \n",
       "\n",
       "   ⎛                    ⎡⎡      λ + 2⋅μ      ⎤⎤⎞  ⎛                   ⎡⎡    -(\n",
       "⎞  ⎜                    ⎢⎢───────────────────⎥⎥⎟  ⎜                   ⎢⎢──────\n",
       "⎟  ⎜                    ⎢⎢         __________⎥⎥⎟  ⎜                   ⎢⎢      \n",
       "⎟  ⎜                    ⎢⎢        ╱ λ    2⋅μ ⎥⎥⎟  ⎜                   ⎢⎢      \n",
       "⎟  ⎜                    ⎢⎢λ⋅ρₑ⋅  ╱  ── + ─── ⎥⎥⎟  ⎜                   ⎢⎢λ⋅ρₑ⋅ \n",
       "⎟  ⎜                    ⎢⎢     ╲╱   ρₑ    ρₑ ⎥⎥⎟  ⎜                   ⎢⎢     ╲\n",
       "⎟  ⎜     __________     ⎢⎢                   ⎥⎥⎟  ⎜    __________     ⎢⎢      \n",
       "⎟  ⎜    ╱ λ    2⋅μ      ⎢⎢         0         ⎥⎥⎟  ⎜   ╱ λ    2⋅μ      ⎢⎢      \n",
       "⎟, ⎜-  ╱  ── + ─── , 1, ⎢⎢                   ⎥⎥⎟, ⎜  ╱  ── + ─── , 1, ⎢⎢      \n",
       "⎟  ⎜ ╲╱   ρₑ    ρₑ      ⎢⎢          2⋅μ      ⎥⎥⎟  ⎜╲╱   ρₑ    ρₑ      ⎢⎢      \n",
       "⎟  ⎜                    ⎢⎢      1 + ───      ⎥⎥⎟  ⎜                   ⎢⎢      \n",
       "⎟  ⎜                    ⎢⎢           λ       ⎥⎥⎟  ⎜                   ⎢⎢      \n",
       "⎟  ⎜                    ⎢⎢                   ⎥⎥⎟  ⎜                   ⎢⎢      \n",
       "⎟  ⎜                    ⎢⎢         1         ⎥⎥⎟  ⎜                   ⎢⎢      \n",
       "⎠  ⎜                    ⎢⎢                   ⎥⎥⎟  ⎜                   ⎢⎢      \n",
       "   ⎝                    ⎣⎣         0         ⎦⎦⎠  ⎝                   ⎣⎣      \n",
       "\n",
       "λ + 2⋅μ)     ⎤⎤⎞⎤\n",
       "─────────────⎥⎥⎟⎥\n",
       "   __________⎥⎥⎟⎥\n",
       "  ╱ λ    2⋅μ ⎥⎥⎟⎥\n",
       " ╱  ── + ─── ⎥⎥⎟⎥\n",
       "╱   ρₑ    ρₑ ⎥⎥⎟⎥\n",
       "             ⎥⎥⎟⎥\n",
       "   0         ⎥⎥⎟⎥\n",
       "             ⎥⎥⎟⎥\n",
       "    2⋅μ      ⎥⎥⎟⎥\n",
       "1 + ───      ⎥⎥⎟⎥\n",
       "     λ       ⎥⎥⎟⎥\n",
       "             ⎥⎥⎟⎥\n",
       "   1         ⎥⎥⎟⎥\n",
       "             ⎥⎥⎟⎥\n",
       "   0         ⎦⎦⎠⎦"
      ]
     },
     "metadata": {},
     "output_type": "display_data"
    },
    {
     "name": "stdout",
     "output_type": "stream",
     "text": [
      "A_y_e:\n"
     ]
    },
    {
     "data": {
      "text/latex": [
       "$\\displaystyle \\left[\\begin{matrix}0 & 0 & 0 & 0 & - \\frac{1}{\\rho_{e}}\\\\0 & 0 & 0 & - \\frac{1}{\\rho_{e}} & 0\\\\0 & - \\lambda & 0 & 0 & 0\\\\0 & - \\lambda - 2 \\mu & 0 & 0 & 0\\\\- \\mu & 0 & 0 & 0 & 0\\end{matrix}\\right]$"
      ],
      "text/plain": [
       "⎡                      -1 ⎤\n",
       "⎢0      0      0   0   ───⎥\n",
       "⎢                       ρₑ⎥\n",
       "⎢                         ⎥\n",
       "⎢                 -1      ⎥\n",
       "⎢0      0      0  ───   0 ⎥\n",
       "⎢                  ρₑ     ⎥\n",
       "⎢                         ⎥\n",
       "⎢0      -λ     0   0    0 ⎥\n",
       "⎢                         ⎥\n",
       "⎢0   -λ - 2⋅μ  0   0    0 ⎥\n",
       "⎢                         ⎥\n",
       "⎣-μ     0      0   0    0 ⎦"
      ]
     },
     "metadata": {},
     "output_type": "display_data"
    },
    {
     "name": "stdout",
     "output_type": "stream",
     "text": [
      "Eigenvectors:\n"
     ]
    },
    {
     "data": {
      "text/latex": [
       "$\\displaystyle \\left[ \\left( 0, \\  1, \\  \\left[ \\left[\\begin{matrix}0\\\\0\\\\1\\\\0\\\\0\\end{matrix}\\right]\\right]\\right), \\  \\left( - \\sqrt{\\frac{\\mu}{\\rho_{e}}}, \\  1, \\  \\left[ \\left[\\begin{matrix}\\frac{1}{\\rho_{e} \\sqrt{\\frac{\\mu}{\\rho_{e}}}}\\\\0\\\\0\\\\0\\\\1\\end{matrix}\\right]\\right]\\right), \\  \\left( \\sqrt{\\frac{\\mu}{\\rho_{e}}}, \\  1, \\  \\left[ \\left[\\begin{matrix}- \\frac{1}{\\rho_{e} \\sqrt{\\frac{\\mu}{\\rho_{e}}}}\\\\0\\\\0\\\\0\\\\1\\end{matrix}\\right]\\right]\\right), \\  \\left( - \\sqrt{\\frac{\\lambda}{\\rho_{e}} + \\frac{2 \\mu}{\\rho_{e}}}, \\  1, \\  \\left[ \\left[\\begin{matrix}0\\\\\\frac{1}{\\rho_{e} \\sqrt{\\frac{\\lambda}{\\rho_{e}} + \\frac{2 \\mu}{\\rho_{e}}}}\\\\\\frac{\\lambda}{\\lambda + 2 \\mu}\\\\1\\\\0\\end{matrix}\\right]\\right]\\right), \\  \\left( \\sqrt{\\frac{\\lambda}{\\rho_{e}} + \\frac{2 \\mu}{\\rho_{e}}}, \\  1, \\  \\left[ \\left[\\begin{matrix}0\\\\- \\frac{1}{\\rho_{e} \\sqrt{\\frac{\\lambda}{\\rho_{e}} + \\frac{2 \\mu}{\\rho_{e}}}}\\\\\\frac{\\lambda}{\\lambda + 2 \\mu}\\\\1\\\\0\\end{matrix}\\right]\\right]\\right)\\right]$"
      ],
      "text/plain": [
       "⎡                                                                             \n",
       "⎢               ⎛              ⎡⎡     1     ⎤⎤⎞  ⎛             ⎡⎡    -1     ⎤⎤\n",
       "⎢               ⎜              ⎢⎢───────────⎥⎥⎟  ⎜             ⎢⎢───────────⎥⎥\n",
       "⎢               ⎜              ⎢⎢       ____⎥⎥⎟  ⎜             ⎢⎢       ____⎥⎥\n",
       "⎢⎛      ⎡⎡0⎤⎤⎞  ⎜              ⎢⎢      ╱ μ  ⎥⎥⎟  ⎜             ⎢⎢      ╱ μ  ⎥⎥\n",
       "⎢⎜      ⎢⎢ ⎥⎥⎟  ⎜              ⎢⎢ρₑ⋅  ╱  ── ⎥⎥⎟  ⎜             ⎢⎢ρₑ⋅  ╱  ── ⎥⎥\n",
       "⎢⎜      ⎢⎢0⎥⎥⎟  ⎜     ____     ⎢⎢   ╲╱   ρₑ ⎥⎥⎟  ⎜    ____     ⎢⎢   ╲╱   ρₑ ⎥⎥\n",
       "⎢⎜      ⎢⎢ ⎥⎥⎟  ⎜    ╱ μ       ⎢⎢           ⎥⎥⎟  ⎜   ╱ μ       ⎢⎢           ⎥⎥\n",
       "⎢⎜0, 1, ⎢⎢1⎥⎥⎟, ⎜-  ╱  ── , 1, ⎢⎢     0     ⎥⎥⎟, ⎜  ╱  ── , 1, ⎢⎢     0     ⎥⎥\n",
       "⎢⎜      ⎢⎢ ⎥⎥⎟  ⎜ ╲╱   ρₑ      ⎢⎢           ⎥⎥⎟  ⎜╲╱   ρₑ      ⎢⎢           ⎥⎥\n",
       "⎢⎜      ⎢⎢0⎥⎥⎟  ⎜              ⎢⎢     0     ⎥⎥⎟  ⎜             ⎢⎢     0     ⎥⎥\n",
       "⎢⎜      ⎢⎢ ⎥⎥⎟  ⎜              ⎢⎢           ⎥⎥⎟  ⎜             ⎢⎢           ⎥⎥\n",
       "⎢⎝      ⎣⎣0⎦⎦⎠  ⎜              ⎢⎢     0     ⎥⎥⎟  ⎜             ⎢⎢     0     ⎥⎥\n",
       "⎢               ⎜              ⎢⎢           ⎥⎥⎟  ⎜             ⎢⎢           ⎥⎥\n",
       "⎢               ⎝              ⎣⎣     1     ⎦⎦⎠  ⎝             ⎣⎣     1     ⎦⎦\n",
       "⎣                                                                             \n",
       "\n",
       "   ⎛                    ⎡⎡        0        ⎤⎤⎞  ⎛                   ⎡⎡        \n",
       "⎞  ⎜                    ⎢⎢                 ⎥⎥⎟  ⎜                   ⎢⎢        \n",
       "⎟  ⎜                    ⎢⎢        1        ⎥⎥⎟  ⎜                   ⎢⎢       -\n",
       "⎟  ⎜                    ⎢⎢─────────────────⎥⎥⎟  ⎜                   ⎢⎢────────\n",
       "⎟  ⎜                    ⎢⎢       __________⎥⎥⎟  ⎜                   ⎢⎢       _\n",
       "⎟  ⎜                    ⎢⎢      ╱ λ    2⋅μ ⎥⎥⎟  ⎜                   ⎢⎢      ╱ \n",
       "⎟  ⎜     __________     ⎢⎢ρₑ⋅  ╱  ── + ─── ⎥⎥⎟  ⎜    __________     ⎢⎢ρₑ⋅  ╱  \n",
       "⎟  ⎜    ╱ λ    2⋅μ      ⎢⎢   ╲╱   ρₑ    ρₑ ⎥⎥⎟  ⎜   ╱ λ    2⋅μ      ⎢⎢   ╲╱   \n",
       "⎟, ⎜-  ╱  ── + ─── , 1, ⎢⎢                 ⎥⎥⎟, ⎜  ╱  ── + ─── , 1, ⎢⎢        \n",
       "⎟  ⎜ ╲╱   ρₑ    ρₑ      ⎢⎢        λ        ⎥⎥⎟  ⎜╲╱   ρₑ    ρₑ      ⎢⎢        \n",
       "⎟  ⎜                    ⎢⎢     ───────     ⎥⎥⎟  ⎜                   ⎢⎢     ───\n",
       "⎟  ⎜                    ⎢⎢     λ + 2⋅μ     ⎥⎥⎟  ⎜                   ⎢⎢     λ +\n",
       "⎟  ⎜                    ⎢⎢                 ⎥⎥⎟  ⎜                   ⎢⎢        \n",
       "⎟  ⎜                    ⎢⎢        1        ⎥⎥⎟  ⎜                   ⎢⎢        \n",
       "⎠  ⎜                    ⎢⎢                 ⎥⎥⎟  ⎜                   ⎢⎢        \n",
       "   ⎝                    ⎣⎣        0        ⎦⎦⎠  ⎝                   ⎣⎣        \n",
       "\n",
       "0        ⎤⎤⎞⎤\n",
       "         ⎥⎥⎟⎥\n",
       "1        ⎥⎥⎟⎥\n",
       "─────────⎥⎥⎟⎥\n",
       "_________⎥⎥⎟⎥\n",
       "λ    2⋅μ ⎥⎥⎟⎥\n",
       "── + ─── ⎥⎥⎟⎥\n",
       "ρₑ    ρₑ ⎥⎥⎟⎥\n",
       "         ⎥⎥⎟⎥\n",
       "λ        ⎥⎥⎟⎥\n",
       "────     ⎥⎥⎟⎥\n",
       " 2⋅μ     ⎥⎥⎟⎥\n",
       "         ⎥⎥⎟⎥\n",
       "1        ⎥⎥⎟⎥\n",
       "         ⎥⎥⎟⎥\n",
       "0        ⎦⎦⎠⎦"
      ]
     },
     "metadata": {},
     "output_type": "display_data"
    },
    {
     "name": "stdout",
     "output_type": "stream",
     "text": [
      "Lambda_x = Lambda_y:\n"
     ]
    },
    {
     "data": {
      "text/latex": [
       "$\\displaystyle \\left[\\begin{matrix}0 & 0 & 0 & 0 & 0\\\\0 & - \\sqrt{\\frac{\\mu}{\\rho_{e}}} & 0 & 0 & 0\\\\0 & 0 & \\sqrt{\\frac{\\mu}{\\rho_{e}}} & 0 & 0\\\\0 & 0 & 0 & - \\sqrt{\\frac{\\lambda + 2 \\mu}{\\rho_{e}}} & 0\\\\0 & 0 & 0 & 0 & \\sqrt{\\frac{\\lambda + 2 \\mu}{\\rho_{e}}}\\end{matrix}\\right]$"
      ],
      "text/plain": [
       "⎡0      0         0            0               0      ⎤\n",
       "⎢                                                     ⎥\n",
       "⎢        ____                                         ⎥\n",
       "⎢       ╱ μ                                           ⎥\n",
       "⎢0  -  ╱  ──      0            0               0      ⎥\n",
       "⎢    ╲╱   ρₑ                                          ⎥\n",
       "⎢                                                     ⎥\n",
       "⎢                  ____                               ⎥\n",
       "⎢                 ╱ μ                                 ⎥\n",
       "⎢0      0        ╱  ──         0               0      ⎥\n",
       "⎢              ╲╱   ρₑ                                ⎥\n",
       "⎢                                                     ⎥\n",
       "⎢                             _________               ⎥\n",
       "⎢                            ╱ λ + 2⋅μ                ⎥\n",
       "⎢0      0         0      -  ╱  ───────         0      ⎥\n",
       "⎢                         ╲╱      ρₑ                  ⎥\n",
       "⎢                                                     ⎥\n",
       "⎢                                            _________⎥\n",
       "⎢                                           ╱ λ + 2⋅μ ⎥\n",
       "⎢0      0         0            0           ╱  ─────── ⎥\n",
       "⎣                                        ╲╱      ρₑ   ⎦"
      ]
     },
     "metadata": {},
     "output_type": "display_data"
    },
    {
     "name": "stdout",
     "output_type": "stream",
     "text": [
      "Omega_x_e:\n"
     ]
    },
    {
     "data": {
      "text/latex": [
       "$\\displaystyle \\left[\\begin{matrix}0 & 0 & - \\frac{\\lambda}{\\lambda + 2 \\mu} & 1 & 0\\\\0 & \\frac{\\sqrt{\\mu \\rho_{e}}}{2} & 0 & 0 & \\frac{1}{2}\\\\0 & - \\frac{\\sqrt{\\mu \\rho_{e}}}{2} & 0 & 0 & \\frac{1}{2}\\\\\\frac{\\lambda \\rho_{e} \\sqrt{\\frac{\\lambda + 2 \\mu}{\\rho_{e}}}}{2 \\left(\\lambda + 2 \\mu\\right)} & 0 & \\frac{\\lambda}{2 \\left(\\lambda + 2 \\mu\\right)} & 0 & 0\\\\- \\frac{\\lambda}{2 \\sqrt{\\frac{\\lambda + 2 \\mu}{\\rho_{e}}}} & 0 & \\frac{\\lambda}{2 \\left(\\lambda + 2 \\mu\\right)} & 0 & 0\\end{matrix}\\right]$"
      ],
      "text/plain": [
       "⎡                                    -λ             ⎤\n",
       "⎢        0               0         ───────    1   0 ⎥\n",
       "⎢                                  λ + 2⋅μ          ⎥\n",
       "⎢                                                   ⎥\n",
       "⎢                       ______                      ⎥\n",
       "⎢                     ╲╱ μ⋅ρₑ                       ⎥\n",
       "⎢        0            ────────        0       0  1/2⎥\n",
       "⎢                        2                          ⎥\n",
       "⎢                                                   ⎥\n",
       "⎢                       ______                      ⎥\n",
       "⎢                    -╲╱ μ⋅ρₑ                       ⎥\n",
       "⎢        0           ──────────       0       0  1/2⎥\n",
       "⎢                        2                          ⎥\n",
       "⎢                                                   ⎥\n",
       "⎢         _________                                 ⎥\n",
       "⎢        ╱ λ + 2⋅μ                                  ⎥\n",
       "⎢λ⋅ρₑ⋅  ╱  ───────                                  ⎥\n",
       "⎢     ╲╱      ρₑ                      λ             ⎥\n",
       "⎢──────────────────      0       ───────────  0   0 ⎥\n",
       "⎢   2⋅(λ + 2⋅μ)                  2⋅(λ + 2⋅μ)        ⎥\n",
       "⎢                                                   ⎥\n",
       "⎢       -λ                            λ             ⎥\n",
       "⎢ ───────────────        0       ───────────  0   0 ⎥\n",
       "⎢       _________                2⋅(λ + 2⋅μ)        ⎥\n",
       "⎢      ╱ λ + 2⋅μ                                    ⎥\n",
       "⎢ 2⋅  ╱  ───────                                    ⎥\n",
       "⎣   ╲╱      ρₑ                                      ⎦"
      ]
     },
     "metadata": {},
     "output_type": "display_data"
    },
    {
     "name": "stdout",
     "output_type": "stream",
     "text": [
      "Omega_x_e ^ (-1):\n"
     ]
    },
    {
     "data": {
      "text/latex": [
       "$\\displaystyle \\left[\\begin{matrix}0 & 0 & 0 & \\frac{\\sqrt{\\frac{\\lambda + 2 \\mu}{\\rho_{e}}}}{\\lambda} & - \\frac{\\sqrt{\\frac{\\lambda + 2 \\mu}{\\rho_{e}}}}{\\lambda}\\\\0 & \\frac{1}{\\sqrt{\\mu \\rho_{e}}} & - \\frac{1}{\\sqrt{\\mu \\rho_{e}}} & 0 & 0\\\\0 & 0 & 0 & \\frac{\\lambda + 2 \\mu}{\\lambda} & \\frac{\\lambda + 2 \\mu}{\\lambda}\\\\1 & 0 & 0 & 1 & 1\\\\0 & 1 & 1 & 0 & 0\\end{matrix}\\right]$"
      ],
      "text/plain": [
       "⎡                           _________       _________ ⎤\n",
       "⎢                          ╱ λ + 2⋅μ       ╱ λ + 2⋅μ  ⎥\n",
       "⎢                         ╱  ───────   -  ╱  ───────  ⎥\n",
       "⎢                       ╲╱      ρₑ      ╲╱      ρₑ    ⎥\n",
       "⎢0     0         0      ─────────────  ───────────────⎥\n",
       "⎢                             λ               λ       ⎥\n",
       "⎢                                                     ⎥\n",
       "⎢      1        -1                                    ⎥\n",
       "⎢0  ────────  ────────        0               0       ⎥\n",
       "⎢     ______    ______                                ⎥\n",
       "⎢   ╲╱ μ⋅ρₑ   ╲╱ μ⋅ρₑ                                 ⎥\n",
       "⎢                                                     ⎥\n",
       "⎢                          λ + 2⋅μ         λ + 2⋅μ    ⎥\n",
       "⎢0     0         0         ───────         ───────    ⎥\n",
       "⎢                             λ               λ       ⎥\n",
       "⎢                                                     ⎥\n",
       "⎢1     0         0            1               1       ⎥\n",
       "⎢                                                     ⎥\n",
       "⎣0     1         1            0               0       ⎦"
      ]
     },
     "metadata": {},
     "output_type": "display_data"
    },
    {
     "name": "stdout",
     "output_type": "stream",
     "text": [
      "Omega_y_e:\n"
     ]
    },
    {
     "data": {
      "text/latex": [
       "$\\displaystyle \\left[\\begin{matrix}0 & 0 & 1 & - \\frac{\\lambda}{\\lambda + 2 \\mu} & 0\\\\\\frac{\\sqrt{\\mu \\rho_{e}}}{2} & 0 & 0 & 0 & \\frac{1}{2}\\\\- \\frac{\\sqrt{\\mu \\rho_{e}}}{2} & 0 & 0 & 0 & \\frac{1}{2}\\\\0 & \\frac{\\sqrt{\\rho_{e} \\left(\\lambda + 2 \\mu\\right)}}{2} & 0 & \\frac{1}{2} & 0\\\\0 & - \\frac{\\sqrt{\\rho_{e} \\left(\\lambda + 2 \\mu\\right)}}{2} & 0 & \\frac{1}{2} & 0\\end{matrix}\\right]$"
      ],
      "text/plain": [
       "⎡                                     -λ        ⎤\n",
       "⎢    0               0           1  ───────   0 ⎥\n",
       "⎢                                   λ + 2⋅μ     ⎥\n",
       "⎢                                               ⎥\n",
       "⎢   ______                                      ⎥\n",
       "⎢ ╲╱ μ⋅ρₑ                                       ⎥\n",
       "⎢ ────────           0           0     0     1/2⎥\n",
       "⎢    2                                          ⎥\n",
       "⎢                                               ⎥\n",
       "⎢   ______                                      ⎥\n",
       "⎢-╲╱ μ⋅ρₑ                                       ⎥\n",
       "⎢──────────          0           0     0     1/2⎥\n",
       "⎢    2                                          ⎥\n",
       "⎢                                               ⎥\n",
       "⎢               ______________                  ⎥\n",
       "⎢             ╲╱ ρₑ⋅(λ + 2⋅μ)                   ⎥\n",
       "⎢    0        ────────────────   0    1/2     0 ⎥\n",
       "⎢                    2                          ⎥\n",
       "⎢                                               ⎥\n",
       "⎢               ______________                  ⎥\n",
       "⎢            -╲╱ ρₑ⋅(λ + 2⋅μ)                   ⎥\n",
       "⎢    0       ──────────────────  0    1/2     0 ⎥\n",
       "⎣                    2                          ⎦"
      ]
     },
     "metadata": {},
     "output_type": "display_data"
    },
    {
     "name": "stdout",
     "output_type": "stream",
     "text": [
      "Omega_y_e^(-1):\n"
     ]
    },
    {
     "data": {
      "text/latex": [
       "$\\displaystyle \\left[\\begin{matrix}0 & \\frac{1}{\\sqrt{\\mu \\rho_{e}}} & - \\frac{1}{\\sqrt{\\mu \\rho_{e}}} & 0 & 0\\\\0 & 0 & 0 & \\frac{1}{\\sqrt{\\rho_{e} \\left(\\lambda + 2 \\mu\\right)}} & - \\frac{1}{\\sqrt{\\rho_{e} \\left(\\lambda + 2 \\mu\\right)}}\\\\1 & 0 & 0 & \\frac{\\lambda}{\\lambda + 2 \\mu} & \\frac{\\lambda}{\\lambda + 2 \\mu}\\\\0 & 0 & 0 & 1 & 1\\\\0 & 1 & 1 & 0 & 0\\end{matrix}\\right]$"
      ],
      "text/plain": [
       "⎡      1        -1                                        ⎤\n",
       "⎢0  ────────  ────────         0                 0        ⎥\n",
       "⎢     ______    ______                                    ⎥\n",
       "⎢   ╲╱ μ⋅ρₑ   ╲╱ μ⋅ρₑ                                     ⎥\n",
       "⎢                                                         ⎥\n",
       "⎢                              1                -1        ⎥\n",
       "⎢0     0         0      ────────────────  ────────────────⎥\n",
       "⎢                         ______________    ______________⎥\n",
       "⎢                       ╲╱ ρₑ⋅(λ + 2⋅μ)   ╲╱ ρₑ⋅(λ + 2⋅μ) ⎥\n",
       "⎢                                                         ⎥\n",
       "⎢                              λ                 λ        ⎥\n",
       "⎢1     0         0          ───────           ───────     ⎥\n",
       "⎢                           λ + 2⋅μ           λ + 2⋅μ     ⎥\n",
       "⎢                                                         ⎥\n",
       "⎢0     0         0             1                 1        ⎥\n",
       "⎢                                                         ⎥\n",
       "⎣0     1         1             0                 0        ⎦"
      ]
     },
     "metadata": {},
     "output_type": "display_data"
    },
    {
     "name": "stdout",
     "output_type": "stream",
     "text": [
      "Omega_x_e * q\n"
     ]
    },
    {
     "data": {
      "text/latex": [
       "$\\displaystyle \\left[\\begin{matrix}\\frac{- \\lambda \\sigma_{xx} + \\sigma_{yy} \\left(\\lambda + 2 \\mu\\right)}{\\lambda + 2 \\mu}\\\\\\frac{\\sigma_{xy}}{2} + \\frac{v_{y} \\sqrt{\\mu \\rho_{e}}}{2}\\\\\\frac{\\sigma_{xy}}{2} - \\frac{v_{y} \\sqrt{\\mu \\rho_{e}}}{2}\\\\\\frac{\\lambda \\left(\\rho_{e} v_{x} \\sqrt{\\frac{\\lambda + 2 \\mu}{\\rho_{e}}} + \\sigma_{xx}\\right)}{2 \\left(\\lambda + 2 \\mu\\right)}\\\\\\frac{\\lambda \\left(\\sigma_{xx} \\sqrt{\\frac{\\lambda + 2 \\mu}{\\rho_{e}}} - v_{x} \\left(\\lambda + 2 \\mu\\right)\\right)}{2 \\sqrt{\\frac{\\lambda + 2 \\mu}{\\rho_{e}}} \\left(\\lambda + 2 \\mu\\right)}\\end{matrix}\\right]$"
      ],
      "text/plain": [
       "⎡      -λ⋅σₓₓ + σ_yy⋅(λ + 2⋅μ)       ⎤\n",
       "⎢      ───────────────────────       ⎥\n",
       "⎢              λ + 2⋅μ               ⎥\n",
       "⎢                                    ⎥\n",
       "⎢                     ______         ⎥\n",
       "⎢        σ_xy   v_y⋅╲╱ μ⋅ρₑ          ⎥\n",
       "⎢        ──── + ────────────         ⎥\n",
       "⎢         2          2               ⎥\n",
       "⎢                                    ⎥\n",
       "⎢                     ______         ⎥\n",
       "⎢        σ_xy   v_y⋅╲╱ μ⋅ρₑ          ⎥\n",
       "⎢        ──── - ────────────         ⎥\n",
       "⎢         2          2               ⎥\n",
       "⎢                                    ⎥\n",
       "⎢     ⎛          _________      ⎞    ⎥\n",
       "⎢     ⎜         ╱ λ + 2⋅μ       ⎟    ⎥\n",
       "⎢   λ⋅⎜ρₑ⋅vₓ⋅  ╱  ───────  + σₓₓ⎟    ⎥\n",
       "⎢     ⎝      ╲╱      ρₑ         ⎠    ⎥\n",
       "⎢   ─────────────────────────────    ⎥\n",
       "⎢            2⋅(λ + 2⋅μ)             ⎥\n",
       "⎢                                    ⎥\n",
       "⎢  ⎛        _________               ⎞⎥\n",
       "⎢  ⎜       ╱ λ + 2⋅μ                ⎟⎥\n",
       "⎢λ⋅⎜σₓₓ⋅  ╱  ───────  - vₓ⋅(λ + 2⋅μ)⎟⎥\n",
       "⎢  ⎝    ╲╱      ρₑ                  ⎠⎥\n",
       "⎢────────────────────────────────────⎥\n",
       "⎢           _________                ⎥\n",
       "⎢          ╱ λ + 2⋅μ                 ⎥\n",
       "⎢     2⋅  ╱  ─────── ⋅(λ + 2⋅μ)      ⎥\n",
       "⎣       ╲╱      ρₑ                   ⎦"
      ]
     },
     "metadata": {},
     "output_type": "display_data"
    },
    {
     "name": "stdout",
     "output_type": "stream",
     "text": [
      "Omega_y_e * q\n"
     ]
    },
    {
     "data": {
      "text/latex": [
       "$\\displaystyle \\left[\\begin{matrix}\\frac{- \\lambda \\sigma_{yy} + \\sigma_{xx} \\left(\\lambda + 2 \\mu\\right)}{\\lambda + 2 \\mu}\\\\\\frac{\\sigma_{xy}}{2} + \\frac{v_{x} \\sqrt{\\mu \\rho_{e}}}{2}\\\\\\frac{\\sigma_{xy}}{2} - \\frac{v_{x} \\sqrt{\\mu \\rho_{e}}}{2}\\\\\\frac{\\sigma_{yy}}{2} + \\frac{v_{y} \\sqrt{\\rho_{e} \\left(\\lambda + 2 \\mu\\right)}}{2}\\\\\\frac{\\sigma_{yy}}{2} - \\frac{v_{y} \\sqrt{\\rho_{e} \\left(\\lambda + 2 \\mu\\right)}}{2}\\end{matrix}\\right]$"
      ],
      "text/plain": [
       "⎡  -λ⋅σ_yy + σₓₓ⋅(λ + 2⋅μ)  ⎤\n",
       "⎢  ───────────────────────  ⎥\n",
       "⎢          λ + 2⋅μ          ⎥\n",
       "⎢                           ⎥\n",
       "⎢                ______     ⎥\n",
       "⎢    σ_xy   vₓ⋅╲╱ μ⋅ρₑ      ⎥\n",
       "⎢    ──── + ───────────     ⎥\n",
       "⎢     2          2          ⎥\n",
       "⎢                           ⎥\n",
       "⎢                ______     ⎥\n",
       "⎢    σ_xy   vₓ⋅╲╱ μ⋅ρₑ      ⎥\n",
       "⎢    ──── - ───────────     ⎥\n",
       "⎢     2          2          ⎥\n",
       "⎢                           ⎥\n",
       "⎢             ______________⎥\n",
       "⎢σ_yy   v_y⋅╲╱ ρₑ⋅(λ + 2⋅μ) ⎥\n",
       "⎢──── + ────────────────────⎥\n",
       "⎢ 2              2          ⎥\n",
       "⎢                           ⎥\n",
       "⎢             ______________⎥\n",
       "⎢σ_yy   v_y⋅╲╱ ρₑ⋅(λ + 2⋅μ) ⎥\n",
       "⎢──── - ────────────────────⎥\n",
       "⎣ 2              2          ⎦"
      ]
     },
     "metadata": {},
     "output_type": "display_data"
    },
    {
     "name": "stdout",
     "output_type": "stream",
     "text": [
      "Omega_x_e_inv * w\n"
     ]
    },
    {
     "data": {
      "text/latex": [
       "$\\displaystyle \\left[\\begin{matrix}\\frac{\\sqrt{\\frac{\\lambda + 2 \\mu}{\\rho_{e}}} \\left(w_{4} - w_{5}\\right)}{\\lambda}\\\\\\frac{w_{2} - w_{3}}{\\sqrt{\\mu \\rho_{e}}}\\\\\\frac{\\left(\\lambda + 2 \\mu\\right) \\left(w_{4} + w_{5}\\right)}{\\lambda}\\\\w_{1} + w_{4} + w_{5}\\\\w_{2} + w_{3}\\end{matrix}\\right]$"
      ],
      "text/plain": [
       "⎡    _________          ⎤\n",
       "⎢   ╱ λ + 2⋅μ           ⎥\n",
       "⎢  ╱  ─────── ⋅(w₄ - w₅)⎥\n",
       "⎢╲╱      ρₑ             ⎥\n",
       "⎢───────────────────────⎥\n",
       "⎢           λ           ⎥\n",
       "⎢                       ⎥\n",
       "⎢       w₂ - w₃         ⎥\n",
       "⎢       ────────        ⎥\n",
       "⎢         ______        ⎥\n",
       "⎢       ╲╱ μ⋅ρₑ         ⎥\n",
       "⎢                       ⎥\n",
       "⎢  (λ + 2⋅μ)⋅(w₄ + w₅)  ⎥\n",
       "⎢  ───────────────────  ⎥\n",
       "⎢           λ           ⎥\n",
       "⎢                       ⎥\n",
       "⎢     w₁ + w₄ + w₅      ⎥\n",
       "⎢                       ⎥\n",
       "⎣        w₂ + w₃        ⎦"
      ]
     },
     "metadata": {},
     "output_type": "display_data"
    },
    {
     "name": "stdout",
     "output_type": "stream",
     "text": [
      "Omega_y_e_inv * w\n"
     ]
    },
    {
     "data": {
      "text/latex": [
       "$\\displaystyle \\left[\\begin{matrix}\\frac{w_{2} - w_{3}}{\\sqrt{\\mu \\rho_{e}}}\\\\\\frac{w_{4} - w_{5}}{\\sqrt{\\rho_{e} \\left(\\lambda + 2 \\mu\\right)}}\\\\\\frac{\\lambda w_{4} + \\lambda w_{5} + w_{1} \\left(\\lambda + 2 \\mu\\right)}{\\lambda + 2 \\mu}\\\\w_{4} + w_{5}\\\\w_{2} + w_{3}\\end{matrix}\\right]$"
      ],
      "text/plain": [
       "⎡         w₂ - w₃          ⎤\n",
       "⎢         ────────         ⎥\n",
       "⎢           ______         ⎥\n",
       "⎢         ╲╱ μ⋅ρₑ          ⎥\n",
       "⎢                          ⎥\n",
       "⎢         w₄ - w₅          ⎥\n",
       "⎢     ────────────────     ⎥\n",
       "⎢       ______________     ⎥\n",
       "⎢     ╲╱ ρₑ⋅(λ + 2⋅μ)      ⎥\n",
       "⎢                          ⎥\n",
       "⎢λ⋅w₄ + λ⋅w₅ + w₁⋅(λ + 2⋅μ)⎥\n",
       "⎢──────────────────────────⎥\n",
       "⎢         λ + 2⋅μ          ⎥\n",
       "⎢                          ⎥\n",
       "⎢         w₄ + w₅          ⎥\n",
       "⎢                          ⎥\n",
       "⎣         w₂ + w₃          ⎦"
      ]
     },
     "metadata": {},
     "output_type": "display_data"
    }
   ],
   "source": [
    "rho_e, lam, mu, v_x, v_y, sigma_xx, sigma_yy, sigma_xy = symbols('rho_e lambda mu v_x v_y sigma_xx sigma_yy sigma_xy')\n",
    "A_x_e = Matrix([[0, 0, -1 / rho_e, 0, 0],\n",
    "              [0, 0, 0, 0, -1 / rho_e],\n",
    "              [-lam - 2 * mu, 0, 0, 0, 0],\n",
    "              [-lam, 0, 0, 0, 0],\n",
    "              [0, -mu, 0, 0, 0]])\n",
    "print('A_x_e:')\n",
    "display(A_x_e)\n",
    "print('Eigenvectors:')\n",
    "display(A_x_e.eigenvects())\n",
    "A_y_e = Matrix([[0, 0, 0, 0, -1 / rho_e],\n",
    "              [0, 0, 0, -1 / rho_e, 0],\n",
    "              [0, - lam, 0, 0, 0],\n",
    "              [0, - lam - 2 * mu, 0, 0, 0],\n",
    "              [- mu, 0, 0, 0, 0]])\n",
    "print('A_y_e:')\n",
    "display(A_y_e)\n",
    "print('Eigenvectors:')\n",
    "display(A_y_e.eigenvects())\n",
    "\n",
    "print('Lambda_x = Lambda_y:')\n",
    "Lambda = diag(0, - sqrt(mu / rho_e), sqrt(mu / rho_e), -sqrt((lam + 2 * mu) / rho_e), sqrt((lam + 2 * mu) / rho_e))\n",
    "display(Lambda)\n",
    "\n",
    "Omega_x_e_inv = Matrix([[0, 0, 0, 1 / lam * sqrt((lam + 2 * mu) / rho_e), - 1 / lam * sqrt((lam + 2 * mu) / rho_e)],\n",
    "                      [0, 1 / sqrt(mu * rho_e), - 1 / sqrt(mu * rho_e), 0, 0],\n",
    "                      [0, 0, 0, 1 + 2 * mu / lam, 1 + 2 * mu / lam],\n",
    "                      [1, 0, 0, 1, 1],\n",
    "                      [0, 1, 1, 0, 0]])\n",
    "Omega_x_e = Omega_x_e_inv.inv()\n",
    "print('Omega_x_e:')\n",
    "display(simplify(Omega_x_e))\n",
    "print('Omega_x_e ^ (-1):')\n",
    "display(simplify(Omega_x_e_inv))\n",
    "\n",
    "Omega_y_e_inv = Matrix([[0, 1 / sqrt(mu * rho_e), - 1 / sqrt(mu * rho_e), 0, 0],\n",
    "                  [0, 0, 0, 1 / sqrt((lam + 2 * mu) * rho_e), - 1 / sqrt((lam + 2 * mu) * rho_e)],\n",
    "                  [1, 0, 0, lam / (lam + 2 * mu), lam / (lam + 2 * mu)],\n",
    "                  [0, 0, 0, 1, 1],\n",
    "                  [0, 1, 1, 0, 0]])\n",
    "Omega_y_e = Omega_y_e_inv.inv()\n",
    "print('Omega_y_e:')\n",
    "display(simplify(Omega_y_e))\n",
    "print('Omega_y_e^(-1):')\n",
    "display(simplify(Omega_y_e_inv))\n",
    "\n",
    "q = Matrix([v_x, v_y, sigma_xx, sigma_yy, sigma_xy])\n",
    "print('Omega_x_e * q')\n",
    "display(simplify(Omega_x_e * q))\n",
    "print('Omega_y_e * q')\n",
    "display(simplify(Omega_y_e * q))\n",
    "\n",
    "w1, w2, w3, w4, w5 = symbols('w_1 w_2 w_3 w_4 w_5')\n",
    "w = Matrix([w1, w2, w3, w4, w5])\n",
    "print('Omega_x_e_inv * w')\n",
    "display(simplify(Omega_x_e_inv * w))\n",
    "print('Omega_y_e_inv * w')\n",
    "display(simplify(Omega_y_e_inv * w))"
   ]
  },
  {
   "cell_type": "code",
   "execution_count": 6,
   "metadata": {},
   "outputs": [],
   "source": [
    "def El_Omega_x(q):\n",
    "    v_x, v_y, sigma_xx, sigma_yy, sigma_xy = q\n",
    "    return ((-lam * sigma_xx + sigma_yy * (lam + 2*mu)) / (lam + 2 * mu),\n",
    "            sigma_xy / 2 + v_y * np.sqrt(mu * rho_e) / 2,\n",
    "            sigma_xy / 2 - v_y * np.sqrt(mu * rho_e)/2,\n",
    "            lam * (rho_e * v_x * np.sqrt((lam + 2 * mu) / rho_e) + sigma_xx) / (2 * (lam + 2 * mu)),\n",
    "            lam * (sigma_xx * np.sqrt((lam + 2 * mu)/rho_e) - v_x * (lam + 2 * mu))/(2 * np.sqrt((lam + 2 * mu) / rho_e) * (lam + 2 * mu)))\n",
    "\n",
    "def El_Omega_y(q):\n",
    "    v_x, v_y, sigma_xx, sigma_yy, sigma_xy = q\n",
    "    return ((-lam * sigma_yy + sigma_xx * (lam + 2 * mu)) / (lam + 2*mu),\n",
    "            sigma_xy / 2 + v_x * np.sqrt(mu * rho_e) / 2,\n",
    "            sigma_xy / 2 - v_x * np.sqrt(mu * rho_e) / 2,\n",
    "            sigma_yy / 2 + v_y * np.sqrt(rho_e * (lam + 2 * mu)) / 2,\n",
    "            sigma_yy / 2 - v_y * np.sqrt(rho_e * (lam + 2 * mu)) / 2)\n",
    "\n",
    "def El_Omega_x_inv(w):\n",
    "    w_1, w_2, w_3, w_4, w_5 = w\n",
    "    return (np.sqrt((lam + 2 * mu) / rho_e) * (w_4 - w_5)/lam,\n",
    "            (w_2 - w_3) / np.sqrt(mu * rho_e),\n",
    "            (lam + 2 * mu) * (w_4 + w_5) / lam,\n",
    "            w_1 + w_4 + w_5,\n",
    "            w_2 + w_3)\n",
    "\n",
    "def El_Omega_y_inv(w):\n",
    "    w_1, w_2, w_3, w_4, w_5 = w\n",
    "    return ((w_2 - w_3) / np.sqrt(mu * rho_e),\n",
    "            (w_4 - w_5) / np.sqrt(rho_e * (lam + 2 * mu)),\n",
    "            (lam * w_4 + lam * w_5 + w_1 * (lam + 2 * mu)) / (lam + 2 * mu),\n",
    "            w_4 + w_5,\n",
    "            w_2 + w_3)"
   ]
  },
  {
   "cell_type": "markdown",
   "metadata": {},
   "source": [
    "## Граница сред"
   ]
  },
  {
   "cell_type": "code",
   "execution_count": 7,
   "metadata": {},
   "outputs": [
    {
     "name": "stdout",
     "output_type": "stream",
     "text": [
      "Действие оператора Omega_y_a^(-1) на вектор [w_a_1, w_a_2, w_a_3] имеет вид: \n"
     ]
    },
    {
     "data": {
      "text/latex": [
       "$\\displaystyle \\left[\\begin{matrix}\\omega^{a}_{1}\\\\\\frac{- \\omega^{a}_{2} + \\omega^{a}_{3}}{c \\rho_{a}}\\\\\\omega^{a}_{2} + \\omega^{a}_{3}\\end{matrix}\\right]$"
      ],
      "text/plain": [
       "⎡     ω_1__a     ⎤\n",
       "⎢                ⎥\n",
       "⎢-ω_2__a + ω_3__a⎥\n",
       "⎢────────────────⎥\n",
       "⎢      c⋅ρₐ      ⎥\n",
       "⎢                ⎥\n",
       "⎣ω_2__a + ω_3__a ⎦"
      ]
     },
     "metadata": {},
     "output_type": "display_data"
    },
    {
     "name": "stdout",
     "output_type": "stream",
     "text": [
      "На верхней границе мы не знаем значение инварианта w_a_3,т.к. он выходит за границу области.\n",
      "Но мы можем найти связь между w_a_2 и w_a_3, задав физическое условие p_a^(n+1) == P.\n",
      "Оно имеет вид w_2 ==\n"
     ]
    },
    {
     "data": {
      "image/png": "[encoded data removed]",
      "text/latex": [
       "$\\displaystyle P - \\omega^{a}_{3}$"
      ],
      "text/plain": [
       "P - ω_3__a"
      ]
     },
     "metadata": {},
     "output_type": "display_data"
    },
    {
     "name": "stdout",
     "output_type": "stream",
     "text": [
      "Тогда итоговые формулы на верхней границе примут вид:\n"
     ]
    },
    {
     "data": {
      "text/latex": [
       "$\\displaystyle \\left[\\begin{matrix}\\omega^{a}_{1}\\\\\\frac{- P + 2 \\omega^{a}_{3}}{c \\rho_{a}}\\\\P\\end{matrix}\\right]$"
      ],
      "text/plain": [
       "⎡   ω_1__a    ⎤\n",
       "⎢             ⎥\n",
       "⎢-P + 2⋅ω_3__a⎥\n",
       "⎢─────────────⎥\n",
       "⎢     c⋅ρₐ    ⎥\n",
       "⎢             ⎥\n",
       "⎣      P      ⎦"
      ]
     },
     "metadata": {},
     "output_type": "display_data"
    },
    {
     "name": "stdout",
     "output_type": "stream",
     "text": [
      "\n",
      "Действие оператора Omega_x_e^(-1) на вектор [w_e_1, w_e_2, w_e_3, w_e_4, w_e_5] имеет вид: \n"
     ]
    },
    {
     "data": {
      "text/latex": [
       "$\\displaystyle \\left[\\begin{matrix}\\frac{\\omega^{e}_{2}}{\\sqrt{\\mu \\rho_{e}}} - \\frac{\\omega^{e}_{3}}{\\sqrt{\\mu \\rho_{e}}}\\\\\\frac{\\omega^{e}_{4}}{\\sqrt{\\rho_{e} \\left(\\lambda + 2 \\mu\\right)}} - \\frac{\\omega^{e}_{5}}{\\sqrt{\\rho_{e} \\left(\\lambda + 2 \\mu\\right)}}\\\\\\frac{\\lambda \\omega^{e}_{4}}{\\lambda + 2 \\mu} + \\frac{\\lambda \\omega^{e}_{5}}{\\lambda + 2 \\mu} + \\omega^{e}_{1}\\\\\\omega^{e}_{4} + \\omega^{e}_{5}\\\\\\omega^{e}_{2} + \\omega^{e}_{3}\\end{matrix}\\right]$"
      ],
      "text/plain": [
       "⎡         ω_2__e     ω_3__e         ⎤\n",
       "⎢        ──────── - ────────        ⎥\n",
       "⎢          ______     ______        ⎥\n",
       "⎢        ╲╱ μ⋅ρₑ    ╲╱ μ⋅ρₑ         ⎥\n",
       "⎢                                   ⎥\n",
       "⎢     ω_4__e             ω_5__e     ⎥\n",
       "⎢──────────────── - ────────────────⎥\n",
       "⎢  ______________     ______________⎥\n",
       "⎢╲╱ ρₑ⋅(λ + 2⋅μ)    ╲╱ ρₑ⋅(λ + 2⋅μ) ⎥\n",
       "⎢                                   ⎥\n",
       "⎢   λ⋅ω_4__e   λ⋅ω_5__e             ⎥\n",
       "⎢   ──────── + ──────── + ω_1__e    ⎥\n",
       "⎢   λ + 2⋅μ    λ + 2⋅μ              ⎥\n",
       "⎢                                   ⎥\n",
       "⎢          ω_4__e + ω_5__e          ⎥\n",
       "⎢                                   ⎥\n",
       "⎣          ω_2__e + ω_3__e          ⎦"
      ]
     },
     "metadata": {},
     "output_type": "display_data"
    },
    {
     "name": "stdout",
     "output_type": "stream",
     "text": [
      "На нижней границе мы не знаем значение инвариантов w_e_3 и w_e_5, т.к. они выходят за границу области.\n",
      "Но мы можем найти связь между (w_e_3, w_e_2) и (w_e_5, w_e_4) , задав физические условия Syy_e^(n+1) == -P и Sxy_e^(n+1) == 0.\n"
     ]
    },
    {
     "data": {
      "image/png": "[encoded data removed]",
      "text/latex": [
       "$\\displaystyle \\left\\{ \\omega^{e}_{3} : - \\omega^{e}_{2}, \\  \\omega^{e}_{5} : - P - \\omega^{e}_{4}\\right\\}$"
      ],
      "text/plain": [
       "{ω_3__e: -ω_2__e, ω_5__e: -P - ω_4__e}"
      ]
     },
     "metadata": {},
     "output_type": "display_data"
    },
    {
     "name": "stdout",
     "output_type": "stream",
     "text": [
      "Тогда итоговые формулы на нижней границе примут вид:\n"
     ]
    },
    {
     "data": {
      "text/latex": [
       "$\\displaystyle \\left[\\begin{matrix}\\frac{2 \\omega^{e}_{2}}{\\sqrt{\\mu \\rho_{e}}}\\\\\\frac{P + 2 \\omega^{e}_{4}}{\\sqrt{\\rho_{e} \\left(\\lambda + 2 \\mu\\right)}}\\\\\\frac{- P \\lambda + \\lambda \\omega^{e}_{1} + 2 \\mu \\omega^{e}_{1}}{\\lambda + 2 \\mu}\\\\- P\\\\0\\end{matrix}\\right]$"
      ],
      "text/plain": [
       "⎡          2⋅ω_2__e          ⎤\n",
       "⎢          ────────          ⎥\n",
       "⎢            ______          ⎥\n",
       "⎢          ╲╱ μ⋅ρₑ           ⎥\n",
       "⎢                            ⎥\n",
       "⎢        P + 2⋅ω_4__e        ⎥\n",
       "⎢      ────────────────      ⎥\n",
       "⎢        ______________      ⎥\n",
       "⎢      ╲╱ ρₑ⋅(λ + 2⋅μ)       ⎥\n",
       "⎢                            ⎥\n",
       "⎢-P⋅λ + λ⋅ω_1__e + 2⋅μ⋅ω_1__e⎥\n",
       "⎢────────────────────────────⎥\n",
       "⎢          λ + 2⋅μ           ⎥\n",
       "⎢                            ⎥\n",
       "⎢             -P             ⎥\n",
       "⎢                            ⎥\n",
       "⎣             0              ⎦"
      ]
     },
     "metadata": {},
     "output_type": "display_data"
    },
    {
     "name": "stdout",
     "output_type": "stream",
     "text": [
      "\n",
      "Таким образом, осталось лишь найти конкретное значение P из условия Vy_e^(n+1) == Vy_a^(n+1)\n"
     ]
    },
    {
     "data": {
      "image/png": "[encoded data removed]",
      "text/latex": [
       "$\\displaystyle \\frac{2 \\left(- c \\omega^{e}_{4} \\rho_{a} + \\omega^{a}_{3} \\sqrt{\\rho_{e} \\left(\\lambda + 2 \\mu\\right)}\\right)}{c \\rho_{a} + \\sqrt{\\rho_{e} \\left(\\lambda + 2 \\mu\\right)}}$"
      ],
      "text/plain": [
       "  ⎛                        ______________⎞\n",
       "2⋅⎝-c⋅ω_4__e⋅ρₐ + ω_3__a⋅╲╱ ρₑ⋅(λ + 2⋅μ) ⎠\n",
       "──────────────────────────────────────────\n",
       "                  ______________          \n",
       "         c⋅ρₐ + ╲╱ ρₑ⋅(λ + 2⋅μ)           "
      ]
     },
     "metadata": {},
     "output_type": "display_data"
    },
    {
     "name": "stdout",
     "output_type": "stream",
     "text": [
      "Итоговые корректировочные формулы на контакте имеют вид:\n",
      "для акустической среды:\n"
     ]
    },
    {
     "data": {
      "text/latex": [
       "$\\displaystyle \\left[\\begin{matrix}\\omega^{a}_{1}\\\\\\frac{2 \\left(\\omega^{a}_{3} + \\omega^{e}_{4}\\right)}{c \\rho_{a} + \\sqrt{\\rho_{e} \\left(\\lambda + 2 \\mu\\right)}}\\\\\\frac{2 \\left(- c \\omega^{e}_{4} \\rho_{a} + \\omega^{a}_{3} \\sqrt{\\rho_{e} \\left(\\lambda + 2 \\mu\\right)}\\right)}{c \\rho_{a} + \\sqrt{\\rho_{e} \\left(\\lambda + 2 \\mu\\right)}}\\end{matrix}\\right]$"
      ],
      "text/plain": [
       "⎡                  ω_1__a                  ⎤\n",
       "⎢                                          ⎥\n",
       "⎢           2⋅(ω_3__a + ω_4__e)            ⎥\n",
       "⎢         ───────────────────────          ⎥\n",
       "⎢                  ______________          ⎥\n",
       "⎢         c⋅ρₐ + ╲╱ ρₑ⋅(λ + 2⋅μ)           ⎥\n",
       "⎢                                          ⎥\n",
       "⎢  ⎛                        ______________⎞⎥\n",
       "⎢2⋅⎝-c⋅ω_4__e⋅ρₐ + ω_3__a⋅╲╱ ρₑ⋅(λ + 2⋅μ) ⎠⎥\n",
       "⎢──────────────────────────────────────────⎥\n",
       "⎢                  ______________          ⎥\n",
       "⎣         c⋅ρₐ + ╲╱ ρₑ⋅(λ + 2⋅μ)           ⎦"
      ]
     },
     "metadata": {},
     "output_type": "display_data"
    },
    {
     "name": "stdout",
     "output_type": "stream",
     "text": [
      "для упругой среды:\n"
     ]
    },
    {
     "data": {
      "text/latex": [
       "$\\displaystyle \\left[\\begin{matrix}\\frac{2 \\omega^{e}_{2}}{\\sqrt{\\mu \\rho_{e}}}\\\\\\frac{2 \\sqrt{\\rho_{e} \\left(\\lambda + 2 \\mu\\right)} \\left(\\omega^{a}_{3} + \\omega^{e}_{4}\\right)}{c \\rho_{a} \\sqrt{\\rho_{e} \\left(\\lambda + 2 \\mu\\right)} + \\lambda \\rho_{e} + 2 \\mu \\rho_{e}}\\\\\\frac{2 \\lambda \\left(c \\omega^{e}_{4} \\rho_{a} - \\omega^{a}_{3} \\sqrt{\\rho_{e} \\left(\\lambda + 2 \\mu\\right)}\\right) + \\omega^{e}_{1} \\left(\\lambda + 2 \\mu\\right) \\left(c \\rho_{a} + \\sqrt{\\rho_{e} \\left(\\lambda + 2 \\mu\\right)}\\right)}{\\left(\\lambda + 2 \\mu\\right) \\left(c \\rho_{a} + \\sqrt{\\rho_{e} \\left(\\lambda + 2 \\mu\\right)}\\right)}\\\\\\frac{2 \\left(c \\omega^{e}_{4} \\rho_{a} - \\omega^{a}_{3} \\sqrt{\\rho_{e} \\left(\\lambda + 2 \\mu\\right)}\\right)}{c \\rho_{a} + \\sqrt{\\rho_{e} \\left(\\lambda + 2 \\mu\\right)}}\\\\0\\end{matrix}\\right]$"
      ],
      "text/plain": [
       "⎡                                        2⋅ω_2__e                             \n",
       "⎢                                        ────────                             \n",
       "⎢                                          ______                             \n",
       "⎢                                        ╲╱ μ⋅ρₑ                              \n",
       "⎢                                                                             \n",
       "⎢                              ______________                                 \n",
       "⎢                          2⋅╲╱ ρₑ⋅(λ + 2⋅μ) ⋅(ω_3__a + ω_4__e)               \n",
       "⎢                         ─────────────────────────────────────               \n",
       "⎢                                ______________                               \n",
       "⎢                         c⋅ρₐ⋅╲╱ ρₑ⋅(λ + 2⋅μ)  + λ⋅ρₑ + 2⋅μ⋅ρₑ               \n",
       "⎢                                                                             \n",
       "⎢    ⎛                       ______________⎞                    ⎛         ____\n",
       "⎢2⋅λ⋅⎝c⋅ω_4__e⋅ρₐ - ω_3__a⋅╲╱ ρₑ⋅(λ + 2⋅μ) ⎠ + ω_1__e⋅(λ + 2⋅μ)⋅⎝c⋅ρₐ + ╲╱ ρₑ⋅\n",
       "⎢─────────────────────────────────────────────────────────────────────────────\n",
       "⎢                                    ⎛         ______________⎞                \n",
       "⎢                          (λ + 2⋅μ)⋅⎝c⋅ρₐ + ╲╱ ρₑ⋅(λ + 2⋅μ) ⎠                \n",
       "⎢                                                                             \n",
       "⎢                         ⎛                       ______________⎞             \n",
       "⎢                       2⋅⎝c⋅ω_4__e⋅ρₐ - ω_3__a⋅╲╱ ρₑ⋅(λ + 2⋅μ) ⎠             \n",
       "⎢                       ─────────────────────────────────────────             \n",
       "⎢                                         ______________                      \n",
       "⎢                                c⋅ρₐ + ╲╱ ρₑ⋅(λ + 2⋅μ)                       \n",
       "⎢                                                                             \n",
       "⎣                                           0                                 \n",
       "\n",
       "           ⎤\n",
       "           ⎥\n",
       "           ⎥\n",
       "           ⎥\n",
       "           ⎥\n",
       "           ⎥\n",
       "           ⎥\n",
       "           ⎥\n",
       "           ⎥\n",
       "           ⎥\n",
       "           ⎥\n",
       "__________⎞⎥\n",
       "(λ + 2⋅μ) ⎠⎥\n",
       "───────────⎥\n",
       "           ⎥\n",
       "           ⎥\n",
       "           ⎥\n",
       "           ⎥\n",
       "           ⎥\n",
       "           ⎥\n",
       "           ⎥\n",
       "           ⎥\n",
       "           ⎥\n",
       "           ⎦"
      ]
     },
     "metadata": {},
     "output_type": "display_data"
    }
   ],
   "source": [
    "# Пусть в акустической среде на правой границе задано давление P, тогда\n",
    "w_a_1, w_a_2, w_a_3 = symbols(\"omega^a_1 omega^a_2 omega^a_3\")\n",
    "w_a = Matrix([w_a_1, w_a_2, w_a_3])\n",
    "v_a_x, v_a_y, p_a, P = symbols(\"v^a_x v^a_y p_a P\")\n",
    "q_a = Matrix([v_a_x, v_a_y, p_a])\n",
    "print(\"Действие оператора Omega_y_a^(-1) на вектор [w_a_1, w_a_2, w_a_3] имеет вид: \")\n",
    "display(simplify(Omega_y_a_inv * w_a))\n",
    "print(\"На верхней границе мы не знаем значение инварианта w_a_3,\"\n",
    "      \"т.к. он выходит за границу области.\")\n",
    "print(\"Но мы можем найти связь между w_a_2 и w_a_3, задав физическое условие\"\n",
    "     \" p_a^(n+1) == P.\")\n",
    "print(\"Оно имеет вид w_2 ==\")\n",
    "sol_a = solve((Omega_y_a_inv * w_a)[2] - P, w_a_2)\n",
    "display(sol_a[0])\n",
    "print(\"Тогда итоговые формулы на верхней границе примут вид:\")\n",
    "ac = simplify((Omega_y_a_inv * w_a).subs(w_a_2, sol_a[0]))\n",
    "display(ac)\n",
    "\n",
    "# Пусть в упругой среде на левой границе задано Sxx = -P и Sxy = 0, тогда\n",
    "w_e_1, w_e_2, w_e_3, w_e_4, w_e_5 = symbols(\"omega^e_1 omega^e_2 omega^e_3 omega^e_4 omega^e_5\")\n",
    "w_e = Matrix([w_e_1, w_e_2, w_e_3, w_e_4, w_e_5])\n",
    "vx_e, vy_e, sxx_e, syy_e, sxy_e = symbols(\"v^e_x v^e_y s^e_xx s^e_yy s^e_xy\")\n",
    "q_e = Matrix([vx_e, vy_e, sxx_e, syy_e, sxy_e])\n",
    "print(\"\\nДействие оператора Omega_x_e^(-1) на вектор [w_e_1, w_e_2, w_e_3, w_e_4, w_e_5] имеет вид: \")\n",
    "display(Omega_y_e_inv * w_e)\n",
    "print(\"На нижней границе мы не знаем значение инвариантов w_e_3 и w_e_5, \"\n",
    "      \"т.к. они выходят за границу области.\")\n",
    "print(\"Но мы можем найти связь между (w_e_3, w_e_2) и (w_e_5, w_e_4) , задав физические условия \"\n",
    "     \"Syy_e^(n+1) == -P и Sxy_e^(n+1) == 0.\")\n",
    "sol_e = solve([(Omega_y_e_inv * w_e)[3] + P, (Omega_y_e_inv * w_e)[4]], [w_e_5, w_e_3])\n",
    "display(sol_e)\n",
    "print(\"Тогда итоговые формулы на нижней границе примут вид:\")\n",
    "el = simplify(together((Omega_y_e_inv * w_e).subs(sol_e)))\n",
    "display(el)\n",
    "\n",
    "print(\"\\nТаким образом, осталось лишь найти конкретное значение P из условия Vy_e^(n+1) == Vy_a^(n+1)\")\n",
    "p_search = solve(el[1] - ac[1], P)\n",
    "display(p_search[0])\n",
    "print(\"Итоговые корректировочные формулы на контакте имеют вид:\")\n",
    "print(\"для акустической среды:\")\n",
    "display(simplify(ac.subs(P, p_search[0])))\n",
    "print(\"для упругой среды:\")\n",
    "display(simplify(el.subs(P, p_search[0])))"
   ]
  },
  {
   "cell_type": "code",
   "execution_count": 8,
   "metadata": {},
   "outputs": [
    {
     "name": "stdout",
     "output_type": "stream",
     "text": [
      "Действие оператора Omega_y_a^(-1) на вектор [w_a_1, w_a_2, w_a_3] имеет вид: \n"
     ]
    },
    {
     "data": {
      "text/latex": [
       "$\\displaystyle \\left[\\begin{matrix}\\omega^{a}_{1}\\\\\\frac{- \\omega^{a}_{2} + \\omega^{a}_{3}}{c \\rho_{a}}\\\\\\omega^{a}_{2} + \\omega^{a}_{3}\\end{matrix}\\right]$"
      ],
      "text/plain": [
       "⎡     ω_1__a     ⎤\n",
       "⎢                ⎥\n",
       "⎢-ω_2__a + ω_3__a⎥\n",
       "⎢────────────────⎥\n",
       "⎢      c⋅ρₐ      ⎥\n",
       "⎢                ⎥\n",
       "⎣ω_2__a + ω_3__a ⎦"
      ]
     },
     "metadata": {},
     "output_type": "display_data"
    },
    {
     "name": "stdout",
     "output_type": "stream",
     "text": [
      "На верхней границе мы не знаем значение инварианта w_a_3,т.к. он выходит за границу области.\n",
      "Но мы можем найти связь между w_a_2 и w_a_3, задав физическое условие p_a^(n+1) == 0.\n",
      "Оно имеет вид w_a_3 ==\n"
     ]
    },
    {
     "data": {
      "image/png": "[encoded data removed]",
      "text/latex": [
       "$\\displaystyle - \\omega^{a}_{2}$"
      ],
      "text/plain": [
       "-ω_2__a"
      ]
     },
     "metadata": {},
     "output_type": "display_data"
    },
    {
     "name": "stdout",
     "output_type": "stream",
     "text": [
      "Тогда итоговые формулы на верхней границе примут вид:\n"
     ]
    },
    {
     "data": {
      "text/latex": [
       "$\\displaystyle \\left[\\begin{matrix}\\omega^{a}_{1}\\\\- \\frac{2 \\omega^{a}_{2}}{c \\rho_{a}}\\\\0\\end{matrix}\\right]$"
      ],
      "text/plain": [
       "⎡  ω_1__a  ⎤\n",
       "⎢          ⎥\n",
       "⎢-2⋅ω_2__a ⎥\n",
       "⎢──────────⎥\n",
       "⎢   c⋅ρₐ   ⎥\n",
       "⎢          ⎥\n",
       "⎣    0     ⎦"
      ]
     },
     "metadata": {},
     "output_type": "display_data"
    }
   ],
   "source": [
    "# Пусть в акустической среде на правой границе задано давление P, тогда\n",
    "w_a_1, w_a_2, w_a_3 = symbols(\"omega^a_1 omega^a_2 omega^a_3\")\n",
    "w_a = Matrix([w_a_1, w_a_2, w_a_3])\n",
    "v_a_x, v_a_y, p_a = symbols(\"v^a_x v^a_y p_a\")\n",
    "q_a = Matrix([v_a_x, v_a_y, p_a])\n",
    "print(\"Действие оператора Omega_y_a^(-1) на вектор [w_a_1, w_a_2, w_a_3] имеет вид: \")\n",
    "display(simplify(Omega_y_a_inv * w_a))\n",
    "print(\"На верхней границе мы не знаем значение инварианта w_a_3,\"\n",
    "      \"т.к. он выходит за границу области.\")\n",
    "print(\"Но мы можем найти связь между w_a_2 и w_a_3, задав физическое условие\"\n",
    "     \" p_a^(n+1) == 0.\")\n",
    "print(\"Оно имеет вид w_a_3 ==\")\n",
    "sol_a = solve((Omega_y_a_inv * w_a)[2], w_a_3)\n",
    "display(sol_a[0])\n",
    "print(\"Тогда итоговые формулы на верхней границе примут вид:\")\n",
    "display(simplify((Omega_y_a_inv * w_a).subs(w_a_3, sol_a[0])))"
   ]
  },
  {
   "cell_type": "code",
   "execution_count": 9,
   "metadata": {},
   "outputs": [],
   "source": [
    "# край\n",
    "def edge(w_a):\n",
    "    w_a_1, w_a_2, w_a_3 = w_a\n",
    "    vx = w_a_1\n",
    "    vy = - 2 * w_a_2 / (c * rho_a)\n",
    "    p = 0\n",
    "    return (vx, vy, p)\n",
    "\n",
    "# контакт\n",
    "def border(w_a, w_e, s):\n",
    "    w_a_1, w_a_2, w_a_3 = w_a\n",
    "    w_e_1, w_e_2, w_e_3, w_e_4, w_e_5 = w_e\n",
    "    \n",
    "    if s == 'a':\n",
    "        vx = w_a_1\n",
    "        vy = 2 * (w_a_3 + w_e_4) / (c * rho_a + np.sqrt(rho_e * (lam + 2 * mu)))\n",
    "        p = 2 * (-c * w_e_4 * rho_a + w_a_3 * np.sqrt(rho_e * (lam + 2 * mu))) / (c * rho_a + np.sqrt(rho_e * (lam + 2 * mu)))\n",
    "        return (vx, vy, p)\n",
    "\n",
    "    if s == 'e':\n",
    "        vx = 2 * w_e_2 / np.sqrt(mu * rho_e)\n",
    "        vy = 2 * np.sqrt(rho_e * (lam + 2 * mu)) * (w_a_3 + w_e_4) / (c * rho_a * sqrt(rho_e * (lam + 2 * mu)) + lam * rho_e + 2 * mu * rho_e)\n",
    "        sxx = (2 * lam * (c * w_e_4 * rho_a - w_a_3 * np.sqrt(rho_e * (lam + 2 * mu))) + w_e_1 * (lam + 2 * mu)\\\n",
    "               * (c * rho_a + np.sqrt(rho_e * (lam + 2 * mu))))/((lam + 2 * mu)*(c * rho_a + np.sqrt(rho_e * (lam + 2 * mu))))\n",
    "        syy = 2 * (c * w_e_4 * rho_a - w_a_3 * np.sqrt(rho_e * (lam + 2 * mu))) / (c * rho_a + np.sqrt(rho_e * (lam + 2 * mu)))\n",
    "        sxy = 0\n",
    "        return (vx, vy, sxx, syy, sxy)"
   ]
  },
  {
   "cell_type": "code",
   "execution_count": 52,
   "metadata": {},
   "outputs": [
    {
     "data": {
      "image/png": "[encoded data removed]",
      "text/plain": [
       "<Figure size 432x288 with 1 Axes>"
      ]
     },
     "metadata": {
      "needs_background": "light"
     },
     "output_type": "display_data"
    }
   ],
   "source": [
    "dt = 0.001\n",
    "data = pd.ExcelFile('f(t).xlsx').parse()\n",
    "\n",
    "fig, ax = plt.subplots(1, 1)\n",
    "ax.plot(data['t'][:580], data['f'][:580] * dt, '-')\n",
    "plt.show()\n",
    "\n",
    "def number(t):\n",
    "    if t > data['t'][580]:\n",
    "        return 'zero'\n",
    "    for i in range(580):\n",
    "        if t >= data['t'][i] and t <= data['t'][i + 1]:\n",
    "            return i\n",
    "\n",
    "def source(k):\n",
    "    t = k * dt\n",
    "    if t == 0:\n",
    "        return data['f'][0] * dt\n",
    "    if t > data['t'][580]:\n",
    "        return 0\n",
    "    else:\n",
    "        p = number(t)\n",
    "        if p == 'zero':\n",
    "            return 0\n",
    "        return data['f'][p] * dt"
   ]
  },
  {
   "cell_type": "markdown",
   "metadata": {},
   "source": [
    "## Расчёт"
   ]
  },
  {
   "cell_type": "code",
   "execution_count": 48,
   "metadata": {},
   "outputs": [
    {
     "name": "stdout",
     "output_type": "stream",
     "text": [
      "Скорость продольной волны 3000 м/с\n",
      "Скорость поперечной волны 1500 м/с\n",
      "0\n",
      "1\n",
      "2\n",
      "3\n",
      "4\n",
      "5\n",
      "6\n",
      "7\n",
      "8\n",
      "9\n",
      "10\n",
      "11\n",
      "12\n",
      "13\n",
      "14\n",
      "15\n",
      "16\n",
      "17\n",
      "18\n",
      "19\n",
      "20\n",
      "21\n",
      "22\n",
      "23\n",
      "24\n",
      "25\n",
      "26\n",
      "27\n",
      "28\n",
      "29\n",
      "30\n",
      "31\n",
      "32\n",
      "33\n",
      "34\n",
      "35\n",
      "36\n",
      "37\n",
      "38\n",
      "39\n",
      "40\n",
      "41\n",
      "42\n",
      "43\n",
      "44\n",
      "45\n",
      "46\n",
      "47\n",
      "48\n",
      "49\n",
      "50\n",
      "51\n",
      "52\n",
      "53\n",
      "54\n",
      "55\n",
      "56\n",
      "57\n",
      "58\n",
      "59\n",
      "60\n",
      "61\n",
      "62\n",
      "63\n",
      "64\n",
      "65\n",
      "66\n",
      "67\n",
      "68\n",
      "69\n",
      "70\n",
      "71\n",
      "72\n",
      "73\n",
      "74\n",
      "75\n",
      "76\n",
      "77\n",
      "78\n",
      "79\n",
      "80\n",
      "81\n",
      "82\n",
      "83\n",
      "84\n",
      "85\n",
      "86\n",
      "87\n",
      "88\n",
      "89\n",
      "90\n",
      "91\n",
      "92\n",
      "93\n",
      "94\n",
      "95\n",
      "96\n",
      "97\n",
      "98\n",
      "99\n",
      "100\n",
      "101\n",
      "102\n",
      "103\n",
      "104\n",
      "105\n",
      "106\n",
      "107\n",
      "108\n",
      "109\n",
      "110\n",
      "111\n",
      "112\n",
      "113\n",
      "114\n",
      "115\n",
      "116\n",
      "117\n",
      "118\n",
      "119\n",
      "120\n",
      "121\n",
      "122\n",
      "123\n",
      "124\n",
      "125\n",
      "126\n",
      "127\n",
      "128\n",
      "129\n",
      "130\n",
      "131\n",
      "132\n",
      "133\n",
      "134\n",
      "135\n",
      "136\n",
      "137\n",
      "138\n",
      "139\n",
      "140\n",
      "141\n",
      "142\n",
      "143\n",
      "144\n",
      "145\n",
      "146\n",
      "147\n",
      "148\n",
      "149\n",
      "150\n",
      "151\n",
      "152\n",
      "153\n",
      "154\n",
      "155\n",
      "156\n",
      "157\n",
      "158\n",
      "159\n",
      "160\n",
      "161\n",
      "162\n",
      "163\n",
      "164\n",
      "165\n",
      "166\n",
      "167\n",
      "168\n",
      "169\n",
      "170\n",
      "171\n",
      "172\n",
      "173\n",
      "174\n",
      "175\n",
      "176\n",
      "177\n",
      "178\n",
      "179\n",
      "180\n",
      "181\n",
      "182\n",
      "183\n",
      "184\n",
      "185\n",
      "186\n",
      "187\n",
      "188\n",
      "189\n",
      "190\n",
      "191\n",
      "192\n",
      "193\n",
      "194\n",
      "195\n",
      "196\n",
      "197\n",
      "198\n",
      "199\n",
      "200\n",
      "201\n",
      "202\n",
      "203\n",
      "204\n",
      "205\n",
      "206\n",
      "207\n",
      "208\n",
      "209\n",
      "210\n",
      "211\n",
      "212\n",
      "213\n",
      "214\n",
      "215\n",
      "216\n",
      "217\n",
      "218\n",
      "219\n",
      "220\n",
      "221\n",
      "222\n",
      "223\n",
      "224\n",
      "225\n",
      "226\n",
      "227\n",
      "228\n",
      "229\n",
      "230\n",
      "231\n",
      "232\n",
      "233\n",
      "234\n",
      "235\n",
      "236\n",
      "237\n",
      "238\n",
      "239\n",
      "240\n",
      "241\n",
      "242\n",
      "243\n",
      "244\n",
      "245\n",
      "246\n",
      "247\n",
      "248\n",
      "249\n",
      "250\n",
      "251\n",
      "252\n",
      "253\n",
      "254\n",
      "255\n",
      "256\n",
      "257\n",
      "258\n",
      "259\n",
      "260\n",
      "261\n",
      "262\n",
      "263\n",
      "264\n",
      "265\n",
      "266\n",
      "267\n",
      "268\n",
      "269\n",
      "270\n",
      "271\n",
      "272\n",
      "273\n",
      "274\n",
      "275\n",
      "276\n",
      "277\n",
      "278\n",
      "279\n",
      "280\n",
      "281\n",
      "282\n",
      "283\n",
      "284\n",
      "285\n",
      "286\n",
      "287\n",
      "288\n",
      "289\n",
      "290\n",
      "291\n",
      "292\n",
      "293\n",
      "294\n",
      "295\n",
      "296\n",
      "297\n",
      "298\n",
      "299\n",
      "300\n",
      "301\n",
      "302\n",
      "303\n",
      "304\n",
      "305\n",
      "306\n",
      "307\n",
      "308\n",
      "309\n",
      "310\n",
      "311\n",
      "312\n",
      "313\n",
      "314\n",
      "315\n",
      "316\n",
      "317\n",
      "318\n",
      "319\n",
      "320\n",
      "321\n",
      "322\n",
      "323\n",
      "324\n",
      "325\n",
      "326\n",
      "327\n",
      "328\n",
      "329\n",
      "330\n",
      "331\n",
      "332\n",
      "333\n",
      "334\n",
      "335\n",
      "336\n",
      "337\n",
      "338\n",
      "339\n",
      "340\n",
      "341\n",
      "342\n",
      "343\n",
      "344\n",
      "345\n",
      "346\n",
      "347\n",
      "348\n",
      "349\n",
      "T/dt = 350.0 \n",
      "time = 868.9 c\n"
     ]
    },
    {
     "data": {
      "image/png": "[encoded data removed]",
      "text/plain": [
       "<Figure size 432x288 with 2 Axes>"
      ]
     },
     "metadata": {
      "needs_background": "light"
     },
     "output_type": "display_data"
    },
    {
     "data": {
      "image/png": "[encoded data removed]",
      "text/plain": [
       "<Figure size 432x288 with 2 Axes>"
      ]
     },
     "metadata": {
      "needs_background": "light"
     },
     "output_type": "display_data"
    }
   ],
   "source": [
    "rho_a = 1000 # плотность в кг/м^3\n",
    "c = 1500 # скорость волны в м/с\n",
    "rho_e = 2500 # плотность в кг/м^3\n",
    "Cp = 3000\n",
    "Cs = 1500\n",
    "mu = Cs ** 2 * rho_e\n",
    "lam = Cp ** 2 * rho_e - 2 * mu\n",
    "print(\"Скорость продольной волны\", round(Cp, 2), \"м/с\")\n",
    "print(\"Скорость поперечной волны\", round(Cs, 2), \"м/с\")\n",
    "T = 350 * dt\n",
    "nx, ny_a, ny_e = int(200), int(100 / 4), int(100 * 3 / 4)\n",
    "hx, hy_a, hy_e = 5, 5, 5 # шаг по координате, h\n",
    "f = 1.0 # Частота\n",
    "z = 4 / 5 * ny_a\n",
    "x0, y0 = nx / 2, z # точка нахождения источника\n",
    "# В каждом узле мы храним значение давления и скорости среды для акустики\n",
    "data_current_a = np.zeros((ny_a, nx), dtype = [('vx', np.float64), ('vy', np.float64), ('p', np.float64)])\n",
    "data_next_a = np.zeros((ny_a, nx), dtype = [('vx', np.float64), ('vy', np.float64), ('p', np.float64)])\n",
    "# В каждом узле мы храним значения для упругости\n",
    "data_current_e = np.zeros((ny_e, nx), dtype = [('vx', np.float64),\n",
    "                                               ('vy', np.float64),\n",
    "                                               ('sxx', np.float64),\n",
    "                                               ('syy', np.float64),\n",
    "                                               ('sxy', np.float64)])\n",
    "data_next_e = np.zeros((ny_e, nx), dtype = [('vx', np.float64),\n",
    "                                            ('vy', np.float64),\n",
    "                                            ('sxx', np.float64),\n",
    "                                            ('syy', np.float64),\n",
    "                                            ('sxy', np.float64)])\n",
    "'''\n",
    "# Начальные значения\n",
    "for j in range(int(1.0 / 3.0 * ny_a), int(2.0 / 3.0 * ny_a)):\n",
    "    for i in range(int(1.0 / 3.0 * nx), int(2.0 / 3.0 * nx)):\n",
    "        x = - 1.0 + i * hx\n",
    "        y = - 1.0 + j * hy_a\n",
    "        if (x ** 2 + y ** 2 < 0.1):\n",
    "            data_current_a[j, i]['p'] = 1.0\n",
    "\n",
    "for j in range(int(1.0 / 3.0 * nx), int(2.0 / 3.0 * nx)):\n",
    "    for i in range(int(1.0 / 3.0 * ny_e), int(2.0 / 3.0 * ny_e)):\n",
    "        x = -1.0 + i * h\n",
    "        y = -1.0 + j * h\n",
    "        if (x ** 2 + y ** 2 < 0.1):\n",
    "            data_current_e[j, i]['sxx'] = 1.0\n",
    "            data_current_e[j, i]['sxy'] = 1.0\n",
    "\n",
    "for j in range(int(1.0 / 3.0 * nx), int(2.0 / 3.0 * nx)):\n",
    "    for i in range(int(1.0 / 3.0 * ny_e), int(2.0 / 3.0 * ny_e)):\n",
    "        # В виде продольной волны (P)\n",
    "        data_current_e[j, i]['vx']  = data_current_e[j, i]['sxx'] / np.sqrt(rho_e * (lam + 2.0 * mu))\n",
    "        # В виде поперечной волны (S)\n",
    "        data_current_e[j, i]['vy']  = data_current_e[j, i]['sxy'] / np.sqrt(rho_e * mu)\n",
    "'''\n",
    "startTime = time.time()\n",
    "    \n",
    "fig, ax = plt.subplots()\n",
    "ax.set_title('sxy в начальный момент времени')\n",
    "_ = ax.set_xlabel('x')\n",
    "_ = ax.set_ylabel('y')\n",
    "img = ax.imshow(data_current_e['sxy'], vmin = 0, vmax = 1.0, origin = 'lower')\n",
    "_ = fig.colorbar(img)\n",
    "            \n",
    "fig, ax = plt.subplots()\n",
    "ax.set_title('p в начальный момент времени')\n",
    "_ = ax.set_xlabel('x')\n",
    "_ = ax.set_ylabel('y')\n",
    "img = ax.imshow(data_current_a['p'], vmin = 0, vmax = 1.0, origin = 'lower')\n",
    "_ = fig.colorbar(img)\n",
    "\n",
    "# Расчёт\n",
    "for k in range(int(T / dt)):\n",
    "    print(k)\n",
    "    for j in range(1, ny_a - 1):\n",
    "        for i in range(1, nx - 1):\n",
    "            w1, w2, w3 = Ac_Omega_x(data_current_a[j, i])\n",
    "            w1p, w2p, w3p = Ac_Omega_x(data_current_a[j, i - 1])\n",
    "            w1n, w2n, w3n = Ac_Omega_x(data_current_a[j, i + 1])\n",
    "            # Решаем уравнения переноса на инварианты\n",
    "            w1_a_new = w1\n",
    "            w2_a_new = w2 + c * dt / hx * (w2n - w2)\n",
    "            w3_a_new = w3 - c * dt / hx * (w3 - w3p)\n",
    "            data_next_a[j, i]['vx'], data_next_a[j, i]['vy'], data_next_a[j, i]['p'] = Ac_Omega_x_inv([w1_a_new, w2_a_new, w3_a_new])\n",
    "    \n",
    "    for j in range(ny_e - 1):\n",
    "        for i in range(1, nx - 1):\n",
    "            w1, w2, w3, w4, w5 = El_Omega_x(data_current_e[j, i])\n",
    "            w1p, w2p, w3p, w4p, w5p = El_Omega_x(data_current_e[j, i - 1])\n",
    "            w1n, w2n, w3n, w4n, w5n = El_Omega_x(data_current_e[j, i + 1])\n",
    "            # Решаем уравнения переноса на инварианты\n",
    "            w1_e_new = w1\n",
    "            w2_e_new = w2 + Cs * dt / hx * (w2n - w2)\n",
    "            w3_e_new = w3 - Cs * dt / hx * (w3 - w3p)\n",
    "            w4_e_new = w4 + Cp * dt / hx * (w4n - w4)\n",
    "            w5_e_new = w5 - Cp * dt / hx * (w5 - w5p)\n",
    "            data_next_e[j, i]['vx'], data_next_e[j, i]['vy'], data_next_e[j, i]['sxx'], data_next_e[j, i]['syy'], data_next_e[j, i]['sxy'] =\\\n",
    "            El_Omega_x_inv([w1_e_new, w2_e_new, w3_e_new, w4_e_new, w5_e_new])\n",
    "\n",
    "    for i in range(1, nx - 1):\n",
    "        for j in range(1, ny_a - 1):\n",
    "            w1, w2, w3 = Ac_Omega_y(data_next_a[j, i])\n",
    "            w1p, w2p, w3p = Ac_Omega_y(data_next_a[j - 1, i])\n",
    "            w1n, w2n, w3n = Ac_Omega_y(data_next_a[j + 1, i])\n",
    "            # Решаем уравнения переноса на инварианты\n",
    "            w1_a_new = w1\n",
    "            w2_a_new = w2 + c * dt / hy_a * (w2n - w2)\n",
    "            w3_a_new = w3 - c * dt / hy_a * (w3 - w3p)\n",
    "            data_current_a[j, i]['vx'], data_current_a[j, i]['vy'], data_current_a[j, i]['p'] = Ac_Omega_y_inv([w1_a_new, w2_a_new, w3_a_new])\n",
    "    \n",
    "        for j in range(1, ny_e - 1):\n",
    "            w1, w2, w3, w4, w5 = El_Omega_y(data_next_e[j, i])\n",
    "            w1p, w2p, w3p, w4p, w5p = El_Omega_y(data_next_e[j - 1, i])\n",
    "            w1n, w2n, w3n, w4n, w5n = El_Omega_y(data_next_e[j + 1, i])\n",
    "            # Решаем уравнения переноса на инварианты\n",
    "            w1_e_new = w1\n",
    "            w2_e_new = w2 + Cs * dt / hy_e * (w2n - w2)\n",
    "            w3_e_new = w3 - Cs * dt / hy_e * (w3 - w3p)\n",
    "            w4_e_new = w4 + Cp * dt / hy_e * (w4n - w4)\n",
    "            w5_e_new = w5 - Cp * dt / hy_e * (w5 - w5p)\n",
    "            data_current_e[j, i]['vx'], data_current_e[j, i]['vy'], data_current_e[j, i]['sxx'], data_current_e[j, i]['syy'], data_current_e[j, i]['sxy'] =\\\n",
    "            El_Omega_y_inv([w1_e_new, w2_e_new, w3_e_new, w4_e_new, w5_e_new])\n",
    "            \n",
    "    for i in range(1, nx - 1):\n",
    "        for j in range(1, ny_a - 1):\n",
    "            if abs(i - x0) < 1 and abs(j - y0) < 1:\n",
    "                data_current_a[j, i]['p'] += source(k)\n",
    "    \n",
    "    # Решаем контактную задачу на границе\n",
    "    for i in range(1, nx - 1):\n",
    "        w1, w2, w3 = Ac_Omega_y(data_current_a[ny_a - 1, i])\n",
    "        w1p, w2p, w3p = Ac_Omega_y(data_current_a[ny_a - 2, i])\n",
    "        # Решаем уравнения переноса на инварианты\n",
    "        w1_a_new = w1\n",
    "        w3_a_new = w3 - c * dt / hx * (w3 - w3p)\n",
    "        \n",
    "        w1, w2, w3, w4, w5 = El_Omega_y(data_current_e[0, i])\n",
    "        w1n, w2n, w3n, w4n, w5n = El_Omega_y(data_current_e[1, i])\n",
    "        # Решаем уравнения переноса на инварианты\n",
    "        w1_e_new = w1\n",
    "        w2_e_new = w2 + Cs * dt / hx * (w2n - w2)\n",
    "        w4_e_new = w4 + Cp * dt / hx * (w4n - w4)\n",
    "        \n",
    "        w_a = [w1_a_new, _, w3_a_new]\n",
    "        w_e = [w1_e_new, w2_e_new, _, w4_e_new, _]\n",
    "        data_current_a[ny_a - 1, i]['vx'], data_current_a[ny_a - 1, i]['vy'], data_current_a[ny_a - 1, i]['p'] = border(w_a, w_e, 'a')\n",
    "        data_current_e[0, i]['vx'], data_current_e[0, i]['vy'], data_current_e[0, i]['sxx'],\\\n",
    "        data_current_e[0, i]['syy'], data_current_e[0, i]['sxy'] = border(w_a, w_e, 'e')\n",
    "    \n",
    "    # верхняя граница акустики\n",
    "    for i in range(1, nx - 1):\n",
    "        w1, w2, w3 = Ac_Omega_y(data_current_a[0, i])\n",
    "        w1n, w2n, w3n = Ac_Omega_y(data_current_a[1, i])\n",
    "        # Решаем уравнения переноса на инварианты\n",
    "        w1_a_new = w1\n",
    "        w2_a_new = w2 + c * dt / hx * (w2n - w2)\n",
    "        w_a = [w1_a_new, w2_a_new, _]\n",
    "        data_current_a[0, i]['vx'], data_current_a[0, i]['vy'], data_current_a[0, i]['p'] = edge(w_a)\n",
    "\n",
    "endTime = time.time()\n",
    "print('T/dt =', round(T / dt, 1), '\\ntime =', round(endTime - startTime, 1), 'c')"
   ]
  },
  {
   "cell_type": "code",
   "execution_count": 53,
   "metadata": {},
   "outputs": [
    {
     "data": {
      "image/png": "[encoded data removed]",
      "text/plain": [
       "<Figure size 432x288 with 2 Axes>"
      ]
     },
     "metadata": {
      "needs_background": "light"
     },
     "output_type": "display_data"
    },
    {
     "data": {
      "image/png": "[encoded data removed]",
      "text/plain": [
       "<Figure size 432x288 with 2 Axes>"
      ]
     },
     "metadata": {
      "needs_background": "light"
     },
     "output_type": "display_data"
    },
    {
     "data": {
      "image/png": "[encoded data removed]",
      "text/plain": [
       "<Figure size 432x288 with 2 Axes>"
      ]
     },
     "metadata": {
      "needs_background": "light"
     },
     "output_type": "display_data"
    }
   ],
   "source": [
    "fig, ax = plt.subplots()\n",
    "ax.set_title('p,  акустика')\n",
    "_ = ax.set_xlabel('x')\n",
    "_ = ax.set_ylabel('y')\n",
    "ax.set_ylim(ny_a, 0)\n",
    "img = ax.imshow(data_current_a['p'], vmin = 0, vmax = data_current_a['p'].max(), origin = 'lower')\n",
    "_ = fig.colorbar(img)\n",
    "\n",
    "fig, ax = plt.subplots()\n",
    "ax.set_title('|v|, акустика')\n",
    "_ = ax.set_xlabel('x')\n",
    "_ = ax.set_ylabel('y')\n",
    "ax.set_ylim(ny_a, 0)\n",
    "v = np.sqrt(data_current_a['vx'] ** 2 + data_current_a['vy'] ** 2)\n",
    "img = ax.imshow(v, vmin = 0, vmax = v.max(), origin = 'lower')\n",
    "_ = fig.colorbar(img)\n",
    "\n",
    "fig, ax = plt.subplots()\n",
    "ax.set_title('|v|, упругость')\n",
    "_ = ax.set_xlabel('x')\n",
    "_ = ax.set_ylabel('y')\n",
    "ax.set_ylim(ny_e, 0)\n",
    "v = np.sqrt(data_current_e['vx'] ** 2 + data_current_e['vy'] ** 2)\n",
    "img = ax.imshow(v, vmin = 0, vmax = v.max(), origin = 'lower')\n",
    "_ = fig.colorbar(img)"
   ]
  },
  {
   "cell_type": "code",
   "execution_count": null,
   "metadata": {},
   "outputs": [],
   "source": []
  }
 ],
 "metadata": {
  "kernelspec": {
   "display_name": "Python 3",
   "language": "python",
   "name": "python3"
  },
  "language_info": {
   "codemirror_mode": {
    "name": "ipython",
    "version": 3
   },
   "file_extension": ".py",
   "mimetype": "text/x-python",
   "name": "python",
   "nbconvert_exporter": "python",
   "pygments_lexer": "ipython3",
   "version": "3.8.3"
  }
 },
 "nbformat": 4,
 "nbformat_minor": 4
}

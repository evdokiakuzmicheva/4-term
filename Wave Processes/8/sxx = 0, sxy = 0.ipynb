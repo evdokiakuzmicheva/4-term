{
 "cells": [
  {
   "cell_type": "markdown",
   "metadata": {},
   "source": [
    "# Одномерная упругая система"
   ]
  },
  {
   "cell_type": "code",
   "execution_count": 58,
   "metadata": {},
   "outputs": [
    {
     "name": "stdout",
     "output_type": "stream",
     "text": [
      "Let's deal with 1D problem.\n",
      "The matrix A = \n"
     ]
    },
    {
     "data": {
      "text/latex": [
       "$\\displaystyle \\left[\\begin{matrix}0 & 0 & - \\frac{1}{\\rho} & 0\\\\0 & 0 & 0 & - \\frac{1}{\\rho}\\\\- \\lambda - 2 \\mu & 0 & 0 & 0\\\\0 & - \\mu & 0 & 0\\end{matrix}\\right]$"
      ],
      "text/plain": [
       "⎡              -1      ⎤\n",
       "⎢   0      0   ───   0 ⎥\n",
       "⎢               ρ      ⎥\n",
       "⎢                      ⎥\n",
       "⎢                   -1 ⎥\n",
       "⎢   0      0    0   ───⎥\n",
       "⎢                    ρ ⎥\n",
       "⎢                      ⎥\n",
       "⎢-λ - 2⋅μ  0    0    0 ⎥\n",
       "⎢                      ⎥\n",
       "⎣   0      -μ   0    0 ⎦"
      ]
     },
     "metadata": {},
     "output_type": "display_data"
    },
    {
     "name": "stdout",
     "output_type": "stream",
     "text": [
      "It has four eigenvalues: \n"
     ]
    },
    {
     "data": {
      "image/png": "[encoded data removed]",
      "text/latex": [
       "$\\displaystyle \\left\\{ - \\sqrt{\\frac{\\mu}{\\rho}} : 1, \\  \\sqrt{\\frac{\\mu}{\\rho}} : 1, \\  - \\sqrt{\\frac{\\lambda}{\\rho} + \\frac{2 \\mu}{\\rho}} : 1, \\  \\sqrt{\\frac{\\lambda}{\\rho} + \\frac{2 \\mu}{\\rho}} : 1\\right\\}$"
      ],
      "text/plain": [
       "⎧     ___         ___          _________         _________   ⎫\n",
       "⎪    ╱ μ         ╱ μ          ╱ λ   2⋅μ         ╱ λ   2⋅μ    ⎪\n",
       "⎨-  ╱  ─ : 1,   ╱  ─ : 1, -  ╱  ─ + ─── : 1,   ╱  ─ + ─── : 1⎬\n",
       "⎪ ╲╱   ρ      ╲╱   ρ       ╲╱   ρ    ρ       ╲╱   ρ    ρ     ⎪\n",
       "⎩                                                            ⎭"
      ]
     },
     "metadata": {},
     "output_type": "display_data"
    },
    {
     "name": "stdout",
     "output_type": "stream",
     "text": [
      "It has four eigenvectors: \n"
     ]
    },
    {
     "data": {
      "text/latex": [
       "$\\displaystyle \\left[ \\left( - \\sqrt{\\frac{\\mu}{\\rho}}, \\  1, \\  \\left[ \\left[\\begin{matrix}0\\\\\\frac{1}{\\rho \\sqrt{\\frac{\\mu}{\\rho}}}\\\\0\\\\1\\end{matrix}\\right]\\right]\\right), \\  \\left( \\sqrt{\\frac{\\mu}{\\rho}}, \\  1, \\  \\left[ \\left[\\begin{matrix}0\\\\- \\frac{1}{\\rho \\sqrt{\\frac{\\mu}{\\rho}}}\\\\0\\\\1\\end{matrix}\\right]\\right]\\right), \\  \\left( - \\sqrt{\\frac{\\lambda}{\\rho} + \\frac{2 \\mu}{\\rho}}, \\  1, \\  \\left[ \\left[\\begin{matrix}\\frac{1}{\\rho \\sqrt{\\frac{\\lambda}{\\rho} + \\frac{2 \\mu}{\\rho}}}\\\\0\\\\1\\\\0\\end{matrix}\\right]\\right]\\right), \\  \\left( \\sqrt{\\frac{\\lambda}{\\rho} + \\frac{2 \\mu}{\\rho}}, \\  1, \\  \\left[ \\left[\\begin{matrix}- \\frac{1}{\\rho \\sqrt{\\frac{\\lambda}{\\rho} + \\frac{2 \\mu}{\\rho}}}\\\\0\\\\1\\\\0\\end{matrix}\\right]\\right]\\right)\\right]$"
      ],
      "text/plain": [
       "⎡⎛             ⎡⎡    0    ⎤⎤⎞  ⎛            ⎡⎡    0    ⎤⎤⎞  ⎛                 \n",
       "⎢⎜             ⎢⎢         ⎥⎥⎟  ⎜            ⎢⎢         ⎥⎥⎟  ⎜                 \n",
       "⎢⎜             ⎢⎢    1    ⎥⎥⎟  ⎜            ⎢⎢   -1    ⎥⎥⎟  ⎜                 \n",
       "⎢⎜             ⎢⎢─────────⎥⎥⎟  ⎜            ⎢⎢─────────⎥⎥⎟  ⎜                 \n",
       "⎢⎜     ___     ⎢⎢      ___⎥⎥⎟  ⎜    ___     ⎢⎢      ___⎥⎥⎟  ⎜     _________   \n",
       "⎢⎜    ╱ μ      ⎢⎢     ╱ μ ⎥⎥⎟  ⎜   ╱ μ      ⎢⎢     ╱ μ ⎥⎥⎟  ⎜    ╱ λ   2⋅μ    \n",
       "⎢⎜-  ╱  ─ , 1, ⎢⎢ρ⋅  ╱  ─ ⎥⎥⎟, ⎜  ╱  ─ , 1, ⎢⎢ρ⋅  ╱  ─ ⎥⎥⎟, ⎜-  ╱  ─ + ─── , 1\n",
       "⎢⎜ ╲╱   ρ      ⎢⎢  ╲╱   ρ ⎥⎥⎟  ⎜╲╱   ρ      ⎢⎢  ╲╱   ρ ⎥⎥⎟  ⎜ ╲╱   ρ    ρ     \n",
       "⎢⎜             ⎢⎢         ⎥⎥⎟  ⎜            ⎢⎢         ⎥⎥⎟  ⎜                 \n",
       "⎢⎜             ⎢⎢    0    ⎥⎥⎟  ⎜            ⎢⎢    0    ⎥⎥⎟  ⎜                 \n",
       "⎢⎜             ⎢⎢         ⎥⎥⎟  ⎜            ⎢⎢         ⎥⎥⎟  ⎜                 \n",
       "⎣⎝             ⎣⎣    1    ⎦⎦⎠  ⎝            ⎣⎣    1    ⎦⎦⎠  ⎝                 \n",
       "\n",
       "  ⎡⎡       1       ⎤⎤⎞  ⎛                  ⎡⎡      -1       ⎤⎤⎞⎤\n",
       "  ⎢⎢───────────────⎥⎥⎟  ⎜                  ⎢⎢───────────────⎥⎥⎟⎥\n",
       "  ⎢⎢      _________⎥⎥⎟  ⎜                  ⎢⎢      _________⎥⎥⎟⎥\n",
       "  ⎢⎢     ╱ λ   2⋅μ ⎥⎥⎟  ⎜                  ⎢⎢     ╱ λ   2⋅μ ⎥⎥⎟⎥\n",
       "  ⎢⎢ρ⋅  ╱  ─ + ─── ⎥⎥⎟  ⎜    _________     ⎢⎢ρ⋅  ╱  ─ + ─── ⎥⎥⎟⎥\n",
       "  ⎢⎢  ╲╱   ρ    ρ  ⎥⎥⎟  ⎜   ╱ λ   2⋅μ      ⎢⎢  ╲╱   ρ    ρ  ⎥⎥⎟⎥\n",
       ", ⎢⎢               ⎥⎥⎟, ⎜  ╱  ─ + ─── , 1, ⎢⎢               ⎥⎥⎟⎥\n",
       "  ⎢⎢       0       ⎥⎥⎟  ⎜╲╱   ρ    ρ       ⎢⎢       0       ⎥⎥⎟⎥\n",
       "  ⎢⎢               ⎥⎥⎟  ⎜                  ⎢⎢               ⎥⎥⎟⎥\n",
       "  ⎢⎢       1       ⎥⎥⎟  ⎜                  ⎢⎢       1       ⎥⎥⎟⎥\n",
       "  ⎢⎢               ⎥⎥⎟  ⎜                  ⎢⎢               ⎥⎥⎟⎥\n",
       "  ⎣⎣       0       ⎦⎦⎠  ⎝                  ⎣⎣       0       ⎦⎦⎠⎦"
      ]
     },
     "metadata": {},
     "output_type": "display_data"
    },
    {
     "name": "stdout",
     "output_type": "stream",
     "text": [
      "Matrix of eigenvalues Lambda: \n"
     ]
    },
    {
     "data": {
      "text/latex": [
       "$\\displaystyle \\left[\\begin{matrix}- \\sqrt{\\frac{\\mu}{\\rho}} & 0 & 0 & 0\\\\0 & \\sqrt{\\frac{\\mu}{\\rho}} & 0 & 0\\\\0 & 0 & - \\sqrt{\\frac{\\lambda + 2 \\mu}{\\rho}} & 0\\\\0 & 0 & 0 & \\sqrt{\\frac{\\lambda + 2 \\mu}{\\rho}}\\end{matrix}\\right]$"
      ],
      "text/plain": [
       "⎡     ___                                        ⎤\n",
       "⎢    ╱ μ                                         ⎥\n",
       "⎢-  ╱  ─      0           0               0      ⎥\n",
       "⎢ ╲╱   ρ                                         ⎥\n",
       "⎢                                                ⎥\n",
       "⎢              ___                               ⎥\n",
       "⎢             ╱ μ                                ⎥\n",
       "⎢   0        ╱  ─         0               0      ⎥\n",
       "⎢          ╲╱   ρ                                ⎥\n",
       "⎢                                                ⎥\n",
       "⎢                        _________               ⎥\n",
       "⎢                       ╱ λ + 2⋅μ                ⎥\n",
       "⎢   0         0     -  ╱  ───────         0      ⎥\n",
       "⎢                    ╲╱      ρ                   ⎥\n",
       "⎢                                                ⎥\n",
       "⎢                                       _________⎥\n",
       "⎢                                      ╱ λ + 2⋅μ ⎥\n",
       "⎢   0         0           0           ╱  ─────── ⎥\n",
       "⎣                                   ╲╱      ρ    ⎦"
      ]
     },
     "metadata": {},
     "output_type": "display_data"
    },
    {
     "name": "stdout",
     "output_type": "stream",
     "text": [
      "Omega^(-1) matrix: \n"
     ]
    },
    {
     "data": {
      "text/latex": [
       "$\\displaystyle \\left[\\begin{matrix}0 & 0 & \\frac{1}{\\sqrt{\\rho \\left(\\lambda + 2 \\mu\\right)}} & - \\frac{1}{\\sqrt{\\rho \\left(\\lambda + 2 \\mu\\right)}}\\\\\\frac{1}{\\sqrt{\\mu \\rho}} & - \\frac{1}{\\sqrt{\\mu \\rho}} & 0 & 0\\\\0 & 0 & 1 & 1\\\\1 & 1 & 0 & 0\\end{matrix}\\right]$"
      ],
      "text/plain": [
       "⎡                         1               -1       ⎤\n",
       "⎢   0        0     ───────────────  ───────────────⎥\n",
       "⎢                    _____________    _____________⎥\n",
       "⎢                  ╲╱ ρ⋅(λ + 2⋅μ)   ╲╱ ρ⋅(λ + 2⋅μ) ⎥\n",
       "⎢                                                  ⎥\n",
       "⎢   1       -1                                     ⎥\n",
       "⎢───────  ───────         0                0       ⎥\n",
       "⎢  _____    _____                                  ⎥\n",
       "⎢╲╱ μ⋅ρ   ╲╱ μ⋅ρ                                   ⎥\n",
       "⎢                                                  ⎥\n",
       "⎢   0        0            1                1       ⎥\n",
       "⎢                                                  ⎥\n",
       "⎣   1        1            0                0       ⎦"
      ]
     },
     "metadata": {},
     "output_type": "display_data"
    },
    {
     "name": "stdout",
     "output_type": "stream",
     "text": [
      "Omega matrix: \n"
     ]
    },
    {
     "data": {
      "text/latex": [
       "$\\displaystyle \\left[\\begin{matrix}0 & \\frac{\\sqrt{\\mu \\rho}}{2} & 0 & \\frac{1}{2}\\\\0 & - \\frac{\\sqrt{\\mu \\rho}}{2} & 0 & \\frac{1}{2}\\\\\\frac{\\sqrt{\\lambda \\rho + 2 \\mu \\rho}}{2} & 0 & \\frac{1}{2} & 0\\\\- \\frac{\\sqrt{\\lambda \\rho + 2 \\mu \\rho}}{2} & 0 & \\frac{1}{2} & 0\\end{matrix}\\right]$"
      ],
      "text/plain": [
       "⎡                      _____           ⎤\n",
       "⎢                    ╲╱ μ⋅ρ            ⎥\n",
       "⎢        0           ───────    0   1/2⎥\n",
       "⎢                       2              ⎥\n",
       "⎢                                      ⎥\n",
       "⎢                      _____           ⎥\n",
       "⎢                   -╲╱ μ⋅ρ            ⎥\n",
       "⎢        0          ─────────   0   1/2⎥\n",
       "⎢                       2              ⎥\n",
       "⎢                                      ⎥\n",
       "⎢   _____________                      ⎥\n",
       "⎢ ╲╱ λ⋅ρ + 2⋅μ⋅ρ                       ⎥\n",
       "⎢ ───────────────       0      1/2   0 ⎥\n",
       "⎢        2                             ⎥\n",
       "⎢                                      ⎥\n",
       "⎢   _____________                      ⎥\n",
       "⎢-╲╱ λ⋅ρ + 2⋅μ⋅ρ                       ⎥\n",
       "⎢─────────────────      0      1/2   0 ⎥\n",
       "⎣        2                             ⎦"
      ]
     },
     "metadata": {},
     "output_type": "display_data"
    },
    {
     "name": "stdout",
     "output_type": "stream",
     "text": [
      "q:\n"
     ]
    },
    {
     "data": {
      "text/latex": [
       "$\\displaystyle \\left[\\begin{matrix}v_{x}\\\\v_{y}\\\\{sigma}_{xx}\\\\sigma_{xy}\\end{matrix}\\right]$"
      ],
      "text/plain": [
       "⎡     vₓ     ⎤\n",
       "⎢            ⎥\n",
       "⎢    v_y     ⎥\n",
       "⎢            ⎥\n",
       "⎢{sigma}_{xx}⎥\n",
       "⎢            ⎥\n",
       "⎣   σ_{xy}   ⎦"
      ]
     },
     "metadata": {},
     "output_type": "display_data"
    },
    {
     "name": "stdout",
     "output_type": "stream",
     "text": [
      "Omega * q:\n"
     ]
    },
    {
     "data": {
      "text/latex": [
       "$\\displaystyle \\left[\\begin{matrix}\\frac{sigma_{xy}}{2} + \\frac{v_{y} \\sqrt{\\mu \\rho}}{2}\\\\\\frac{sigma_{xy}}{2} - \\frac{v_{y} \\sqrt{\\mu \\rho}}{2}\\\\\\frac{v_{x} \\sqrt{\\rho \\left(\\lambda + 2 \\mu\\right)}}{2} + \\frac{{sigma}_{xx}}{2}\\\\- \\frac{v_{x} \\sqrt{\\rho \\left(\\lambda + 2 \\mu\\right)}}{2} + \\frac{{sigma}_{xx}}{2}\\end{matrix}\\right]$"
      ],
      "text/plain": [
       "⎡                      _____        ⎤\n",
       "⎢       σ_{xy}   v_y⋅╲╱ μ⋅ρ         ⎥\n",
       "⎢       ────── + ───────────        ⎥\n",
       "⎢         2           2             ⎥\n",
       "⎢                                   ⎥\n",
       "⎢                      _____        ⎥\n",
       "⎢       σ_{xy}   v_y⋅╲╱ μ⋅ρ         ⎥\n",
       "⎢       ────── - ───────────        ⎥\n",
       "⎢         2           2             ⎥\n",
       "⎢                                   ⎥\n",
       "⎢      _____________                ⎥\n",
       "⎢ vₓ⋅╲╱ ρ⋅(λ + 2⋅μ)    {sigma}_{xx} ⎥\n",
       "⎢ ────────────────── + ──────────── ⎥\n",
       "⎢         2                 2       ⎥\n",
       "⎢                                   ⎥\n",
       "⎢       _____________               ⎥\n",
       "⎢  vₓ⋅╲╱ ρ⋅(λ + 2⋅μ)    {sigma}_{xx}⎥\n",
       "⎢- ────────────────── + ────────────⎥\n",
       "⎣          2                 2      ⎦"
      ]
     },
     "metadata": {},
     "output_type": "display_data"
    }
   ],
   "source": [
    "# Проделаем аналитические выкладки, чтобы найти матрицу перехода в инварианты Римана\n",
    "\n",
    "# Импорт используемых модулей\n",
    "from sympy import Matrix, symbols, init_printing, diag, simplify\n",
    "from sympy import sqrt as sympy_sqrt\n",
    "init_printing()\n",
    "\n",
    "# Упругая модель 1D (все неизвестные зависят только от переменных x,t)\n",
    "# Убрали из рассмотрения Sigma_yy, т.к. она вычисляется однозначно по Sigma_xx\n",
    "# q = (Vx, Vy, Sxx, Sxy)\n",
    "rho, lam, mu = symbols(\"rho lambda mu\")\n",
    "print(\"Let's deal with 1D problem.\")\n",
    "A = Matrix([[0, 0, - 1 / rho, 0],\n",
    "            [0, 0, 0, - 1 / rho],\n",
    "            [-lam - 2 * mu, 0, 0, 0],\n",
    "            [0, -mu, 0, 0]]\n",
    "          ) # Создаём матрицу для 1D упругой задачи\n",
    "print(\"The matrix A = \")\n",
    "display(A)\n",
    "l = A.eigenvals() # Вычисляем её собственные значения\n",
    "print(\"It has four eigenvalues: \")\n",
    "display(l)\n",
    "e = A.eigenvects() # Вычисляем её собственные вектора\n",
    "print(\"It has four eigenvectors: \")\n",
    "display(e)\n",
    "# У нас справедливо тождество A = Omega^(-1) * Lambda * Omega\n",
    "Omega_inv = Matrix([[0, 0, 1 / sympy_sqrt(rho * (lam + 2 * mu)), -1 / sympy_sqrt(rho * (lam + 2 * mu))],\n",
    "                   [1 / sympy_sqrt(rho * mu), -1 / sympy_sqrt(rho * mu), 0, 0],\n",
    "                   [0, 0, 1, 1],\n",
    "                   [1, 1, 0, 0]\n",
    "                   ]\n",
    "                  ) # Заполняем матрицу Omega^(-1)\n",
    "Omega = Omega_inv.inv() # Вычисляем матрицу Omega\n",
    "Lambda = diag(-sympy_sqrt(mu / rho), sympy_sqrt(mu / rho), -sympy_sqrt((lam + 2 * mu) / rho), sympy_sqrt((lam + 2 * mu) / rho)) # Заполняем матрицу Lambda\n",
    "# Проверим разложение\n",
    "print(\"Matrix of eigenvalues Lambda: \")\n",
    "display(Lambda)\n",
    "print(\"Omega^(-1) matrix: \")\n",
    "display(Omega_inv)\n",
    "print(\"Omega matrix: \")\n",
    "display(Omega)\n",
    "'''\n",
    "print(\"Omega^(-1) * Lambda * Omega: \")\n",
    "display(simplify(Omega_inv * Lambda * Omega))\n",
    "print(\"Again, A: \")\n",
    "display(A)\n",
    "'''\n",
    "v_x, v_y, s_xx, s_xy = symbols('v_x v_y s_{xx} s_{xy}')\n",
    "q = Matrix([v_x, v_y, s_xx, s_xy])\n",
    "print('q:')\n",
    "display(q)\n",
    "print('Omega * q:')\n",
    "display(simplify(Omega * q))"
   ]
  },
  {
   "cell_type": "code",
   "execution_count": 55,
   "metadata": {},
   "outputs": [
    {
     "name": "stdout",
     "output_type": "stream",
     "text": [
      "Действие оператора Omega^(-1) на вектор [w_1, w_2, w_3, w_4] имеет вид: \n"
     ]
    },
    {
     "data": {
      "text/latex": [
       "$\\displaystyle \\left[\\begin{matrix}\\frac{w_{3}}{\\sqrt{\\rho \\left(\\lambda + 2 \\mu\\right)}} - \\frac{w_{4}}{\\sqrt{\\rho \\left(\\lambda + 2 \\mu\\right)}}\\\\\\frac{w_{1}}{\\sqrt{\\mu \\rho}} - \\frac{w_{2}}{\\sqrt{\\mu \\rho}}\\\\w_{3} + w_{4}\\\\w_{1} + w_{2}\\end{matrix}\\right]$"
      ],
      "text/plain": [
       "⎡       w₃                w₄      ⎤\n",
       "⎢─────────────── - ───────────────⎥\n",
       "⎢  _____________     _____________⎥\n",
       "⎢╲╱ ρ⋅(λ + 2⋅μ)    ╲╱ ρ⋅(λ + 2⋅μ) ⎥\n",
       "⎢                                 ⎥\n",
       "⎢           w₁        w₂          ⎥\n",
       "⎢        ─────── - ───────        ⎥\n",
       "⎢          _____     _____        ⎥\n",
       "⎢        ╲╱ μ⋅ρ    ╲╱ μ⋅ρ         ⎥\n",
       "⎢                                 ⎥\n",
       "⎢             w₃ + w₄             ⎥\n",
       "⎢                                 ⎥\n",
       "⎣             w₁ + w₂             ⎦"
      ]
     },
     "metadata": {},
     "output_type": "display_data"
    },
    {
     "name": "stdout",
     "output_type": "stream",
     "text": [
      "Зададим физическое условие (свободная граница):\n",
      "sxx^(n+1) == 0,\tsxy^(n+1) == 0\n",
      "\n",
      "Правая граница:\n",
      "Физическое условие запишется в виде:\n",
      "w_3 ==\n"
     ]
    },
    {
     "data": {
      "image/png": "[encoded data removed]",
      "text/latex": [
       "$\\displaystyle - w_{4}$"
      ],
      "text/plain": [
       "-w₄"
      ]
     },
     "metadata": {},
     "output_type": "display_data"
    },
    {
     "name": "stdout",
     "output_type": "stream",
     "text": [
      "w_1 ==\n"
     ]
    },
    {
     "data": {
      "image/png": "[encoded data removed]",
      "text/latex": [
       "$\\displaystyle - w_{2}$"
      ],
      "text/plain": [
       "-w₂"
      ]
     },
     "metadata": {},
     "output_type": "display_data"
    },
    {
     "name": "stdout",
     "output_type": "stream",
     "text": [
      "Тогда итоговые формулы на правой границе примут вид:\n"
     ]
    },
    {
     "data": {
      "text/latex": [
       "$\\displaystyle \\left[\\begin{matrix}- \\frac{2 w_{4}}{\\sqrt{\\rho \\left(\\lambda + 2 \\mu\\right)}}\\\\- \\frac{2 w_{2}}{\\sqrt{\\mu \\rho}}\\\\0\\\\0\\end{matrix}\\right]$"
      ],
      "text/plain": [
       "⎡     -2⋅w₄     ⎤\n",
       "⎢───────────────⎥\n",
       "⎢  _____________⎥\n",
       "⎢╲╱ ρ⋅(λ + 2⋅μ) ⎥\n",
       "⎢               ⎥\n",
       "⎢     -2⋅w₂     ⎥\n",
       "⎢    ───────    ⎥\n",
       "⎢      _____    ⎥\n",
       "⎢    ╲╱ μ⋅ρ     ⎥\n",
       "⎢               ⎥\n",
       "⎢       0       ⎥\n",
       "⎢               ⎥\n",
       "⎣       0       ⎦"
      ]
     },
     "metadata": {},
     "output_type": "display_data"
    },
    {
     "name": "stdout",
     "output_type": "stream",
     "text": [
      "\n",
      "Левая граница:\n",
      "Физическое условие запишется в виде:\n",
      "w_4 ==\n"
     ]
    },
    {
     "data": {
      "image/png": "[encoded data removed]",
      "text/latex": [
       "$\\displaystyle - w_{3}$"
      ],
      "text/plain": [
       "-w₃"
      ]
     },
     "metadata": {},
     "output_type": "display_data"
    },
    {
     "name": "stdout",
     "output_type": "stream",
     "text": [
      "w_2 ==\n"
     ]
    },
    {
     "data": {
      "image/png": "[encoded data removed]",
      "text/latex": [
       "$\\displaystyle - w_{1}$"
      ],
      "text/plain": [
       "-w₁"
      ]
     },
     "metadata": {},
     "output_type": "display_data"
    },
    {
     "name": "stdout",
     "output_type": "stream",
     "text": [
      "Тогда итоговые формулы на левой границе примут вид:\n"
     ]
    },
    {
     "data": {
      "text/latex": [
       "$\\displaystyle \\left[\\begin{matrix}\\frac{2 w_{3}}{\\sqrt{\\rho \\left(\\lambda + 2 \\mu\\right)}}\\\\\\frac{2 w_{1}}{\\sqrt{\\mu \\rho}}\\\\0\\\\0\\end{matrix}\\right]$"
      ],
      "text/plain": [
       "⎡      2⋅w₃     ⎤\n",
       "⎢───────────────⎥\n",
       "⎢  _____________⎥\n",
       "⎢╲╱ ρ⋅(λ + 2⋅μ) ⎥\n",
       "⎢               ⎥\n",
       "⎢      2⋅w₁     ⎥\n",
       "⎢    ───────    ⎥\n",
       "⎢      _____    ⎥\n",
       "⎢    ╲╱ μ⋅ρ     ⎥\n",
       "⎢               ⎥\n",
       "⎢       0       ⎥\n",
       "⎢               ⎥\n",
       "⎣       0       ⎦"
      ]
     },
     "metadata": {},
     "output_type": "display_data"
    }
   ],
   "source": [
    "from sympy import solve\n",
    "w_1, w_2, w_3, w_4 = symbols('w_1 w_2 w_3 w_4')\n",
    "w = Matrix([w_1, w_2, w_3, w_4])\n",
    "print(\"Действие оператора Omega^(-1) на вектор [w_1, w_2, w_3, w_4] имеет вид: \")\n",
    "display(Omega_inv * w)\n",
    "\n",
    "print('Зададим физическое условие (свободная граница):')\n",
    "print('sxx^(n+1) == 0,\\tsxy^(n+1) == 0')\n",
    "\n",
    "print('\\nПравая граница:')\n",
    "print(\"Физическое условие запишется в виде:\\nw_3 ==\")\n",
    "sol1 = solve((Omega_inv * w)[2], w_3)\n",
    "display(sol1[0])\n",
    "print('w_1 ==')\n",
    "sol2 = solve((Omega_inv * w)[3], w_1)\n",
    "display(sol2[0])\n",
    "print(\"Тогда итоговые формулы на правой границе примут вид:\")\n",
    "B = ((Omega_inv * w).subs(w_3, sol1[0])).subs(w_1, sol2[0])\n",
    "display(B)\n",
    "\n",
    "print('\\nЛевая граница:')\n",
    "print(\"Физическое условие запишется в виде:\\nw_4 ==\")\n",
    "sol1 = solve((Omega_inv * w)[2], w_4)\n",
    "display(sol1[0])\n",
    "print('w_2 ==')\n",
    "sol2 = solve((Omega_inv * w)[3], w_2)\n",
    "display(sol2[0])\n",
    "print(\"Тогда итоговые формулы на левой границе примут вид:\")\n",
    "B = ((Omega_inv * w).subs(w_4, sol1[0])).subs(w_2, sol2[0])\n",
    "display(B)"
   ]
  },
  {
   "cell_type": "code",
   "execution_count": null,
   "metadata": {},
   "outputs": [],
   "source": [
    "'''\n",
    "Правая граница:\n",
    "w1 = -2 * w_4 / np.sqrt(rho * (lam + 2 * mu))\n",
    "w2 = -2 * w_2 / np.sqrt(mu * rho)\n",
    "\n",
    "Левая граница\n",
    "w1 = 2 * w_3 / np.sqrt(rho * (lam + 2 * mu))\n",
    "w2 = 2 * w_1 / np.sqrt(mu * rho)\n",
    "'''"
   ]
  },
  {
   "cell_type": "code",
   "execution_count": 54,
   "metadata": {},
   "outputs": [
    {
     "name": "stdout",
     "output_type": "stream",
     "text": [
      "Скорость продольной волны 0.7071067811865476 м/с\n",
      "Скорость поперечной волны 0.408248290463863 м/с\n"
     ]
    },
    {
     "data": {
      "image/png": "[encoded data removed]",
      "text/plain": [
       "<Figure size 432x288 with 1 Axes>"
      ]
     },
     "metadata": {
      "needs_background": "light"
     },
     "output_type": "display_data"
    }
   ],
   "source": [
    "# Импортируем numpy для хранения результатов расчётов\n",
    "import numpy as np\n",
    "\n",
    "# Импортируем модуль matplolib для визуализации результатов\n",
    "import matplotlib.pyplot as plt\n",
    "\n",
    "# Определим параметры 1D упругой задачи\n",
    "L = 2.0 # x = [-1,1]\n",
    "rho = 6.0 # плотность в кг/м^3\n",
    "lam = 1.0 # sqrt((lam + 2 * mu) / rho) - скорость P волны в м/с\n",
    "mu = 1.0 # sqrt(mu / rho) - скорость S волны в м/с\n",
    "Cp = np.sqrt((lam + 2.0 * mu) / rho)\n",
    "Cs = np.sqrt(mu / rho)\n",
    "print(\"Скорость продольной волны\", Cp, \"м/с\")\n",
    "print(\"Скорость поперечной волны\", Cs, \"м/с\")\n",
    "T = 0.4 * L / Cp # время моделирования\n",
    "M = 201 # количество узлов вдоль оси\n",
    "h = L / M # шаг по координате, h\n",
    "dt = 0.4 * h / Cp # коэффициент должен быть меньше единицы\n",
    "# В каждом узле мы храним значение давления и скорости среды\n",
    "data_current = np.zeros(M, dtype=[('vx', np.float64), ('vy', np.float64),\n",
    "                                  ('sxx', np.float64), ('sxy', np.float64)])\n",
    "data_next = np.zeros(M, dtype=[('vx', np.float64), ('vy', np.float64),\n",
    "                                  ('sxx', np.float64), ('sxy', np.float64)])\n",
    "\n",
    "# Определим теперь функции, которые на основании Omega и Omega^(-1) умеют нам возвращать трансформированный вектор\n",
    "def Omega(q):\n",
    "    vx, vy, sxx, sxy = q\n",
    "    return (np.sqrt(mu * rho) / 2.0 * vy + sxy / 2.0,\n",
    "            -np.sqrt(mu * rho) / 2.0 * vy + sxy / 2.0,\n",
    "            np.sqrt(rho * (lam + 2.0 * mu)) / 2.0 * vx + sxx / 2.0,\n",
    "            -np.sqrt(rho * (lam + 2.0 * mu)) / 2.0 * vx + sxx / 2.0\n",
    "           )\n",
    "\n",
    "def OmegaInv(w1, w2, w3, w4):\n",
    "    return (1.0 / np.sqrt(rho * (lam + 2.0 * mu)) * w3 - 1.0 / np.sqrt(rho * (lam + 2.0 * mu)) * w4,\n",
    "            1.0 / np.sqrt(mu * rho) * w1 - 1.0 / np.sqrt(mu * rho) * w2,\n",
    "            w3 + w4,\n",
    "            w1 + w2\n",
    "           )\n",
    "\n",
    "# Начальные значения\n",
    "for i in range(int(1.0 / 3.0 * M), int(2.0 / 3.0 * M)):\n",
    "    # В виде продольной волны (P)\n",
    "    data_current[i]['sxx'] = 1.0\n",
    "    data_current[i]['vx']  = - data_current[i]['sxx'] / np.sqrt(rho * (lam + 2.0 * mu))\n",
    "    # В виде поперечной/ np.sqrt(rho * mu) волны (S)\n",
    "    data_current[i]['sxy'] = 2.0\n",
    "    data_current[i]['vy']  = - data_current[i]['sxy'] \n",
    "\n",
    "# Рисуем график до начала расчёта\n",
    "x_m = np.linspace(-1.0, L - 1.0, M)\n",
    "plt.plot(x_m, data_current['sxx'], label=\"Начальное Sxx\")\n",
    "plt.plot(x_m, data_current['sxy'], label=\"Начальное Sxy\")\n",
    "for j in range(int(T / dt)):\n",
    "    for i in range(M):\n",
    "        # w1 for -Cs, w2 for +Cs, w3 for -Cp, w4 for +Cp\n",
    "        # Переходим в инварианты Римана\n",
    "        w1, w2, w3, w4   = Omega(data_current[i])\n",
    "        if i == 0: # Левая граница области\n",
    "            w1n, w2n, w3n, w4n = Omega(data_current[i + 1])\n",
    "            w1p = 2 * w3n / np.sqrt(rho * (lam + 2 * mu))\n",
    "            w2p = 2 * w1n / np.sqrt(mu * rho)\n",
    "            w3p, w4p = 0, 0\n",
    "        elif i == M - 1: # Правая граница области\n",
    "            w1p, w2p, w3p, w4p = Omega(data_current[i - 1])\n",
    "            w1n = -2 * w4p / np.sqrt(rho * (lam + 2 * mu))\n",
    "            w2n = -2 * w2p / np.sqrt(mu * rho)\n",
    "            w3n, w4n = 0, 0\n",
    "        else: # Внутри области\n",
    "            w1p, w2p, w3p, w4p = Omega(data_current[i - 1])\n",
    "            w1n, w2n, w3n, w4n = Omega(data_current[i + 1])\n",
    "        # Решаем уравнения переноса на инварианты (правильно-сторонний шаблон)\n",
    "        w1_new = w1 + Cs * dt / h * (w1n - w1)\n",
    "        w2_new = w2 - Cs * dt / h * (w2 - w2p)\n",
    "        w3_new = w3 + Cp * dt / h * (w3n - w3)\n",
    "        w4_new = w4 - Cp * dt / h * (w4 - w4p)\n",
    "        # Возвращаемся в исходные переменные\n",
    "        data_next[i]['vx'], data_next[i]['vy'], data_next[i]['sxx'], data_next[i]['sxy']= OmegaInv(w1_new, w2_new, w3_new, w4_new)\n",
    "    # Обновляем весь слой\n",
    "    for i in range(M):\n",
    "        data_current[i] = data_next[i]\n",
    "    \n",
    "# Рисуем график по окончанию расчёта\n",
    "plt.plot(x_m, data_current['sxx'], label=\"Итоговое Sxx\")\n",
    "plt.plot(x_m, data_current['sxy'], label=\"Итоговое Sxy\")\n",
    "plt.legend()\n",
    "plt.show()"
   ]
  }
 ],
 "metadata": {
  "kernelspec": {
   "display_name": "Python 3",
   "language": "python",
   "name": "python3"
  },
  "language_info": {
   "codemirror_mode": {
    "name": "ipython",
    "version": 3
   },
   "file_extension": ".py",
   "mimetype": "text/x-python",
   "name": "python",
   "nbconvert_exporter": "python",
   "pygments_lexer": "ipython3",
   "version": "3.8.3"
  }
 },
 "nbformat": 4,
 "nbformat_minor": 4
}

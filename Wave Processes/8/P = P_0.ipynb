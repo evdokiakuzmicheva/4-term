{
 "cells": [
  {
   "cell_type": "code",
   "execution_count": 1,
   "metadata": {},
   "outputs": [
    {
     "name": "stdout",
     "output_type": "stream",
     "text": [
      "Let's deal with 1D problem.\n",
      "The matrix A = \n"
     ]
    },
    {
     "data": {
      "text/latex": [
       "$\\displaystyle \\left[\\begin{matrix}0 & \\frac{1}{\\rho}\\\\c^{2} \\rho & 0\\end{matrix}\\right]$"
      ],
      "text/plain": [
       "⎡      1⎤\n",
       "⎢ 0    ─⎥\n",
       "⎢      ρ⎥\n",
       "⎢       ⎥\n",
       "⎢ 2     ⎥\n",
       "⎣c ⋅ρ  0⎦"
      ]
     },
     "metadata": {},
     "output_type": "display_data"
    },
    {
     "name": "stdout",
     "output_type": "stream",
     "text": [
      "It has two eigenvalues: \n"
     ]
    },
    {
     "data": {
      "image/png": "[encoded data removed]",
      "text/latex": [
       "$\\displaystyle \\left\\{ - c : 1, \\  c : 1\\right\\}$"
      ],
      "text/plain": [
       "{-c: 1, c: 1}"
      ]
     },
     "metadata": {},
     "output_type": "display_data"
    },
    {
     "name": "stdout",
     "output_type": "stream",
     "text": [
      "It has two eigenvectors: \n"
     ]
    },
    {
     "data": {
      "text/latex": [
       "$\\displaystyle \\left[ \\left( - c, \\  1, \\  \\left[ \\left[\\begin{matrix}- \\frac{1}{c \\rho}\\\\1\\end{matrix}\\right]\\right]\\right), \\  \\left( c, \\  1, \\  \\left[ \\left[\\begin{matrix}\\frac{1}{c \\rho}\\\\1\\end{matrix}\\right]\\right]\\right)\\right]$"
      ],
      "text/plain": [
       "⎡⎛       ⎡⎡-1 ⎤⎤⎞  ⎛      ⎡⎡ 1 ⎤⎤⎞⎤\n",
       "⎢⎜       ⎢⎢───⎥⎥⎟  ⎜      ⎢⎢───⎥⎥⎟⎥\n",
       "⎢⎜-c, 1, ⎢⎢c⋅ρ⎥⎥⎟, ⎜c, 1, ⎢⎢c⋅ρ⎥⎥⎟⎥\n",
       "⎢⎜       ⎢⎢   ⎥⎥⎟  ⎜      ⎢⎢   ⎥⎥⎟⎥\n",
       "⎣⎝       ⎣⎣ 1 ⎦⎦⎠  ⎝      ⎣⎣ 1 ⎦⎦⎠⎦"
      ]
     },
     "metadata": {},
     "output_type": "display_data"
    },
    {
     "name": "stdout",
     "output_type": "stream",
     "text": [
      "Matrix of eigenvalues Lambda: \n"
     ]
    },
    {
     "data": {
      "text/latex": [
       "$\\displaystyle \\left[\\begin{matrix}- c & 0\\\\0 & c\\end{matrix}\\right]$"
      ],
      "text/plain": [
       "⎡-c  0⎤\n",
       "⎢     ⎥\n",
       "⎣0   c⎦"
      ]
     },
     "metadata": {},
     "output_type": "display_data"
    },
    {
     "name": "stdout",
     "output_type": "stream",
     "text": [
      "Omega^(-1) matrix: \n"
     ]
    },
    {
     "data": {
      "text/latex": [
       "$\\displaystyle \\left[\\begin{matrix}- \\frac{1}{c \\rho} & \\frac{1}{c \\rho}\\\\1 & 1\\end{matrix}\\right]$"
      ],
      "text/plain": [
       "⎡-1    1 ⎤\n",
       "⎢───  ───⎥\n",
       "⎢c⋅ρ  c⋅ρ⎥\n",
       "⎢        ⎥\n",
       "⎣ 1    1 ⎦"
      ]
     },
     "metadata": {},
     "output_type": "display_data"
    },
    {
     "name": "stdout",
     "output_type": "stream",
     "text": [
      "Omega matrix: \n"
     ]
    },
    {
     "data": {
      "text/latex": [
       "$\\displaystyle \\left[\\begin{matrix}- \\frac{c \\rho}{2} & \\frac{1}{2}\\\\\\frac{c \\rho}{2} & \\frac{1}{2}\\end{matrix}\\right]$"
      ],
      "text/plain": [
       "⎡-c⋅ρ      ⎤\n",
       "⎢─────  1/2⎥\n",
       "⎢  2       ⎥\n",
       "⎢          ⎥\n",
       "⎢ c⋅ρ      ⎥\n",
       "⎢ ───   1/2⎥\n",
       "⎣  2       ⎦"
      ]
     },
     "metadata": {},
     "output_type": "display_data"
    },
    {
     "name": "stdout",
     "output_type": "stream",
     "text": [
      "Omega^(-1) * Lambda * Omega: \n"
     ]
    },
    {
     "data": {
      "text/latex": [
       "$\\displaystyle \\left[\\begin{matrix}0 & \\frac{1}{\\rho}\\\\c^{2} \\rho & 0\\end{matrix}\\right]$"
      ],
      "text/plain": [
       "⎡      1⎤\n",
       "⎢ 0    ─⎥\n",
       "⎢      ρ⎥\n",
       "⎢       ⎥\n",
       "⎢ 2     ⎥\n",
       "⎣c ⋅ρ  0⎦"
      ]
     },
     "metadata": {},
     "output_type": "display_data"
    },
    {
     "name": "stdout",
     "output_type": "stream",
     "text": [
      "Again, A: \n"
     ]
    },
    {
     "data": {
      "text/latex": [
       "$\\displaystyle \\left[\\begin{matrix}0 & \\frac{1}{\\rho}\\\\c^{2} \\rho & 0\\end{matrix}\\right]$"
      ],
      "text/plain": [
       "⎡      1⎤\n",
       "⎢ 0    ─⎥\n",
       "⎢      ρ⎥\n",
       "⎢       ⎥\n",
       "⎢ 2     ⎥\n",
       "⎣c ⋅ρ  0⎦"
      ]
     },
     "metadata": {},
     "output_type": "display_data"
    }
   ],
   "source": [
    "# Проделаем аналитические выкладки, чтобы найти матрицу перехода в инварианты Римана\n",
    "\n",
    "# Импорт используемых модулей\n",
    "from sympy import Matrix, symbols, init_printing, diag\n",
    "init_printing()\n",
    "\n",
    "# Акустическая модель 1D\n",
    "rho, c = symbols(\"rho c\")\n",
    "print(\"Let's deal with 1D problem.\")\n",
    "A = Matrix([[0, 1 / rho],[rho * c**2, 0]]) # Создаём матрицу для 1D акустической задачи\n",
    "print(\"The matrix A = \")\n",
    "display(A)\n",
    "l = A.eigenvals() # Вычисляем её собственные значения\n",
    "print(\"It has two eigenvalues: \")\n",
    "display(l)\n",
    "e = A.eigenvects() # Вычисляем её собственные вектора\n",
    "print(\"It has two eigenvectors: \")\n",
    "display(e)\n",
    "# У нас справедливо тождество A = Omega^(-1) * Lambda * Omega\n",
    "Omega_inv = Matrix([[- 1 / (rho * c), 1 / (rho * c)], [1, 1]]) # Заполняем матрицу Omega^(-1)\n",
    "Omega = Omega_inv.inv() # Вычисляем матрицу Omega\n",
    "Lambda = diag(-c, c) # Заполняем матрицу Lambda\n",
    "# Проверим разложение\n",
    "print(\"Matrix of eigenvalues Lambda: \")\n",
    "display(Lambda)\n",
    "print(\"Omega^(-1) matrix: \")\n",
    "display(Omega_inv)\n",
    "print(\"Omega matrix: \")\n",
    "display(Omega)\n",
    "print(\"Omega^(-1) * Lambda * Omega: \")\n",
    "display(Omega_inv * Lambda * Omega)\n",
    "print(\"Again, A: \")\n",
    "display(A)"
   ]
  },
  {
   "cell_type": "code",
   "execution_count": 2,
   "metadata": {},
   "outputs": [
    {
     "name": "stdout",
     "output_type": "stream",
     "text": [
      "Действие оператора Omega на вектор [v, p] имеет вид: \n"
     ]
    },
    {
     "data": {
      "text/latex": [
       "$\\displaystyle \\left[\\begin{matrix}- \\frac{c \\rho v}{2} + \\frac{p}{2}\\\\\\frac{c \\rho v}{2} + \\frac{p}{2}\\end{matrix}\\right]$"
      ],
      "text/plain": [
       "⎡  c⋅ρ⋅v   p⎤\n",
       "⎢- ───── + ─⎥\n",
       "⎢    2     2⎥\n",
       "⎢           ⎥\n",
       "⎢ c⋅ρ⋅v   p ⎥\n",
       "⎢ ───── + ─ ⎥\n",
       "⎣   2     2 ⎦"
      ]
     },
     "metadata": {},
     "output_type": "display_data"
    },
    {
     "name": "stdout",
     "output_type": "stream",
     "text": [
      "Действие оператора Omega^(-1) на вектор [w_1, w_2] имеет вид: \n"
     ]
    },
    {
     "data": {
      "text/latex": [
       "$\\displaystyle \\left[\\begin{matrix}- \\frac{\\omega_{1}}{c \\rho} + \\frac{\\omega_{2}}{c \\rho}\\\\\\omega_{1} + \\omega_{2}\\end{matrix}\\right]$"
      ],
      "text/plain": [
       "⎡   ω₁    ω₂⎤\n",
       "⎢- ─── + ───⎥\n",
       "⎢  c⋅ρ   c⋅ρ⎥\n",
       "⎢           ⎥\n",
       "⎣  ω₁ + ω₂  ⎦"
      ]
     },
     "metadata": {},
     "output_type": "display_data"
    },
    {
     "name": "stdout",
     "output_type": "stream",
     "text": [
      "На правой границе мы не знаем значение инварианта w_1,т.к. он выходит за границу области.\n",
      "Но мы можем найти связь между w_1 и w_2, задав, например, физическое условие \tp^(n+1) == p_0.\n",
      "Оно имеет вид w_1 ==\n"
     ]
    },
    {
     "data": {
      "image/png": "[encoded data removed]",
      "text/latex": [
       "$\\displaystyle \\left[ - \\omega_{2} + p_{0}\\right]$"
      ],
      "text/plain": [
       "[-ω₂ + p₀]"
      ]
     },
     "metadata": {},
     "output_type": "display_data"
    },
    {
     "name": "stdout",
     "output_type": "stream",
     "text": [
      "Тогда итоговые формулы на правой границе примут вид:\n"
     ]
    },
    {
     "data": {
      "text/latex": [
       "$\\displaystyle \\left[\\begin{matrix}\\frac{\\omega_{2}}{c \\rho} - \\frac{- \\omega_{2} + p_{0}}{c \\rho}\\\\p_{0}\\end{matrix}\\right]$"
      ],
      "text/plain": [
       "⎡ ω₂   -ω₂ + p₀⎤\n",
       "⎢─── - ────────⎥\n",
       "⎢c⋅ρ     c⋅ρ   ⎥\n",
       "⎢              ⎥\n",
       "⎣      p₀      ⎦"
      ]
     },
     "metadata": {},
     "output_type": "display_data"
    },
    {
     "name": "stdout",
     "output_type": "stream",
     "text": [
      "На левой границе мы не знаем значение инварианта w_2,т.к. он выходит за границу области.\n",
      "Но мы можем найти связь между w_1 и w_2, задав, например, физическое условие \tp^(n+1) == p_0.\n",
      "Оно имеет вид w_2 ==\n"
     ]
    },
    {
     "data": {
      "image/png": "[encoded data removed]",
      "text/latex": [
       "$\\displaystyle \\left[ - \\omega_{1} + p_{0}\\right]$"
      ],
      "text/plain": [
       "[-ω₁ + p₀]"
      ]
     },
     "metadata": {},
     "output_type": "display_data"
    },
    {
     "name": "stdout",
     "output_type": "stream",
     "text": [
      "Тогда итоговые формулы на левой границе примут вид:\n"
     ]
    },
    {
     "data": {
      "text/latex": [
       "$\\displaystyle \\left[\\begin{matrix}- \\frac{\\omega_{1}}{c \\rho} + \\frac{- \\omega_{1} + p_{0}}{c \\rho}\\\\p_{0}\\end{matrix}\\right]$"
      ],
      "text/plain": [
       "⎡   ω₁   -ω₁ + p₀⎤\n",
       "⎢- ─── + ────────⎥\n",
       "⎢  c⋅ρ     c⋅ρ   ⎥\n",
       "⎢                ⎥\n",
       "⎣       p₀       ⎦"
      ]
     },
     "metadata": {},
     "output_type": "display_data"
    }
   ],
   "source": [
    "# Аналитически получим формулы, применимые в граничных узлах\n",
    "from sympy import solve\n",
    "w_1, w_2 = symbols(\"omega_1 omega_2\")\n",
    "w = Matrix([w_1, w_2])\n",
    "v, p = symbols(\"v p\")\n",
    "p_0 = symbols('p_0')\n",
    "q = Matrix([v, p])\n",
    "print(\"Действие оператора Omega на вектор [v, p] имеет вид: \")\n",
    "display(Omega * q)\n",
    "print(\"Действие оператора Omega^(-1) на вектор [w_1, w_2] имеет вид: \")\n",
    "display(Omega_inv * w)\n",
    "print(\"На правой границе мы не знаем значение инварианта w_1,\"\n",
    "      \"т.к. он выходит за границу области.\")\n",
    "print(\"Но мы можем найти связь между w_1 и w_2, задав, например, физическое условие \\tp^(n+1) == p_0.\")\n",
    "print(\"Оно имеет вид w_1 ==\")\n",
    "sol = solve((Omega_inv * w)[1] - p_0, w_1)\n",
    "display(sol)\n",
    "print(\"Тогда итоговые формулы на правой границе примут вид:\")\n",
    "display((Omega_inv * w).subs(w_1, sol[0]))\n",
    "\n",
    "print(\"На левой границе мы не знаем значение инварианта w_2,\"\n",
    "      \"т.к. он выходит за границу области.\")\n",
    "print(\"Но мы можем найти связь между w_1 и w_2, задав, например, физическое условие \\tp^(n+1) == p_0.\")\n",
    "print(\"Оно имеет вид w_2 ==\")\n",
    "sol = solve((Omega_inv * w)[1] - p_0, w_2)\n",
    "display(sol)\n",
    "print(\"Тогда итоговые формулы на левой границе примут вид:\")\n",
    "display((Omega_inv * w).subs(w_2, sol[0]))"
   ]
  },
  {
   "cell_type": "code",
   "execution_count": 4,
   "metadata": {},
   "outputs": [
    {
     "data": {
      "image/png": "[encoded data removed]",
      "text/plain": [
       "<Figure size 432x288 with 1 Axes>"
      ]
     },
     "metadata": {
      "needs_background": "light"
     },
     "output_type": "display_data"
    }
   ],
   "source": [
    "# Импортируем numpy для хранения результатов расчётов\n",
    "import numpy as np\n",
    "\n",
    "# Импортируем модуль matplolib для визуализации результатов\n",
    "import matplotlib.pyplot as plt\n",
    "\n",
    "# Определим параметры 1D акустической задачи\n",
    "L = 2.0 # x = [-1,1]\n",
    "rho = 3.0 # плотность в кг/м^3\n",
    "c = 1.0 # скорость волны в м/с\n",
    "T = 0.1 * L / c # время моделирования - отражение от правой границы\n",
    "#T = 2.0 * L / c # время моделирования - отражение ещё и от левой границы\n",
    "M = 201 # количество узлов вдоль оси\n",
    "h = L / M # шаг по координате, h\n",
    "dt = 0.4 * h / c # коэффициент должен быть меньше единицы\n",
    "# В каждом узле мы храним значение давления и скорости среды\n",
    "data_current = np.zeros(M, dtype=[('v', np.float64), ('p', np.float64)])\n",
    "data_next = np.zeros(M, dtype=[('v', np.float64), ('p', np.float64)])\n",
    "p_0 = 0.5\n",
    "\n",
    "# Определим теперь функции, которые на основании Omega и Omega^(-1) умеют нам возвращать трансформированный вектор\n",
    "def Omega(q):\n",
    "    v, p = q\n",
    "    return (-rho * c / 2.0 * v + p / 2.0, rho * c / 2.0 * v + p / 2.0)\n",
    "\n",
    "def OmegaInv(w1, w2):\n",
    "    return (- w1 / (rho * c) + w2 / (rho * c), w1 + w2)\n",
    "\n",
    "# Начальные значения в виде продольной волны\n",
    "for i in range(int(1.0 / 3.0 * M), int(2.0 / 3.0 * M)):\n",
    "    data_current[i]['v'] = 1.0\n",
    "    data_current[i]['p'] = rho * c * data_current[i]['v'] # -rho * c / 2 * V + P / 2 = 0\n",
    "\n",
    "# Рисуем график до начала расчёта\n",
    "x_m = np.linspace(-1.0, L - 1.0, M)\n",
    "plt.plot(x_m, data_current['p'], label=\"Начальное значение давления\")\n",
    "plt.plot(x_m, data_current['v'], label=\"Начальное значение скорости\")\n",
    "for j in range(int(T / dt)):\n",
    "    for i in range(M):\n",
    "        # w1 for -c, w2 for +c\n",
    "        if i == 0: # Левая граница области, здесь обеспечим p == 0\n",
    "            w1, _  = Omega(data_current[i])\n",
    "            w1n, _ = Omega(data_current[i + 1])\n",
    "            w1_new = w1 + c * dt / h * (w1n - w1)\n",
    "            data_next[i]['v'], data_next[i]['p'] = (-2 * w1 + p_0) / (c * rho), p_0\n",
    "        elif i == M - 1: # Правая граница области, здесь обеспечим p == 0\n",
    "            _, w2  = Omega(data_current[i])\n",
    "            _, w2p = Omega(data_current[i - 1])\n",
    "            w2_new = w2 - c * dt / h * (w2 - w2p)\n",
    "            data_next[i]['v'], data_next[i]['p'] = (2 * w2 - p_0) / (c * rho), p_0\n",
    "        else: # Внутри области\n",
    "            w1, w2   = Omega(data_current[i])\n",
    "            w1p, w2p = Omega(data_current[i - 1])\n",
    "            w1n, w2n = Omega(data_current[i + 1])\n",
    "            # Решаем уравнения переноса на инварианты (правильно-сторонний шаблон)\n",
    "            w1_new = w1 + c * dt / h * (w1n - w1)\n",
    "            w2_new = w2 - c * dt / h * (w2 - w2p)\n",
    "            # Возвращаемся в исходные переменные\n",
    "            data_next[i]['v'], data_next[i]['p'] = OmegaInv(w1_new, w2_new)\n",
    "    # Обновляем весь слой\n",
    "    for i in range(M):\n",
    "        data_current[i] = data_next[i]\n",
    "    \n",
    "# Рисуем график по окончанию расчёта\n",
    "plt.plot(x_m, data_current['p'], label=\"Итоговое значение давления\")\n",
    "plt.plot(x_m, data_current['v'], label=\"Итоговое значение скорости\")\n",
    "plt.legend()\n",
    "plt.show()"
   ]
  },
  {
   "cell_type": "code",
   "execution_count": null,
   "metadata": {},
   "outputs": [],
   "source": []
  }
 ],
 "metadata": {
  "kernelspec": {
   "display_name": "Python 3",
   "language": "python",
   "name": "python3"
  },
  "language_info": {
   "codemirror_mode": {
    "name": "ipython",
    "version": 3
   },
   "file_extension": ".py",
   "mimetype": "text/x-python",
   "name": "python",
   "nbconvert_exporter": "python",
   "pygments_lexer": "ipython3",
   "version": "3.8.3"
  }
 },
 "nbformat": 4,
 "nbformat_minor": 4
}
